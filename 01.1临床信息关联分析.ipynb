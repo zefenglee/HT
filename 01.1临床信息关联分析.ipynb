{
 "cells": [
  {
   "cell_type": "code",
   "execution_count": 1,
   "id": "initial_id",
   "metadata": {
    "collapsed": true,
    "ExecuteTime": {
     "end_time": "2024-01-08T06:19:35.818870900Z",
     "start_time": "2024-01-08T06:19:34.829447700Z"
    }
   },
   "outputs": [],
   "source": [
    "import pandas as pd\n",
    "import numpy as np\n",
    "import scipy as sci"
   ]
  },
  {
   "cell_type": "code",
   "execution_count": 2,
   "outputs": [
    {
     "data": {
      "text/plain": "   sample Sex  Age  Weight Marital_status  Thyroid_size     Blood_flow    SWE  \\\n0      C1   M   33    85.0        Married        0.2440         Normal  23.55   \n1     C10   F   55    58.0        Married        0.1728         Normal  13.27   \n2     C12   F   33    65.0        Married        0.1924         Normal  13.60   \n3     C14   F   35    54.0        Married        0.1557         Normal   9.90   \n4     C15   F   33    53.0       Spinster        0.1952         Normal  15.75   \n..    ...  ..  ...     ...            ...           ...            ...    ...   \n56    T47   F   59    72.5        Married        0.1591           Rich  41.55   \n57     T5   F   53    60.0        Married        0.1401  Slightly rich  55.97   \n58    T50   F   57    59.0        Married        0.2904           Rich  43.33   \n59     T6   F   29    59.0       Spinster        0.2967           Rich  46.70   \n60     T7   F   61    54.0        Married        0.2410           Rich  50.53   \n\n     FT3    FT4   TSH  TPO_Ab   TG_Ab Group  \n0   3.36  12.71  0.83   25.52    9.82     C  \n1   3.27  12.30  3.44    3.20   78.09     C  \n2   4.14  15.35  3.15   12.85   34.03     C  \n3   3.14  14.24  0.77    4.02   18.67     C  \n4   3.86  12.74  0.87    5.09   40.46     C  \n..   ...    ...   ...     ...     ...   ...  \n56  5.36  20.13  4.57  402.93  494.69     T  \n57  3.23  18.61  4.77  241.74  553.81     T  \n58  5.64  20.66  7.09  895.97  917.29     T  \n59  3.35  14.31  4.64  745.03  887.38     T  \n60  5.21  13.48  4.62  656.30  901.43     T  \n\n[61 rows x 14 columns]",
      "text/html": "<div>\n<style scoped>\n    .dataframe tbody tr th:only-of-type {\n        vertical-align: middle;\n    }\n\n    .dataframe tbody tr th {\n        vertical-align: top;\n    }\n\n    .dataframe thead th {\n        text-align: right;\n    }\n</style>\n<table border=\"1\" class=\"dataframe\">\n  <thead>\n    <tr style=\"text-align: right;\">\n      <th></th>\n      <th>sample</th>\n      <th>Sex</th>\n      <th>Age</th>\n      <th>Weight</th>\n      <th>Marital_status</th>\n      <th>Thyroid_size</th>\n      <th>Blood_flow</th>\n      <th>SWE</th>\n      <th>FT3</th>\n      <th>FT4</th>\n      <th>TSH</th>\n      <th>TPO_Ab</th>\n      <th>TG_Ab</th>\n      <th>Group</th>\n    </tr>\n  </thead>\n  <tbody>\n    <tr>\n      <th>0</th>\n      <td>C1</td>\n      <td>M</td>\n      <td>33</td>\n      <td>85.0</td>\n      <td>Married</td>\n      <td>0.2440</td>\n      <td>Normal</td>\n      <td>23.55</td>\n      <td>3.36</td>\n      <td>12.71</td>\n      <td>0.83</td>\n      <td>25.52</td>\n      <td>9.82</td>\n      <td>C</td>\n    </tr>\n    <tr>\n      <th>1</th>\n      <td>C10</td>\n      <td>F</td>\n      <td>55</td>\n      <td>58.0</td>\n      <td>Married</td>\n      <td>0.1728</td>\n      <td>Normal</td>\n      <td>13.27</td>\n      <td>3.27</td>\n      <td>12.30</td>\n      <td>3.44</td>\n      <td>3.20</td>\n      <td>78.09</td>\n      <td>C</td>\n    </tr>\n    <tr>\n      <th>2</th>\n      <td>C12</td>\n      <td>F</td>\n      <td>33</td>\n      <td>65.0</td>\n      <td>Married</td>\n      <td>0.1924</td>\n      <td>Normal</td>\n      <td>13.60</td>\n      <td>4.14</td>\n      <td>15.35</td>\n      <td>3.15</td>\n      <td>12.85</td>\n      <td>34.03</td>\n      <td>C</td>\n    </tr>\n    <tr>\n      <th>3</th>\n      <td>C14</td>\n      <td>F</td>\n      <td>35</td>\n      <td>54.0</td>\n      <td>Married</td>\n      <td>0.1557</td>\n      <td>Normal</td>\n      <td>9.90</td>\n      <td>3.14</td>\n      <td>14.24</td>\n      <td>0.77</td>\n      <td>4.02</td>\n      <td>18.67</td>\n      <td>C</td>\n    </tr>\n    <tr>\n      <th>4</th>\n      <td>C15</td>\n      <td>F</td>\n      <td>33</td>\n      <td>53.0</td>\n      <td>Spinster</td>\n      <td>0.1952</td>\n      <td>Normal</td>\n      <td>15.75</td>\n      <td>3.86</td>\n      <td>12.74</td>\n      <td>0.87</td>\n      <td>5.09</td>\n      <td>40.46</td>\n      <td>C</td>\n    </tr>\n    <tr>\n      <th>...</th>\n      <td>...</td>\n      <td>...</td>\n      <td>...</td>\n      <td>...</td>\n      <td>...</td>\n      <td>...</td>\n      <td>...</td>\n      <td>...</td>\n      <td>...</td>\n      <td>...</td>\n      <td>...</td>\n      <td>...</td>\n      <td>...</td>\n      <td>...</td>\n    </tr>\n    <tr>\n      <th>56</th>\n      <td>T47</td>\n      <td>F</td>\n      <td>59</td>\n      <td>72.5</td>\n      <td>Married</td>\n      <td>0.1591</td>\n      <td>Rich</td>\n      <td>41.55</td>\n      <td>5.36</td>\n      <td>20.13</td>\n      <td>4.57</td>\n      <td>402.93</td>\n      <td>494.69</td>\n      <td>T</td>\n    </tr>\n    <tr>\n      <th>57</th>\n      <td>T5</td>\n      <td>F</td>\n      <td>53</td>\n      <td>60.0</td>\n      <td>Married</td>\n      <td>0.1401</td>\n      <td>Slightly rich</td>\n      <td>55.97</td>\n      <td>3.23</td>\n      <td>18.61</td>\n      <td>4.77</td>\n      <td>241.74</td>\n      <td>553.81</td>\n      <td>T</td>\n    </tr>\n    <tr>\n      <th>58</th>\n      <td>T50</td>\n      <td>F</td>\n      <td>57</td>\n      <td>59.0</td>\n      <td>Married</td>\n      <td>0.2904</td>\n      <td>Rich</td>\n      <td>43.33</td>\n      <td>5.64</td>\n      <td>20.66</td>\n      <td>7.09</td>\n      <td>895.97</td>\n      <td>917.29</td>\n      <td>T</td>\n    </tr>\n    <tr>\n      <th>59</th>\n      <td>T6</td>\n      <td>F</td>\n      <td>29</td>\n      <td>59.0</td>\n      <td>Spinster</td>\n      <td>0.2967</td>\n      <td>Rich</td>\n      <td>46.70</td>\n      <td>3.35</td>\n      <td>14.31</td>\n      <td>4.64</td>\n      <td>745.03</td>\n      <td>887.38</td>\n      <td>T</td>\n    </tr>\n    <tr>\n      <th>60</th>\n      <td>T7</td>\n      <td>F</td>\n      <td>61</td>\n      <td>54.0</td>\n      <td>Married</td>\n      <td>0.2410</td>\n      <td>Rich</td>\n      <td>50.53</td>\n      <td>5.21</td>\n      <td>13.48</td>\n      <td>4.62</td>\n      <td>656.30</td>\n      <td>901.43</td>\n      <td>T</td>\n    </tr>\n  </tbody>\n</table>\n<p>61 rows × 14 columns</p>\n</div>"
     },
     "execution_count": 2,
     "metadata": {},
     "output_type": "execute_result"
    }
   ],
   "source": [
    "clinical_data = pd.read_csv('F:/my projects/02.论文/论文四_桥本甲状腺炎/Project/Datas/Datas/样本临床信息_预处理.csv')\n",
    "clinical_data"
   ],
   "metadata": {
    "collapsed": false,
    "ExecuteTime": {
     "end_time": "2024-01-08T06:19:35.840819700Z",
     "start_time": "2024-01-08T06:19:35.817874200Z"
    }
   },
   "id": "78cd57f692ff7762"
  },
  {
   "cell_type": "code",
   "execution_count": 43,
   "outputs": [],
   "source": [
    "cat_cols = [\"Sex\",\"Marital_status\"]\n",
    "num_cols = [\"Age\",\"Weight\",\"Thyroid_size\"\n",
    "              ,\"SWE\",\"FT3\",\"FT4\"\n",
    "              ,\"TSH\",\"TPO_Ab\",\"TG_Ab\"]"
   ],
   "metadata": {
    "collapsed": false,
    "ExecuteTime": {
     "end_time": "2024-01-08T06:33:02.014175500Z",
     "start_time": "2024-01-08T06:33:01.985129600Z"
    }
   },
   "id": "2a12dd5eac63d687"
  },
  {
   "cell_type": "code",
   "execution_count": 11,
   "outputs": [
    {
     "data": {
      "text/plain": "             Age                Weight           Thyroid_size            \\\n            mean        std       mean       std         mean       std   \nGroup                                                                     \nC      41.800000  13.624015  59.233333  7.600741     0.197983  0.027511   \nT      42.129032  12.208582  60.080645  9.649781     0.267768  0.081615   \n\n             SWE                 FT3                  FT4                 TSH  \\\n            mean       std      mean       std       mean       std      mean   \nGroup                                                                           \nC      14.294000  5.152144  3.702667  0.550560  14.206333  1.729958  1.681000   \nT      43.336129  9.994206  4.284194  0.753626  16.581613  2.584214  5.045806   \n\n                     TPO_Ab                   TG_Ab              \n            std        mean         std        mean         std  \nGroup                                                            \nC      1.061750   11.910000    7.600729   31.929000   25.357519  \nT      0.821522  568.439032  294.900514  697.764194  270.174999  ",
      "text/html": "<div>\n<style scoped>\n    .dataframe tbody tr th:only-of-type {\n        vertical-align: middle;\n    }\n\n    .dataframe tbody tr th {\n        vertical-align: top;\n    }\n\n    .dataframe thead tr th {\n        text-align: left;\n    }\n\n    .dataframe thead tr:last-of-type th {\n        text-align: right;\n    }\n</style>\n<table border=\"1\" class=\"dataframe\">\n  <thead>\n    <tr>\n      <th></th>\n      <th colspan=\"2\" halign=\"left\">Age</th>\n      <th colspan=\"2\" halign=\"left\">Weight</th>\n      <th colspan=\"2\" halign=\"left\">Thyroid_size</th>\n      <th colspan=\"2\" halign=\"left\">SWE</th>\n      <th colspan=\"2\" halign=\"left\">FT3</th>\n      <th colspan=\"2\" halign=\"left\">FT4</th>\n      <th colspan=\"2\" halign=\"left\">TSH</th>\n      <th colspan=\"2\" halign=\"left\">TPO_Ab</th>\n      <th colspan=\"2\" halign=\"left\">TG_Ab</th>\n    </tr>\n    <tr>\n      <th></th>\n      <th>mean</th>\n      <th>std</th>\n      <th>mean</th>\n      <th>std</th>\n      <th>mean</th>\n      <th>std</th>\n      <th>mean</th>\n      <th>std</th>\n      <th>mean</th>\n      <th>std</th>\n      <th>mean</th>\n      <th>std</th>\n      <th>mean</th>\n      <th>std</th>\n      <th>mean</th>\n      <th>std</th>\n      <th>mean</th>\n      <th>std</th>\n    </tr>\n    <tr>\n      <th>Group</th>\n      <th></th>\n      <th></th>\n      <th></th>\n      <th></th>\n      <th></th>\n      <th></th>\n      <th></th>\n      <th></th>\n      <th></th>\n      <th></th>\n      <th></th>\n      <th></th>\n      <th></th>\n      <th></th>\n      <th></th>\n      <th></th>\n      <th></th>\n      <th></th>\n    </tr>\n  </thead>\n  <tbody>\n    <tr>\n      <th>C</th>\n      <td>41.800000</td>\n      <td>13.624015</td>\n      <td>59.233333</td>\n      <td>7.600741</td>\n      <td>0.197983</td>\n      <td>0.027511</td>\n      <td>14.294000</td>\n      <td>5.152144</td>\n      <td>3.702667</td>\n      <td>0.550560</td>\n      <td>14.206333</td>\n      <td>1.729958</td>\n      <td>1.681000</td>\n      <td>1.061750</td>\n      <td>11.910000</td>\n      <td>7.600729</td>\n      <td>31.929000</td>\n      <td>25.357519</td>\n    </tr>\n    <tr>\n      <th>T</th>\n      <td>42.129032</td>\n      <td>12.208582</td>\n      <td>60.080645</td>\n      <td>9.649781</td>\n      <td>0.267768</td>\n      <td>0.081615</td>\n      <td>43.336129</td>\n      <td>9.994206</td>\n      <td>4.284194</td>\n      <td>0.753626</td>\n      <td>16.581613</td>\n      <td>2.584214</td>\n      <td>5.045806</td>\n      <td>0.821522</td>\n      <td>568.439032</td>\n      <td>294.900514</td>\n      <td>697.764194</td>\n      <td>270.174999</td>\n    </tr>\n  </tbody>\n</table>\n</div>"
     },
     "execution_count": 11,
     "metadata": {},
     "output_type": "execute_result"
    }
   ],
   "source": [
    "clinical_data[num_cols+['Group']].groupby('Group').agg([np.mean,np.std])"
   ],
   "metadata": {
    "collapsed": false,
    "ExecuteTime": {
     "end_time": "2024-01-08T06:21:49.017932800Z",
     "start_time": "2024-01-08T06:21:49.001572300Z"
    }
   },
   "id": "e1f1db9287649c3f"
  },
  {
   "cell_type": "code",
   "execution_count": 35,
   "outputs": [],
   "source": [
    "d = {}\n",
    "d['C']={}\n",
    "d['T']={}\n",
    "d['P_value']={}\n",
    "for i in num_cols:\n",
    "    data = clinical_data[[i,'Group']]\n",
    "    T=data[i][data['Group']=='T']\n",
    "    C=data[i][data['Group']=='C']\n",
    "    p_value = sci.stats.ttest_ind(T,C)[1]\n",
    "    stat = data.groupby('Group').agg([np.mean,np.std])\n",
    "    mean_C = stat.loc['C',(i,'mean')]\n",
    "    std_C = stat.loc['C',(i,'std')]\n",
    "    d['C'][i]='{:.1f}'.format(mean_C)+'±'+'{:.1f}'.format(std_C)\n",
    "    mean_T = stat.loc['T',(i,'mean')]\n",
    "    std_T = stat.loc['T',(i,'std')]\n",
    "    # if p_value<0.05:\n",
    "    #     d['T'][i]='{:.1f}'.format(mean_T)+'±'+'{:.1f}'.format(std_T)+'*'\n",
    "    # else:\n",
    "    d['T'][i]='{:.1f}'.format(mean_T)+'±'+'{:.1f}'.format(std_T)\n",
    "    d['P_value'][i] = '{:.2e}'.format(p_value)\n",
    "    "
   ],
   "metadata": {
    "collapsed": false,
    "ExecuteTime": {
     "end_time": "2024-01-08T06:26:47.869281900Z",
     "start_time": "2024-01-08T06:26:47.835334200Z"
    }
   },
   "id": "cc86de334ef77694"
  },
  {
   "cell_type": "code",
   "execution_count": 36,
   "outputs": [],
   "source": [
    "d=pd.DataFrame(d)"
   ],
   "metadata": {
    "collapsed": false,
    "ExecuteTime": {
     "end_time": "2024-01-08T06:26:48.540448700Z",
     "start_time": "2024-01-08T06:26:48.531467400Z"
    }
   },
   "id": "a1988abc7ae6ed74"
  },
  {
   "cell_type": "code",
   "execution_count": 37,
   "outputs": [
    {
     "data": {
      "text/plain": "                      C            T   P_value\nAge           41.8±13.6    42.1±12.2  9.21e-01\nWeight         59.2±7.6     60.1±9.6  7.05e-01\nThyroid_size    0.2±0.0      0.3±0.1  3.95e-05\nSWE            14.3±5.2    43.3±10.0  1.11e-20\nFT3             3.7±0.6      4.3±0.8  1.10e-03\nFT4            14.2±1.7     16.6±2.6  9.02e-05\nTSH             1.7±1.1      5.0±0.8  3.17e-20\nTPO_Ab         11.9±7.6  568.4±294.9  7.50e-15\nTG_Ab         31.9±25.4  697.8±270.2  1.32e-19",
      "text/html": "<div>\n<style scoped>\n    .dataframe tbody tr th:only-of-type {\n        vertical-align: middle;\n    }\n\n    .dataframe tbody tr th {\n        vertical-align: top;\n    }\n\n    .dataframe thead th {\n        text-align: right;\n    }\n</style>\n<table border=\"1\" class=\"dataframe\">\n  <thead>\n    <tr style=\"text-align: right;\">\n      <th></th>\n      <th>C</th>\n      <th>T</th>\n      <th>P_value</th>\n    </tr>\n  </thead>\n  <tbody>\n    <tr>\n      <th>Age</th>\n      <td>41.8±13.6</td>\n      <td>42.1±12.2</td>\n      <td>9.21e-01</td>\n    </tr>\n    <tr>\n      <th>Weight</th>\n      <td>59.2±7.6</td>\n      <td>60.1±9.6</td>\n      <td>7.05e-01</td>\n    </tr>\n    <tr>\n      <th>Thyroid_size</th>\n      <td>0.2±0.0</td>\n      <td>0.3±0.1</td>\n      <td>3.95e-05</td>\n    </tr>\n    <tr>\n      <th>SWE</th>\n      <td>14.3±5.2</td>\n      <td>43.3±10.0</td>\n      <td>1.11e-20</td>\n    </tr>\n    <tr>\n      <th>FT3</th>\n      <td>3.7±0.6</td>\n      <td>4.3±0.8</td>\n      <td>1.10e-03</td>\n    </tr>\n    <tr>\n      <th>FT4</th>\n      <td>14.2±1.7</td>\n      <td>16.6±2.6</td>\n      <td>9.02e-05</td>\n    </tr>\n    <tr>\n      <th>TSH</th>\n      <td>1.7±1.1</td>\n      <td>5.0±0.8</td>\n      <td>3.17e-20</td>\n    </tr>\n    <tr>\n      <th>TPO_Ab</th>\n      <td>11.9±7.6</td>\n      <td>568.4±294.9</td>\n      <td>7.50e-15</td>\n    </tr>\n    <tr>\n      <th>TG_Ab</th>\n      <td>31.9±25.4</td>\n      <td>697.8±270.2</td>\n      <td>1.32e-19</td>\n    </tr>\n  </tbody>\n</table>\n</div>"
     },
     "execution_count": 37,
     "metadata": {},
     "output_type": "execute_result"
    }
   ],
   "source": [
    "d"
   ],
   "metadata": {
    "collapsed": false,
    "ExecuteTime": {
     "end_time": "2024-01-08T06:26:48.807322600Z",
     "start_time": "2024-01-08T06:26:48.801562500Z"
    }
   },
   "id": "cd93f9c6f55d8052"
  },
  {
   "cell_type": "code",
   "execution_count": 42,
   "outputs": [
    {
     "name": "stdout",
     "output_type": "stream",
     "text": [
      "31\n",
      "28\n"
     ]
    }
   ],
   "source": [
    "female_C = sum((clinical_data.Sex=='F')&(clinical_data.Group=='C'))\n",
    "female_T = sum((clinical_data.Sex=='F')&(clinical_data.Group=='T'))\n",
    "print(female_T)\n",
    "print(female_C)"
   ],
   "metadata": {
    "collapsed": false,
    "ExecuteTime": {
     "end_time": "2024-01-08T06:27:52.141039800Z",
     "start_time": "2024-01-08T06:27:52.130823300Z"
    }
   },
   "id": "246c85ad23a65ae6"
  },
  {
   "cell_type": "code",
   "execution_count": 40,
   "outputs": [
    {
     "ename": "ValueError",
     "evalue": "could not broadcast input array from shape (2,) into shape (3,)",
     "output_type": "error",
     "traceback": [
      "\u001B[1;31m---------------------------------------------------------------------------\u001B[0m",
      "\u001B[1;31mValueError\u001B[0m                                Traceback (most recent call last)",
      "Cell \u001B[1;32mIn[40], line 1\u001B[0m\n\u001B[1;32m----> 1\u001B[0m \u001B[43md\u001B[49m\u001B[38;5;241;43m.\u001B[39;49m\u001B[43mloc\u001B[49m\u001B[43m[\u001B[49m\u001B[38;5;124;43m'\u001B[39;49m\u001B[38;5;124;43mSex(Female)\u001B[39;49m\u001B[38;5;124;43m'\u001B[39;49m\u001B[43m,\u001B[49m\u001B[43m]\u001B[49m\u001B[38;5;241m=\u001B[39m\u001B[38;5;124m'\u001B[39m\u001B[38;5;132;01m{}\u001B[39;00m\u001B[38;5;124m(\u001B[39m\u001B[38;5;132;01m{:.0f}\u001B[39;00m\u001B[38;5;124m%\u001B[39m\u001B[38;5;124m)\u001B[39m\u001B[38;5;124m'\u001B[39m\u001B[38;5;241m.\u001B[39mformat(female_C,female_C\u001B[38;5;241m/\u001B[39m\u001B[38;5;241m30\u001B[39m\u001B[38;5;241m*\u001B[39m\u001B[38;5;241m100\u001B[39m),\u001B[38;5;124m'\u001B[39m\u001B[38;5;132;01m{}\u001B[39;00m\u001B[38;5;124m(\u001B[39m\u001B[38;5;132;01m{:.0f}\u001B[39;00m\u001B[38;5;124m%\u001B[39m\u001B[38;5;124m)\u001B[39m\u001B[38;5;124m'\u001B[39m\u001B[38;5;241m.\u001B[39mformat(female_T,female_T\u001B[38;5;241m/\u001B[39m\u001B[38;5;241m31\u001B[39m\u001B[38;5;241m*\u001B[39m\u001B[38;5;241m100\u001B[39m)\n",
      "File \u001B[1;32mF:\\pycharm project\\venv\\Lib\\site-packages\\pandas\\core\\indexing.py:818\u001B[0m, in \u001B[0;36m_LocationIndexer.__setitem__\u001B[1;34m(self, key, value)\u001B[0m\n\u001B[0;32m    815\u001B[0m \u001B[38;5;28mself\u001B[39m\u001B[38;5;241m.\u001B[39m_has_valid_setitem_indexer(key)\n\u001B[0;32m    817\u001B[0m iloc \u001B[38;5;241m=\u001B[39m \u001B[38;5;28mself\u001B[39m \u001B[38;5;28;01mif\u001B[39;00m \u001B[38;5;28mself\u001B[39m\u001B[38;5;241m.\u001B[39mname \u001B[38;5;241m==\u001B[39m \u001B[38;5;124m\"\u001B[39m\u001B[38;5;124miloc\u001B[39m\u001B[38;5;124m\"\u001B[39m \u001B[38;5;28;01melse\u001B[39;00m \u001B[38;5;28mself\u001B[39m\u001B[38;5;241m.\u001B[39mobj\u001B[38;5;241m.\u001B[39miloc\n\u001B[1;32m--> 818\u001B[0m \u001B[43miloc\u001B[49m\u001B[38;5;241;43m.\u001B[39;49m\u001B[43m_setitem_with_indexer\u001B[49m\u001B[43m(\u001B[49m\u001B[43mindexer\u001B[49m\u001B[43m,\u001B[49m\u001B[43m \u001B[49m\u001B[43mvalue\u001B[49m\u001B[43m,\u001B[49m\u001B[43m \u001B[49m\u001B[38;5;28;43mself\u001B[39;49m\u001B[38;5;241;43m.\u001B[39;49m\u001B[43mname\u001B[49m\u001B[43m)\u001B[49m\n",
      "File \u001B[1;32mF:\\pycharm project\\venv\\Lib\\site-packages\\pandas\\core\\indexing.py:1797\u001B[0m, in \u001B[0;36m_iLocIndexer._setitem_with_indexer\u001B[1;34m(self, indexer, value, name)\u001B[0m\n\u001B[0;32m   1795\u001B[0m     \u001B[38;5;28mself\u001B[39m\u001B[38;5;241m.\u001B[39m_setitem_with_indexer_split_path(indexer, value, name)\n\u001B[0;32m   1796\u001B[0m \u001B[38;5;28;01melse\u001B[39;00m:\n\u001B[1;32m-> 1797\u001B[0m     \u001B[38;5;28;43mself\u001B[39;49m\u001B[38;5;241;43m.\u001B[39;49m\u001B[43m_setitem_single_block\u001B[49m\u001B[43m(\u001B[49m\u001B[43mindexer\u001B[49m\u001B[43m,\u001B[49m\u001B[43m \u001B[49m\u001B[43mvalue\u001B[49m\u001B[43m,\u001B[49m\u001B[43m \u001B[49m\u001B[43mname\u001B[49m\u001B[43m)\u001B[49m\n",
      "File \u001B[1;32mF:\\pycharm project\\venv\\Lib\\site-packages\\pandas\\core\\indexing.py:2078\u001B[0m, in \u001B[0;36m_iLocIndexer._setitem_single_block\u001B[1;34m(self, indexer, value, name)\u001B[0m\n\u001B[0;32m   2075\u001B[0m \u001B[38;5;28mself\u001B[39m\u001B[38;5;241m.\u001B[39mobj\u001B[38;5;241m.\u001B[39m_check_is_chained_assignment_possible()\n\u001B[0;32m   2077\u001B[0m \u001B[38;5;66;03m# actually do the set\u001B[39;00m\n\u001B[1;32m-> 2078\u001B[0m \u001B[38;5;28mself\u001B[39m\u001B[38;5;241m.\u001B[39mobj\u001B[38;5;241m.\u001B[39m_mgr \u001B[38;5;241m=\u001B[39m \u001B[38;5;28;43mself\u001B[39;49m\u001B[38;5;241;43m.\u001B[39;49m\u001B[43mobj\u001B[49m\u001B[38;5;241;43m.\u001B[39;49m\u001B[43m_mgr\u001B[49m\u001B[38;5;241;43m.\u001B[39;49m\u001B[43msetitem\u001B[49m\u001B[43m(\u001B[49m\u001B[43mindexer\u001B[49m\u001B[38;5;241;43m=\u001B[39;49m\u001B[43mindexer\u001B[49m\u001B[43m,\u001B[49m\u001B[43m \u001B[49m\u001B[43mvalue\u001B[49m\u001B[38;5;241;43m=\u001B[39;49m\u001B[43mvalue\u001B[49m\u001B[43m)\u001B[49m\n\u001B[0;32m   2079\u001B[0m \u001B[38;5;28mself\u001B[39m\u001B[38;5;241m.\u001B[39mobj\u001B[38;5;241m.\u001B[39m_maybe_update_cacher(clear\u001B[38;5;241m=\u001B[39m\u001B[38;5;28;01mTrue\u001B[39;00m, inplace\u001B[38;5;241m=\u001B[39m\u001B[38;5;28;01mTrue\u001B[39;00m)\n",
      "File \u001B[1;32mF:\\pycharm project\\venv\\Lib\\site-packages\\pandas\\core\\internals\\managers.py:393\u001B[0m, in \u001B[0;36mBaseBlockManager.setitem\u001B[1;34m(self, indexer, value)\u001B[0m\n\u001B[0;32m    388\u001B[0m \u001B[38;5;28;01mif\u001B[39;00m _using_copy_on_write() \u001B[38;5;129;01mand\u001B[39;00m \u001B[38;5;129;01mnot\u001B[39;00m \u001B[38;5;28mself\u001B[39m\u001B[38;5;241m.\u001B[39m_has_no_reference(\u001B[38;5;241m0\u001B[39m):\n\u001B[0;32m    389\u001B[0m     \u001B[38;5;66;03m# if being referenced -> perform Copy-on-Write and clear the reference\u001B[39;00m\n\u001B[0;32m    390\u001B[0m     \u001B[38;5;66;03m# this method is only called if there is a single block -> hardcoded 0\u001B[39;00m\n\u001B[0;32m    391\u001B[0m     \u001B[38;5;28mself\u001B[39m \u001B[38;5;241m=\u001B[39m \u001B[38;5;28mself\u001B[39m\u001B[38;5;241m.\u001B[39mcopy()\n\u001B[1;32m--> 393\u001B[0m \u001B[38;5;28;01mreturn\u001B[39;00m \u001B[38;5;28;43mself\u001B[39;49m\u001B[38;5;241;43m.\u001B[39;49m\u001B[43mapply\u001B[49m\u001B[43m(\u001B[49m\u001B[38;5;124;43m\"\u001B[39;49m\u001B[38;5;124;43msetitem\u001B[39;49m\u001B[38;5;124;43m\"\u001B[39;49m\u001B[43m,\u001B[49m\u001B[43m \u001B[49m\u001B[43mindexer\u001B[49m\u001B[38;5;241;43m=\u001B[39;49m\u001B[43mindexer\u001B[49m\u001B[43m,\u001B[49m\u001B[43m \u001B[49m\u001B[43mvalue\u001B[49m\u001B[38;5;241;43m=\u001B[39;49m\u001B[43mvalue\u001B[49m\u001B[43m)\u001B[49m\n",
      "File \u001B[1;32mF:\\pycharm project\\venv\\Lib\\site-packages\\pandas\\core\\internals\\managers.py:352\u001B[0m, in \u001B[0;36mBaseBlockManager.apply\u001B[1;34m(self, f, align_keys, ignore_failures, **kwargs)\u001B[0m\n\u001B[0;32m    350\u001B[0m         applied \u001B[38;5;241m=\u001B[39m b\u001B[38;5;241m.\u001B[39mapply(f, \u001B[38;5;241m*\u001B[39m\u001B[38;5;241m*\u001B[39mkwargs)\n\u001B[0;32m    351\u001B[0m     \u001B[38;5;28;01melse\u001B[39;00m:\n\u001B[1;32m--> 352\u001B[0m         applied \u001B[38;5;241m=\u001B[39m \u001B[38;5;28;43mgetattr\u001B[39;49m\u001B[43m(\u001B[49m\u001B[43mb\u001B[49m\u001B[43m,\u001B[49m\u001B[43m \u001B[49m\u001B[43mf\u001B[49m\u001B[43m)\u001B[49m\u001B[43m(\u001B[49m\u001B[38;5;241;43m*\u001B[39;49m\u001B[38;5;241;43m*\u001B[39;49m\u001B[43mkwargs\u001B[49m\u001B[43m)\u001B[49m\n\u001B[0;32m    353\u001B[0m \u001B[38;5;28;01mexcept\u001B[39;00m (\u001B[38;5;167;01mTypeError\u001B[39;00m, \u001B[38;5;167;01mNotImplementedError\u001B[39;00m):\n\u001B[0;32m    354\u001B[0m     \u001B[38;5;28;01mif\u001B[39;00m \u001B[38;5;129;01mnot\u001B[39;00m ignore_failures:\n",
      "File \u001B[1;32mF:\\pycharm project\\venv\\Lib\\site-packages\\pandas\\core\\internals\\blocks.py:986\u001B[0m, in \u001B[0;36mBlock.setitem\u001B[1;34m(self, indexer, value)\u001B[0m\n\u001B[0;32m    982\u001B[0m         \u001B[38;5;28;01mif\u001B[39;00m lib\u001B[38;5;241m.\u001B[39mis_list_like(vi):\n\u001B[0;32m    983\u001B[0m             \u001B[38;5;66;03m# checking lib.is_scalar here fails on\u001B[39;00m\n\u001B[0;32m    984\u001B[0m             \u001B[38;5;66;03m#  test_iloc_setitem_custom_object\u001B[39;00m\n\u001B[0;32m    985\u001B[0m             casted \u001B[38;5;241m=\u001B[39m setitem_datetimelike_compat(values, \u001B[38;5;28mlen\u001B[39m(vi), casted)\n\u001B[1;32m--> 986\u001B[0m     \u001B[43mvalues\u001B[49m\u001B[43m[\u001B[49m\u001B[43mindexer\u001B[49m\u001B[43m]\u001B[49m \u001B[38;5;241m=\u001B[39m casted\n\u001B[0;32m    987\u001B[0m \u001B[38;5;28;01mreturn\u001B[39;00m \u001B[38;5;28mself\u001B[39m\n",
      "\u001B[1;31mValueError\u001B[0m: could not broadcast input array from shape (2,) into shape (3,)"
     ]
    }
   ],
   "source": [
    "d.loc['Sex(Female)',]='{}({:.0f}%)'.format(female_C,female_C/30*100),'{}({:.0f}%)'.format(female_T,female_T/31*100)"
   ],
   "metadata": {
    "collapsed": false,
    "ExecuteTime": {
     "end_time": "2024-01-08T06:27:31.551210700Z",
     "start_time": "2024-01-08T06:27:31.490325200Z"
    }
   },
   "id": "5045e4178cb6cf77"
  },
  {
   "cell_type": "code",
   "execution_count": 27,
   "outputs": [
    {
     "data": {
      "text/plain": "                          C             T\nAge/year          41.8±13.6     42.1±12.2\nWeight/kg          59.2±7.6      60.1±9.6\nThyroid size/cm³    0.2±0.0      0.3±0.1*\nSWE/KPa            14.3±5.2    43.3±10.0*\nFT3                 3.7±0.6      4.3±0.8*\nFT4                14.2±1.7     16.6±2.6*\nTSH                 1.7±1.1      5.0±0.8*\nTPO-Ab             11.9±7.6  568.4±294.9*\nTG-Ab             31.9±25.4  697.8±270.2*\nSex(Female)         28(93%)      31(100%)",
      "text/html": "<div>\n<style scoped>\n    .dataframe tbody tr th:only-of-type {\n        vertical-align: middle;\n    }\n\n    .dataframe tbody tr th {\n        vertical-align: top;\n    }\n\n    .dataframe thead th {\n        text-align: right;\n    }\n</style>\n<table border=\"1\" class=\"dataframe\">\n  <thead>\n    <tr style=\"text-align: right;\">\n      <th></th>\n      <th>C</th>\n      <th>T</th>\n    </tr>\n  </thead>\n  <tbody>\n    <tr>\n      <th>Age/year</th>\n      <td>41.8±13.6</td>\n      <td>42.1±12.2</td>\n    </tr>\n    <tr>\n      <th>Weight/kg</th>\n      <td>59.2±7.6</td>\n      <td>60.1±9.6</td>\n    </tr>\n    <tr>\n      <th>Thyroid size/cm³</th>\n      <td>0.2±0.0</td>\n      <td>0.3±0.1*</td>\n    </tr>\n    <tr>\n      <th>SWE/KPa</th>\n      <td>14.3±5.2</td>\n      <td>43.3±10.0*</td>\n    </tr>\n    <tr>\n      <th>FT3</th>\n      <td>3.7±0.6</td>\n      <td>4.3±0.8*</td>\n    </tr>\n    <tr>\n      <th>FT4</th>\n      <td>14.2±1.7</td>\n      <td>16.6±2.6*</td>\n    </tr>\n    <tr>\n      <th>TSH</th>\n      <td>1.7±1.1</td>\n      <td>5.0±0.8*</td>\n    </tr>\n    <tr>\n      <th>TPO-Ab</th>\n      <td>11.9±7.6</td>\n      <td>568.4±294.9*</td>\n    </tr>\n    <tr>\n      <th>TG-Ab</th>\n      <td>31.9±25.4</td>\n      <td>697.8±270.2*</td>\n    </tr>\n    <tr>\n      <th>Sex(Female)</th>\n      <td>28(93%)</td>\n      <td>31(100%)</td>\n    </tr>\n  </tbody>\n</table>\n</div>"
     },
     "execution_count": 27,
     "metadata": {},
     "output_type": "execute_result"
    }
   ],
   "source": [
    "d"
   ],
   "metadata": {
    "collapsed": false,
    "ExecuteTime": {
     "end_time": "2023-12-14T06:12:59.802299800Z",
     "start_time": "2023-12-14T06:12:59.794109700Z"
    }
   },
   "id": "8c65bdc76c82c91b"
  },
  {
   "cell_type": "code",
   "execution_count": 28,
   "outputs": [],
   "source": [
    "married_C = sum((clinical_data['Marital status']=='Married')&(clinical_data.Group=='C'))\n",
    "married_T = sum((clinical_data['Marital status']=='Married')&(clinical_data.Group=='T'))\n",
    "d.loc['Marital status(Married)',]='{}({:.0f}%)'.format(married_C,married_C/30*100),'{}({:.0f}%)'.format(married_T,married_T/31*100)"
   ],
   "metadata": {
    "collapsed": false,
    "ExecuteTime": {
     "end_time": "2023-12-14T06:13:01.863601200Z",
     "start_time": "2023-12-14T06:13:01.859778300Z"
    }
   },
   "id": "cd64345b1b5dbca0"
  },
  {
   "cell_type": "code",
   "execution_count": 29,
   "outputs": [
    {
     "data": {
      "text/plain": "                                 C             T\nAge/year                 41.8±13.6     42.1±12.2\nWeight/kg                 59.2±7.6      60.1±9.6\nThyroid size/cm³           0.2±0.0      0.3±0.1*\nSWE/KPa                   14.3±5.2    43.3±10.0*\nFT3                        3.7±0.6      4.3±0.8*\nFT4                       14.2±1.7     16.6±2.6*\nTSH                        1.7±1.1      5.0±0.8*\nTPO-Ab                    11.9±7.6  568.4±294.9*\nTG-Ab                    31.9±25.4  697.8±270.2*\nSex(Female)                28(93%)      31(100%)\nMarital status(Married)    26(87%)       25(81%)",
      "text/html": "<div>\n<style scoped>\n    .dataframe tbody tr th:only-of-type {\n        vertical-align: middle;\n    }\n\n    .dataframe tbody tr th {\n        vertical-align: top;\n    }\n\n    .dataframe thead th {\n        text-align: right;\n    }\n</style>\n<table border=\"1\" class=\"dataframe\">\n  <thead>\n    <tr style=\"text-align: right;\">\n      <th></th>\n      <th>C</th>\n      <th>T</th>\n    </tr>\n  </thead>\n  <tbody>\n    <tr>\n      <th>Age/year</th>\n      <td>41.8±13.6</td>\n      <td>42.1±12.2</td>\n    </tr>\n    <tr>\n      <th>Weight/kg</th>\n      <td>59.2±7.6</td>\n      <td>60.1±9.6</td>\n    </tr>\n    <tr>\n      <th>Thyroid size/cm³</th>\n      <td>0.2±0.0</td>\n      <td>0.3±0.1*</td>\n    </tr>\n    <tr>\n      <th>SWE/KPa</th>\n      <td>14.3±5.2</td>\n      <td>43.3±10.0*</td>\n    </tr>\n    <tr>\n      <th>FT3</th>\n      <td>3.7±0.6</td>\n      <td>4.3±0.8*</td>\n    </tr>\n    <tr>\n      <th>FT4</th>\n      <td>14.2±1.7</td>\n      <td>16.6±2.6*</td>\n    </tr>\n    <tr>\n      <th>TSH</th>\n      <td>1.7±1.1</td>\n      <td>5.0±0.8*</td>\n    </tr>\n    <tr>\n      <th>TPO-Ab</th>\n      <td>11.9±7.6</td>\n      <td>568.4±294.9*</td>\n    </tr>\n    <tr>\n      <th>TG-Ab</th>\n      <td>31.9±25.4</td>\n      <td>697.8±270.2*</td>\n    </tr>\n    <tr>\n      <th>Sex(Female)</th>\n      <td>28(93%)</td>\n      <td>31(100%)</td>\n    </tr>\n    <tr>\n      <th>Marital status(Married)</th>\n      <td>26(87%)</td>\n      <td>25(81%)</td>\n    </tr>\n  </tbody>\n</table>\n</div>"
     },
     "execution_count": 29,
     "metadata": {},
     "output_type": "execute_result"
    }
   ],
   "source": [
    "d"
   ],
   "metadata": {
    "collapsed": false,
    "ExecuteTime": {
     "end_time": "2023-12-14T06:13:02.617400700Z",
     "start_time": "2023-12-14T06:13:02.602823100Z"
    }
   },
   "id": "80a739e12d86b2ae"
  },
  {
   "cell_type": "code",
   "execution_count": 30,
   "outputs": [
    {
     "data": {
      "text/plain": "Index(['Age/year', 'Weight/kg', 'Thyroid size/cm³', 'SWE/KPa', 'FT3', 'FT4',\n       'TSH', 'TPO-Ab', 'TG-Ab', 'Sex(Female)', 'Marital status(Married)'],\n      dtype='object')"
     },
     "execution_count": 30,
     "metadata": {},
     "output_type": "execute_result"
    }
   ],
   "source": [
    "d.index"
   ],
   "metadata": {
    "collapsed": false,
    "ExecuteTime": {
     "end_time": "2023-12-14T06:13:03.556980Z",
     "start_time": "2023-12-14T06:13:03.551059700Z"
    }
   },
   "id": "9ef6c9fafff8f78a"
  },
  {
   "cell_type": "code",
   "execution_count": 31,
   "outputs": [],
   "source": [
    "d=d.loc[['Sex(Female)', 'Marital status(Married)','Age/year', 'Weight/kg', 'Thyroid size/cm³', 'SWE/KPa', 'FT3', 'FT4',\n",
    "       'TSH', 'TPO-Ab', 'TG-Ab'],]"
   ],
   "metadata": {
    "collapsed": false,
    "ExecuteTime": {
     "end_time": "2023-12-14T06:13:04.041769800Z",
     "start_time": "2023-12-14T06:13:04.033791200Z"
    }
   },
   "id": "76e54e17a95d75c6"
  },
  {
   "cell_type": "code",
   "execution_count": 32,
   "outputs": [
    {
     "data": {
      "text/plain": "                                 C             T\nSex(Female)                28(93%)      31(100%)\nMarital status(Married)    26(87%)       25(81%)\nAge/year                 41.8±13.6     42.1±12.2\nWeight/kg                 59.2±7.6      60.1±9.6\nThyroid size/cm³           0.2±0.0      0.3±0.1*\nSWE/KPa                   14.3±5.2    43.3±10.0*\nFT3                        3.7±0.6      4.3±0.8*\nFT4                       14.2±1.7     16.6±2.6*\nTSH                        1.7±1.1      5.0±0.8*\nTPO-Ab                    11.9±7.6  568.4±294.9*\nTG-Ab                    31.9±25.4  697.8±270.2*",
      "text/html": "<div>\n<style scoped>\n    .dataframe tbody tr th:only-of-type {\n        vertical-align: middle;\n    }\n\n    .dataframe tbody tr th {\n        vertical-align: top;\n    }\n\n    .dataframe thead th {\n        text-align: right;\n    }\n</style>\n<table border=\"1\" class=\"dataframe\">\n  <thead>\n    <tr style=\"text-align: right;\">\n      <th></th>\n      <th>C</th>\n      <th>T</th>\n    </tr>\n  </thead>\n  <tbody>\n    <tr>\n      <th>Sex(Female)</th>\n      <td>28(93%)</td>\n      <td>31(100%)</td>\n    </tr>\n    <tr>\n      <th>Marital status(Married)</th>\n      <td>26(87%)</td>\n      <td>25(81%)</td>\n    </tr>\n    <tr>\n      <th>Age/year</th>\n      <td>41.8±13.6</td>\n      <td>42.1±12.2</td>\n    </tr>\n    <tr>\n      <th>Weight/kg</th>\n      <td>59.2±7.6</td>\n      <td>60.1±9.6</td>\n    </tr>\n    <tr>\n      <th>Thyroid size/cm³</th>\n      <td>0.2±0.0</td>\n      <td>0.3±0.1*</td>\n    </tr>\n    <tr>\n      <th>SWE/KPa</th>\n      <td>14.3±5.2</td>\n      <td>43.3±10.0*</td>\n    </tr>\n    <tr>\n      <th>FT3</th>\n      <td>3.7±0.6</td>\n      <td>4.3±0.8*</td>\n    </tr>\n    <tr>\n      <th>FT4</th>\n      <td>14.2±1.7</td>\n      <td>16.6±2.6*</td>\n    </tr>\n    <tr>\n      <th>TSH</th>\n      <td>1.7±1.1</td>\n      <td>5.0±0.8*</td>\n    </tr>\n    <tr>\n      <th>TPO-Ab</th>\n      <td>11.9±7.6</td>\n      <td>568.4±294.9*</td>\n    </tr>\n    <tr>\n      <th>TG-Ab</th>\n      <td>31.9±25.4</td>\n      <td>697.8±270.2*</td>\n    </tr>\n  </tbody>\n</table>\n</div>"
     },
     "execution_count": 32,
     "metadata": {},
     "output_type": "execute_result"
    }
   ],
   "source": [
    "d"
   ],
   "metadata": {
    "collapsed": false,
    "ExecuteTime": {
     "end_time": "2023-12-14T06:13:04.986435400Z",
     "start_time": "2023-12-14T06:13:04.978661300Z"
    }
   },
   "id": "90084755c2936ea7"
  },
  {
   "cell_type": "code",
   "execution_count": 40,
   "outputs": [],
   "source": [
    "d.index = ['Sex(Female)', 'Marital status(Married)','Age/year(Mean ± SD)', 'Weight/kg(Mean ± SD)', 'Thyroid size/cm³(Mean ± SD)', 'SWE/KPa(Mean ± SD)', 'FT3(Mean ± SD)', 'FT4(Mean ± SD)',\n",
    "       'TSH(Mean ± SD)', 'TPO-Ab(Mean ± SD)', 'TG-Ab(Mean ± SD)']"
   ],
   "metadata": {
    "collapsed": false,
    "ExecuteTime": {
     "end_time": "2023-12-14T06:19:31.337874500Z",
     "start_time": "2023-12-14T06:19:31.331300100Z"
    }
   },
   "id": "53c1de990d7cb4db"
  },
  {
   "cell_type": "code",
   "execution_count": 41,
   "outputs": [
    {
     "data": {
      "text/plain": "                                    HC            HT\nSex(Female)                    28(93%)      31(100%)\nMarital status(Married)        26(87%)       25(81%)\nAge/year(Mean ± SD)          41.8±13.6     42.1±12.2\nWeight/kg(Mean ± SD)          59.2±7.6      60.1±9.6\nThyroid size/cm³(Mean ± SD)    0.2±0.0      0.3±0.1*\nSWE/KPa(Mean ± SD)            14.3±5.2    43.3±10.0*\nFT3(Mean ± SD)                 3.7±0.6      4.3±0.8*\nFT4(Mean ± SD)                14.2±1.7     16.6±2.6*\nTSH(Mean ± SD)                 1.7±1.1      5.0±0.8*\nTPO-Ab(Mean ± SD)             11.9±7.6  568.4±294.9*\nTG-Ab(Mean ± SD)             31.9±25.4  697.8±270.2*",
      "text/html": "<div>\n<style scoped>\n    .dataframe tbody tr th:only-of-type {\n        vertical-align: middle;\n    }\n\n    .dataframe tbody tr th {\n        vertical-align: top;\n    }\n\n    .dataframe thead th {\n        text-align: right;\n    }\n</style>\n<table border=\"1\" class=\"dataframe\">\n  <thead>\n    <tr style=\"text-align: right;\">\n      <th></th>\n      <th>HC</th>\n      <th>HT</th>\n    </tr>\n  </thead>\n  <tbody>\n    <tr>\n      <th>Sex(Female)</th>\n      <td>28(93%)</td>\n      <td>31(100%)</td>\n    </tr>\n    <tr>\n      <th>Marital status(Married)</th>\n      <td>26(87%)</td>\n      <td>25(81%)</td>\n    </tr>\n    <tr>\n      <th>Age/year(Mean ± SD)</th>\n      <td>41.8±13.6</td>\n      <td>42.1±12.2</td>\n    </tr>\n    <tr>\n      <th>Weight/kg(Mean ± SD)</th>\n      <td>59.2±7.6</td>\n      <td>60.1±9.6</td>\n    </tr>\n    <tr>\n      <th>Thyroid size/cm³(Mean ± SD)</th>\n      <td>0.2±0.0</td>\n      <td>0.3±0.1*</td>\n    </tr>\n    <tr>\n      <th>SWE/KPa(Mean ± SD)</th>\n      <td>14.3±5.2</td>\n      <td>43.3±10.0*</td>\n    </tr>\n    <tr>\n      <th>FT3(Mean ± SD)</th>\n      <td>3.7±0.6</td>\n      <td>4.3±0.8*</td>\n    </tr>\n    <tr>\n      <th>FT4(Mean ± SD)</th>\n      <td>14.2±1.7</td>\n      <td>16.6±2.6*</td>\n    </tr>\n    <tr>\n      <th>TSH(Mean ± SD)</th>\n      <td>1.7±1.1</td>\n      <td>5.0±0.8*</td>\n    </tr>\n    <tr>\n      <th>TPO-Ab(Mean ± SD)</th>\n      <td>11.9±7.6</td>\n      <td>568.4±294.9*</td>\n    </tr>\n    <tr>\n      <th>TG-Ab(Mean ± SD)</th>\n      <td>31.9±25.4</td>\n      <td>697.8±270.2*</td>\n    </tr>\n  </tbody>\n</table>\n</div>"
     },
     "execution_count": 41,
     "metadata": {},
     "output_type": "execute_result"
    }
   ],
   "source": [
    "d"
   ],
   "metadata": {
    "collapsed": false,
    "ExecuteTime": {
     "end_time": "2023-12-14T06:19:32.173323800Z",
     "start_time": "2023-12-14T06:19:32.165598100Z"
    }
   },
   "id": "556763ddc662ee32"
  },
  {
   "cell_type": "code",
   "execution_count": 42,
   "outputs": [],
   "source": [
    "d.columns = ['HC','HT']"
   ],
   "metadata": {
    "collapsed": false,
    "ExecuteTime": {
     "end_time": "2023-12-14T06:19:35.685651400Z",
     "start_time": "2023-12-14T06:19:35.679931400Z"
    }
   },
   "id": "2ead8a3712c2fa22"
  },
  {
   "cell_type": "code",
   "execution_count": 43,
   "outputs": [
    {
     "data": {
      "text/plain": "                                    HC            HT\nSex(Female)                    28(93%)      31(100%)\nMarital status(Married)        26(87%)       25(81%)\nAge/year(Mean ± SD)          41.8±13.6     42.1±12.2\nWeight/kg(Mean ± SD)          59.2±7.6      60.1±9.6\nThyroid size/cm³(Mean ± SD)    0.2±0.0      0.3±0.1*\nSWE/KPa(Mean ± SD)            14.3±5.2    43.3±10.0*\nFT3(Mean ± SD)                 3.7±0.6      4.3±0.8*\nFT4(Mean ± SD)                14.2±1.7     16.6±2.6*\nTSH(Mean ± SD)                 1.7±1.1      5.0±0.8*\nTPO-Ab(Mean ± SD)             11.9±7.6  568.4±294.9*\nTG-Ab(Mean ± SD)             31.9±25.4  697.8±270.2*",
      "text/html": "<div>\n<style scoped>\n    .dataframe tbody tr th:only-of-type {\n        vertical-align: middle;\n    }\n\n    .dataframe tbody tr th {\n        vertical-align: top;\n    }\n\n    .dataframe thead th {\n        text-align: right;\n    }\n</style>\n<table border=\"1\" class=\"dataframe\">\n  <thead>\n    <tr style=\"text-align: right;\">\n      <th></th>\n      <th>HC</th>\n      <th>HT</th>\n    </tr>\n  </thead>\n  <tbody>\n    <tr>\n      <th>Sex(Female)</th>\n      <td>28(93%)</td>\n      <td>31(100%)</td>\n    </tr>\n    <tr>\n      <th>Marital status(Married)</th>\n      <td>26(87%)</td>\n      <td>25(81%)</td>\n    </tr>\n    <tr>\n      <th>Age/year(Mean ± SD)</th>\n      <td>41.8±13.6</td>\n      <td>42.1±12.2</td>\n    </tr>\n    <tr>\n      <th>Weight/kg(Mean ± SD)</th>\n      <td>59.2±7.6</td>\n      <td>60.1±9.6</td>\n    </tr>\n    <tr>\n      <th>Thyroid size/cm³(Mean ± SD)</th>\n      <td>0.2±0.0</td>\n      <td>0.3±0.1*</td>\n    </tr>\n    <tr>\n      <th>SWE/KPa(Mean ± SD)</th>\n      <td>14.3±5.2</td>\n      <td>43.3±10.0*</td>\n    </tr>\n    <tr>\n      <th>FT3(Mean ± SD)</th>\n      <td>3.7±0.6</td>\n      <td>4.3±0.8*</td>\n    </tr>\n    <tr>\n      <th>FT4(Mean ± SD)</th>\n      <td>14.2±1.7</td>\n      <td>16.6±2.6*</td>\n    </tr>\n    <tr>\n      <th>TSH(Mean ± SD)</th>\n      <td>1.7±1.1</td>\n      <td>5.0±0.8*</td>\n    </tr>\n    <tr>\n      <th>TPO-Ab(Mean ± SD)</th>\n      <td>11.9±7.6</td>\n      <td>568.4±294.9*</td>\n    </tr>\n    <tr>\n      <th>TG-Ab(Mean ± SD)</th>\n      <td>31.9±25.4</td>\n      <td>697.8±270.2*</td>\n    </tr>\n  </tbody>\n</table>\n</div>"
     },
     "execution_count": 43,
     "metadata": {},
     "output_type": "execute_result"
    }
   ],
   "source": [
    "d"
   ],
   "metadata": {
    "collapsed": false,
    "ExecuteTime": {
     "end_time": "2023-12-14T06:19:36.485998900Z",
     "start_time": "2023-12-14T06:19:36.467151900Z"
    }
   },
   "id": "7349c9206c379919"
  },
  {
   "cell_type": "code",
   "execution_count": 44,
   "outputs": [],
   "source": [
    "d.to_csv('F:/my projects/02.论文/论文四_桥本甲状腺炎/Project/Results/clinical features of the study cohort.csv')"
   ],
   "metadata": {
    "collapsed": false,
    "ExecuteTime": {
     "end_time": "2023-12-14T06:19:39.608592300Z",
     "start_time": "2023-12-14T06:19:39.601612100Z"
    }
   },
   "id": "b32af2c6a9a5843b"
  },
  {
   "cell_type": "code",
   "execution_count": 44,
   "outputs": [
    {
     "data": {
      "text/plain": "   sample Sex  Age  Weight Marital_status  Thyroid_size     Blood_flow    SWE  \\\n0      C1   M   33    85.0        Married        0.2440         Normal  23.55   \n1     C10   F   55    58.0        Married        0.1728         Normal  13.27   \n2     C12   F   33    65.0        Married        0.1924         Normal  13.60   \n3     C14   F   35    54.0        Married        0.1557         Normal   9.90   \n4     C15   F   33    53.0       Spinster        0.1952         Normal  15.75   \n..    ...  ..  ...     ...            ...           ...            ...    ...   \n56    T47   F   59    72.5        Married        0.1591           Rich  41.55   \n57     T5   F   53    60.0        Married        0.1401  Slightly rich  55.97   \n58    T50   F   57    59.0        Married        0.2904           Rich  43.33   \n59     T6   F   29    59.0       Spinster        0.2967           Rich  46.70   \n60     T7   F   61    54.0        Married        0.2410           Rich  50.53   \n\n     FT3    FT4   TSH  TPO_Ab   TG_Ab Group  \n0   3.36  12.71  0.83   25.52    9.82     C  \n1   3.27  12.30  3.44    3.20   78.09     C  \n2   4.14  15.35  3.15   12.85   34.03     C  \n3   3.14  14.24  0.77    4.02   18.67     C  \n4   3.86  12.74  0.87    5.09   40.46     C  \n..   ...    ...   ...     ...     ...   ...  \n56  5.36  20.13  4.57  402.93  494.69     T  \n57  3.23  18.61  4.77  241.74  553.81     T  \n58  5.64  20.66  7.09  895.97  917.29     T  \n59  3.35  14.31  4.64  745.03  887.38     T  \n60  5.21  13.48  4.62  656.30  901.43     T  \n\n[61 rows x 14 columns]",
      "text/html": "<div>\n<style scoped>\n    .dataframe tbody tr th:only-of-type {\n        vertical-align: middle;\n    }\n\n    .dataframe tbody tr th {\n        vertical-align: top;\n    }\n\n    .dataframe thead th {\n        text-align: right;\n    }\n</style>\n<table border=\"1\" class=\"dataframe\">\n  <thead>\n    <tr style=\"text-align: right;\">\n      <th></th>\n      <th>sample</th>\n      <th>Sex</th>\n      <th>Age</th>\n      <th>Weight</th>\n      <th>Marital_status</th>\n      <th>Thyroid_size</th>\n      <th>Blood_flow</th>\n      <th>SWE</th>\n      <th>FT3</th>\n      <th>FT4</th>\n      <th>TSH</th>\n      <th>TPO_Ab</th>\n      <th>TG_Ab</th>\n      <th>Group</th>\n    </tr>\n  </thead>\n  <tbody>\n    <tr>\n      <th>0</th>\n      <td>C1</td>\n      <td>M</td>\n      <td>33</td>\n      <td>85.0</td>\n      <td>Married</td>\n      <td>0.2440</td>\n      <td>Normal</td>\n      <td>23.55</td>\n      <td>3.36</td>\n      <td>12.71</td>\n      <td>0.83</td>\n      <td>25.52</td>\n      <td>9.82</td>\n      <td>C</td>\n    </tr>\n    <tr>\n      <th>1</th>\n      <td>C10</td>\n      <td>F</td>\n      <td>55</td>\n      <td>58.0</td>\n      <td>Married</td>\n      <td>0.1728</td>\n      <td>Normal</td>\n      <td>13.27</td>\n      <td>3.27</td>\n      <td>12.30</td>\n      <td>3.44</td>\n      <td>3.20</td>\n      <td>78.09</td>\n      <td>C</td>\n    </tr>\n    <tr>\n      <th>2</th>\n      <td>C12</td>\n      <td>F</td>\n      <td>33</td>\n      <td>65.0</td>\n      <td>Married</td>\n      <td>0.1924</td>\n      <td>Normal</td>\n      <td>13.60</td>\n      <td>4.14</td>\n      <td>15.35</td>\n      <td>3.15</td>\n      <td>12.85</td>\n      <td>34.03</td>\n      <td>C</td>\n    </tr>\n    <tr>\n      <th>3</th>\n      <td>C14</td>\n      <td>F</td>\n      <td>35</td>\n      <td>54.0</td>\n      <td>Married</td>\n      <td>0.1557</td>\n      <td>Normal</td>\n      <td>9.90</td>\n      <td>3.14</td>\n      <td>14.24</td>\n      <td>0.77</td>\n      <td>4.02</td>\n      <td>18.67</td>\n      <td>C</td>\n    </tr>\n    <tr>\n      <th>4</th>\n      <td>C15</td>\n      <td>F</td>\n      <td>33</td>\n      <td>53.0</td>\n      <td>Spinster</td>\n      <td>0.1952</td>\n      <td>Normal</td>\n      <td>15.75</td>\n      <td>3.86</td>\n      <td>12.74</td>\n      <td>0.87</td>\n      <td>5.09</td>\n      <td>40.46</td>\n      <td>C</td>\n    </tr>\n    <tr>\n      <th>...</th>\n      <td>...</td>\n      <td>...</td>\n      <td>...</td>\n      <td>...</td>\n      <td>...</td>\n      <td>...</td>\n      <td>...</td>\n      <td>...</td>\n      <td>...</td>\n      <td>...</td>\n      <td>...</td>\n      <td>...</td>\n      <td>...</td>\n      <td>...</td>\n    </tr>\n    <tr>\n      <th>56</th>\n      <td>T47</td>\n      <td>F</td>\n      <td>59</td>\n      <td>72.5</td>\n      <td>Married</td>\n      <td>0.1591</td>\n      <td>Rich</td>\n      <td>41.55</td>\n      <td>5.36</td>\n      <td>20.13</td>\n      <td>4.57</td>\n      <td>402.93</td>\n      <td>494.69</td>\n      <td>T</td>\n    </tr>\n    <tr>\n      <th>57</th>\n      <td>T5</td>\n      <td>F</td>\n      <td>53</td>\n      <td>60.0</td>\n      <td>Married</td>\n      <td>0.1401</td>\n      <td>Slightly rich</td>\n      <td>55.97</td>\n      <td>3.23</td>\n      <td>18.61</td>\n      <td>4.77</td>\n      <td>241.74</td>\n      <td>553.81</td>\n      <td>T</td>\n    </tr>\n    <tr>\n      <th>58</th>\n      <td>T50</td>\n      <td>F</td>\n      <td>57</td>\n      <td>59.0</td>\n      <td>Married</td>\n      <td>0.2904</td>\n      <td>Rich</td>\n      <td>43.33</td>\n      <td>5.64</td>\n      <td>20.66</td>\n      <td>7.09</td>\n      <td>895.97</td>\n      <td>917.29</td>\n      <td>T</td>\n    </tr>\n    <tr>\n      <th>59</th>\n      <td>T6</td>\n      <td>F</td>\n      <td>29</td>\n      <td>59.0</td>\n      <td>Spinster</td>\n      <td>0.2967</td>\n      <td>Rich</td>\n      <td>46.70</td>\n      <td>3.35</td>\n      <td>14.31</td>\n      <td>4.64</td>\n      <td>745.03</td>\n      <td>887.38</td>\n      <td>T</td>\n    </tr>\n    <tr>\n      <th>60</th>\n      <td>T7</td>\n      <td>F</td>\n      <td>61</td>\n      <td>54.0</td>\n      <td>Married</td>\n      <td>0.2410</td>\n      <td>Rich</td>\n      <td>50.53</td>\n      <td>5.21</td>\n      <td>13.48</td>\n      <td>4.62</td>\n      <td>656.30</td>\n      <td>901.43</td>\n      <td>T</td>\n    </tr>\n  </tbody>\n</table>\n<p>61 rows × 14 columns</p>\n</div>"
     },
     "execution_count": 44,
     "metadata": {},
     "output_type": "execute_result"
    }
   ],
   "source": [
    "clinical_data"
   ],
   "metadata": {
    "collapsed": false,
    "ExecuteTime": {
     "end_time": "2024-01-08T06:33:45.820460800Z",
     "start_time": "2024-01-08T06:33:45.800898500Z"
    }
   },
   "id": "f1a85d00aa319c06"
  },
  {
   "cell_type": "code",
   "execution_count": 48,
   "outputs": [
    {
     "data": {
      "text/plain": "           Marital_status\nGroup Sex                \nC     F                28\n      M                 2\nT     F                31",
      "text/html": "<div>\n<style scoped>\n    .dataframe tbody tr th:only-of-type {\n        vertical-align: middle;\n    }\n\n    .dataframe tbody tr th {\n        vertical-align: top;\n    }\n\n    .dataframe thead th {\n        text-align: right;\n    }\n</style>\n<table border=\"1\" class=\"dataframe\">\n  <thead>\n    <tr style=\"text-align: right;\">\n      <th></th>\n      <th></th>\n      <th>Marital_status</th>\n    </tr>\n    <tr>\n      <th>Group</th>\n      <th>Sex</th>\n      <th></th>\n    </tr>\n  </thead>\n  <tbody>\n    <tr>\n      <th rowspan=\"2\" valign=\"top\">C</th>\n      <th>F</th>\n      <td>28</td>\n    </tr>\n    <tr>\n      <th>M</th>\n      <td>2</td>\n    </tr>\n    <tr>\n      <th>T</th>\n      <th>F</th>\n      <td>31</td>\n    </tr>\n  </tbody>\n</table>\n</div>"
     },
     "execution_count": 48,
     "metadata": {},
     "output_type": "execute_result"
    }
   ],
   "source": [
    "clinical_data[cat_cols+['Group']].groupby(['Group','Sex']).agg('count')"
   ],
   "metadata": {
    "collapsed": false,
    "ExecuteTime": {
     "end_time": "2024-01-08T06:36:37.969954600Z",
     "start_time": "2024-01-08T06:36:37.963175100Z"
    }
   },
   "id": "98831403ddf97f93"
  },
  {
   "cell_type": "code",
   "execution_count": 50,
   "outputs": [
    {
     "name": "stdout",
     "output_type": "stream",
     "text": [
      "7.72e-01\n"
     ]
    }
   ],
   "source": [
    "print('{:.2e}'.format(0.7724))"
   ],
   "metadata": {
    "collapsed": false,
    "ExecuteTime": {
     "end_time": "2024-01-08T06:41:54.540847400Z",
     "start_time": "2024-01-08T06:41:54.536040300Z"
    }
   },
   "id": "e499cf9c2b10cb29"
  },
  {
   "cell_type": "code",
   "execution_count": null,
   "outputs": [],
   "source": [],
   "metadata": {
    "collapsed": false
   },
   "id": "a783de95a93f6cd"
  }
 ],
 "metadata": {
  "kernelspec": {
   "display_name": "Python 3",
   "language": "python",
   "name": "python3"
  },
  "language_info": {
   "codemirror_mode": {
    "name": "ipython",
    "version": 2
   },
   "file_extension": ".py",
   "mimetype": "text/x-python",
   "name": "python",
   "nbconvert_exporter": "python",
   "pygments_lexer": "ipython2",
   "version": "2.7.6"
  }
 },
 "nbformat": 4,
 "nbformat_minor": 5
}
