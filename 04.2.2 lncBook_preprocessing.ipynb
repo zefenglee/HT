{
 "cells": [
  {
   "cell_type": "code",
   "execution_count": 1,
   "id": "initial_id",
   "metadata": {
    "collapsed": true,
    "ExecuteTime": {
     "end_time": "2023-12-18T07:22:57.329671300Z",
     "start_time": "2023-12-18T07:22:57.120253200Z"
    }
   },
   "outputs": [],
   "source": [
    "import pandas as pd\n",
    "import numpy as np"
   ]
  },
  {
   "cell_type": "code",
   "execution_count": 2,
   "outputs": [],
   "source": [
    "lncbook_a = pd.read_csv('F:/my projects/02.论文/论文四_桥本甲状腺炎/Project/Datas/Intersctomes/02.lncbook/lncrna_mirna_miRandaAndTargetScan_LncBook2.0.csv',chunksize = 1000000)"
   ],
   "metadata": {
    "collapsed": false,
    "ExecuteTime": {
     "end_time": "2023-12-18T07:22:59.257705200Z",
     "start_time": "2023-12-18T07:22:59.247158900Z"
    }
   },
   "id": "7b13c8f0240e980d"
  },
  {
   "cell_type": "code",
   "execution_count": 3,
   "outputs": [],
   "source": [
    "l = []\n",
    "for df in lncbook_a:\n",
    "    gene1gene2 = df.iloc[:,[1,-1]].values\n",
    "    gene1gene2 = gene1gene2[gene1gene2[:,0]!='-',:]\n",
    "    l.extend(gene1gene2)"
   ],
   "metadata": {
    "collapsed": false,
    "ExecuteTime": {
     "end_time": "2023-12-18T07:24:54.466538800Z",
     "start_time": "2023-12-18T07:23:02.111827400Z"
    }
   },
   "id": "437cfd82e56fc0ec"
  },
  {
   "cell_type": "code",
   "execution_count": 4,
   "outputs": [
    {
     "name": "stdout",
     "output_type": "stream",
     "text": [
      "(40949663, 2)\n"
     ]
    }
   ],
   "source": [
    "print(pd.DataFrame(l).shape)"
   ],
   "metadata": {
    "collapsed": false,
    "ExecuteTime": {
     "end_time": "2023-12-18T07:25:12.792157600Z",
     "start_time": "2023-12-18T07:24:54.466538800Z"
    }
   },
   "id": "1ffd9ffceb013997"
  },
  {
   "cell_type": "code",
   "execution_count": 5,
   "outputs": [],
   "source": [
    "lncbook_a1 = pd.DataFrame(l)"
   ],
   "metadata": {
    "collapsed": false,
    "ExecuteTime": {
     "end_time": "2023-12-18T07:26:06.682829600Z",
     "start_time": "2023-12-18T07:25:49.672399800Z"
    }
   },
   "id": "b6faa662e4d62745"
  },
  {
   "cell_type": "code",
   "execution_count": 6,
   "outputs": [
    {
     "data": {
      "text/plain": "(40949663, 2)"
     },
     "execution_count": 6,
     "metadata": {},
     "output_type": "execute_result"
    }
   ],
   "source": [
    "lncbook_a1.shape"
   ],
   "metadata": {
    "collapsed": false,
    "ExecuteTime": {
     "end_time": "2023-12-18T07:27:27.731454900Z",
     "start_time": "2023-12-18T07:27:27.725922800Z"
    }
   },
   "id": "77de1c30a1f1e6b6"
  },
  {
   "cell_type": "code",
   "execution_count": 7,
   "outputs": [],
   "source": [
    "lncbook_a1.columns = ['Gene1','Gene2']"
   ],
   "metadata": {
    "collapsed": false,
    "ExecuteTime": {
     "end_time": "2023-12-18T07:30:04.146879Z",
     "start_time": "2023-12-18T07:30:04.141891700Z"
    }
   },
   "id": "2bb8ef1acd9dc58b"
  },
  {
   "cell_type": "code",
   "execution_count": 8,
   "outputs": [
    {
     "data": {
      "text/plain": "Index(['Gene1', 'Gene2'], dtype='object')"
     },
     "execution_count": 8,
     "metadata": {},
     "output_type": "execute_result"
    }
   ],
   "source": [
    "lncbook_a1.columns"
   ],
   "metadata": {
    "collapsed": false,
    "ExecuteTime": {
     "end_time": "2023-12-18T07:30:07.956212400Z",
     "start_time": "2023-12-18T07:30:07.950147600Z"
    }
   },
   "id": "517c5b2c7c39fa13"
  },
  {
   "cell_type": "code",
   "execution_count": 13,
   "outputs": [
    {
     "data": {
      "text/plain": "              Gene1            Gene2\n0         LINC00115    hsa-let-7a-5p\n1         LINC00115    hsa-let-7a-5p\n2         LINC00115    hsa-let-7a-5p\n3         LINC00115    hsa-let-7a-5p\n4         LINC00115    hsa-let-7a-5p\n...             ...              ...\n40949658     TTTY10  hsa-miR-9851-3p\n40949659     TTTY10  hsa-miR-9851-3p\n40949660      TTTY4  hsa-miR-9851-3p\n40949661     TTTY4B  hsa-miR-9851-3p\n40949662     TTTY4C  hsa-miR-9851-3p\n\n[40949663 rows x 2 columns]",
      "text/html": "<div>\n<style scoped>\n    .dataframe tbody tr th:only-of-type {\n        vertical-align: middle;\n    }\n\n    .dataframe tbody tr th {\n        vertical-align: top;\n    }\n\n    .dataframe thead th {\n        text-align: right;\n    }\n</style>\n<table border=\"1\" class=\"dataframe\">\n  <thead>\n    <tr style=\"text-align: right;\">\n      <th></th>\n      <th>Gene1</th>\n      <th>Gene2</th>\n    </tr>\n  </thead>\n  <tbody>\n    <tr>\n      <th>0</th>\n      <td>LINC00115</td>\n      <td>hsa-let-7a-5p</td>\n    </tr>\n    <tr>\n      <th>1</th>\n      <td>LINC00115</td>\n      <td>hsa-let-7a-5p</td>\n    </tr>\n    <tr>\n      <th>2</th>\n      <td>LINC00115</td>\n      <td>hsa-let-7a-5p</td>\n    </tr>\n    <tr>\n      <th>3</th>\n      <td>LINC00115</td>\n      <td>hsa-let-7a-5p</td>\n    </tr>\n    <tr>\n      <th>4</th>\n      <td>LINC00115</td>\n      <td>hsa-let-7a-5p</td>\n    </tr>\n    <tr>\n      <th>...</th>\n      <td>...</td>\n      <td>...</td>\n    </tr>\n    <tr>\n      <th>40949658</th>\n      <td>TTTY10</td>\n      <td>hsa-miR-9851-3p</td>\n    </tr>\n    <tr>\n      <th>40949659</th>\n      <td>TTTY10</td>\n      <td>hsa-miR-9851-3p</td>\n    </tr>\n    <tr>\n      <th>40949660</th>\n      <td>TTTY4</td>\n      <td>hsa-miR-9851-3p</td>\n    </tr>\n    <tr>\n      <th>40949661</th>\n      <td>TTTY4B</td>\n      <td>hsa-miR-9851-3p</td>\n    </tr>\n    <tr>\n      <th>40949662</th>\n      <td>TTTY4C</td>\n      <td>hsa-miR-9851-3p</td>\n    </tr>\n  </tbody>\n</table>\n<p>40949663 rows × 2 columns</p>\n</div>"
     },
     "execution_count": 13,
     "metadata": {},
     "output_type": "execute_result"
    }
   ],
   "source": [
    "lncbook_a1"
   ],
   "metadata": {
    "collapsed": false,
    "ExecuteTime": {
     "end_time": "2023-12-18T07:33:26.012570300Z",
     "start_time": "2023-12-18T07:33:25.998219800Z"
    }
   },
   "id": "9dd1c143d71bf605"
  },
  {
   "cell_type": "code",
   "execution_count": 32,
   "outputs": [],
   "source": [
    "du = set(lncbook_a1.Gene1+'_'+lncbook_a1.Gene2)"
   ],
   "metadata": {
    "collapsed": false,
    "ExecuteTime": {
     "end_time": "2023-12-18T07:37:52.973916700Z",
     "start_time": "2023-12-18T07:37:47.622318500Z"
    }
   },
   "id": "7962810426ee5ff8"
  },
  {
   "cell_type": "code",
   "execution_count": 33,
   "outputs": [
    {
     "data": {
      "text/plain": "4644265"
     },
     "execution_count": 33,
     "metadata": {},
     "output_type": "execute_result"
    }
   ],
   "source": [
    "len(du)"
   ],
   "metadata": {
    "collapsed": false,
    "ExecuteTime": {
     "end_time": "2023-12-18T07:37:52.982030400Z",
     "start_time": "2023-12-18T07:37:52.975909600Z"
    }
   },
   "id": "51648c5b2cda739a"
  },
  {
   "cell_type": "code",
   "execution_count": 34,
   "outputs": [],
   "source": [
    "du=[i.split('_') for i in list(du)]"
   ],
   "metadata": {
    "collapsed": false,
    "ExecuteTime": {
     "end_time": "2023-12-18T07:37:58.582940900Z",
     "start_time": "2023-12-18T07:37:52.980896Z"
    }
   },
   "id": "f3886314f0990445"
  },
  {
   "cell_type": "code",
   "execution_count": 40,
   "outputs": [
    {
     "name": "stdout",
     "output_type": "stream",
     "text": [
      "['LINC02575', 'hsa-miR-6722-3p']\n",
      "LINC02575\n"
     ]
    }
   ],
   "source": [
    "print(du[0])\n",
    "print(du[0][0])"
   ],
   "metadata": {
    "collapsed": false,
    "ExecuteTime": {
     "end_time": "2023-12-18T07:38:41.719543700Z",
     "start_time": "2023-12-18T07:38:41.712567200Z"
    }
   },
   "id": "4d243b5878689c9c"
  },
  {
   "cell_type": "code",
   "execution_count": 52,
   "outputs": [],
   "source": [
    "l_ = []\n",
    "for x,y in du:\n",
    "    if ',' in x:\n",
    "        x = x.split(',')\n",
    "        for i in x:\n",
    "            l_.append([i,y])\n",
    "    else:\n",
    "        l_.append([x,y])"
   ],
   "metadata": {
    "collapsed": false,
    "ExecuteTime": {
     "end_time": "2023-12-18T07:43:18.581288200Z",
     "start_time": "2023-12-18T07:43:15.762084400Z"
    }
   },
   "id": "345b6d24c6985e71"
  },
  {
   "cell_type": "code",
   "execution_count": 54,
   "outputs": [
    {
     "data": {
      "text/plain": "4975172"
     },
     "execution_count": 54,
     "metadata": {},
     "output_type": "execute_result"
    }
   ],
   "source": [
    "len(l_)"
   ],
   "metadata": {
    "collapsed": false,
    "ExecuteTime": {
     "end_time": "2023-12-18T07:43:28.720748Z",
     "start_time": "2023-12-18T07:43:28.712516300Z"
    }
   },
   "id": "cebd989732c24d22"
  },
  {
   "cell_type": "code",
   "execution_count": 55,
   "outputs": [
    {
     "data": {
      "text/plain": "              Gene1            Gene2\n0         LINC02575  hsa-miR-6722-3p\n1        TMEM51-AS1     hsa-miR-8089\n2          NXT1-AS1     hsa-miR-2113\n3         MIR4422HG  hsa-miR-4726-3p\n4            DELEC1  hsa-miR-6848-3p\n...             ...              ...\n4975167   LINC01802     hsa-miR-3142\n4975168   LINC01586    hsa-miR-548ag\n4975169   LINC01554  hsa-miR-6864-3p\n4975170   VPS13B-DT    hsa-miR-3689f\n4975171   LINC00888     hsa-miR-4780\n\n[4975172 rows x 2 columns]",
      "text/html": "<div>\n<style scoped>\n    .dataframe tbody tr th:only-of-type {\n        vertical-align: middle;\n    }\n\n    .dataframe tbody tr th {\n        vertical-align: top;\n    }\n\n    .dataframe thead th {\n        text-align: right;\n    }\n</style>\n<table border=\"1\" class=\"dataframe\">\n  <thead>\n    <tr style=\"text-align: right;\">\n      <th></th>\n      <th>Gene1</th>\n      <th>Gene2</th>\n    </tr>\n  </thead>\n  <tbody>\n    <tr>\n      <th>0</th>\n      <td>LINC02575</td>\n      <td>hsa-miR-6722-3p</td>\n    </tr>\n    <tr>\n      <th>1</th>\n      <td>TMEM51-AS1</td>\n      <td>hsa-miR-8089</td>\n    </tr>\n    <tr>\n      <th>2</th>\n      <td>NXT1-AS1</td>\n      <td>hsa-miR-2113</td>\n    </tr>\n    <tr>\n      <th>3</th>\n      <td>MIR4422HG</td>\n      <td>hsa-miR-4726-3p</td>\n    </tr>\n    <tr>\n      <th>4</th>\n      <td>DELEC1</td>\n      <td>hsa-miR-6848-3p</td>\n    </tr>\n    <tr>\n      <th>...</th>\n      <td>...</td>\n      <td>...</td>\n    </tr>\n    <tr>\n      <th>4975167</th>\n      <td>LINC01802</td>\n      <td>hsa-miR-3142</td>\n    </tr>\n    <tr>\n      <th>4975168</th>\n      <td>LINC01586</td>\n      <td>hsa-miR-548ag</td>\n    </tr>\n    <tr>\n      <th>4975169</th>\n      <td>LINC01554</td>\n      <td>hsa-miR-6864-3p</td>\n    </tr>\n    <tr>\n      <th>4975170</th>\n      <td>VPS13B-DT</td>\n      <td>hsa-miR-3689f</td>\n    </tr>\n    <tr>\n      <th>4975171</th>\n      <td>LINC00888</td>\n      <td>hsa-miR-4780</td>\n    </tr>\n  </tbody>\n</table>\n<p>4975172 rows × 2 columns</p>\n</div>"
     },
     "execution_count": 55,
     "metadata": {},
     "output_type": "execute_result"
    }
   ],
   "source": [
    "lncbook_a1_1 = pd.DataFrame(l_,columns=['Gene1','Gene2'])\n",
    "lncbook_a1_1"
   ],
   "metadata": {
    "collapsed": false,
    "ExecuteTime": {
     "end_time": "2023-12-18T07:44:34.807506900Z",
     "start_time": "2023-12-18T07:44:34.357867300Z"
    }
   },
   "id": "3231a3f86b1d9a0f"
  },
  {
   "cell_type": "code",
   "execution_count": 56,
   "outputs": [
    {
     "name": "stdout",
     "output_type": "stream",
     "text": [
      "(4975172, 2)\n"
     ]
    }
   ],
   "source": [
    "print(lncbook_a1_1.shape)"
   ],
   "metadata": {
    "collapsed": false,
    "ExecuteTime": {
     "end_time": "2023-12-18T07:44:57.703104400Z",
     "start_time": "2023-12-18T07:44:57.693395100Z"
    }
   },
   "id": "e66aea3337f116dc"
  },
  {
   "cell_type": "code",
   "execution_count": 62,
   "outputs": [
    {
     "data": {
      "text/plain": "[['LINC02575', 'hsa-miR-6722-3p'],\n ['TMEM51-AS1', 'hsa-miR-8089'],\n ['NXT1-AS1', 'hsa-miR-2113'],\n ['MIR4422HG', 'hsa-miR-4726-3p'],\n ['DELEC1', 'hsa-miR-6848-3p'],\n ['PKN2-AS1', 'hsa-miR-6861-5p'],\n ['PCDH9-AS3', 'hsa-miR-1262'],\n ['LINC02808', 'hsa-miR-518c-3p'],\n ['DLEU2', 'hsa-miR-6812-5p'],\n ['DDR1-DT', 'hsa-miR-412-3p'],\n ['LINC01203', 'hsa-miR-664a-3p'],\n ['SATB1-AS1', 'hsa-miR-6505-3p'],\n ['LINC00511', 'hsa-miR-133a-5p'],\n ['LINC01729', 'hsa-let-7a-3p'],\n ['SEC62-AS1', 'hsa-miR-637'],\n ['REV3L-IT1', 'hsa-miR-3689a-3p'],\n ['LINC00645', 'hsa-miR-501-5p'],\n ['MAGI2-AS2', 'hsa-miR-4733-5p'],\n ['ZFPM2-AS1', 'hsa-miR-200a-5p'],\n ['LINC01732', 'hsa-miR-29b-2-5p'],\n ['SDCBP2-AS1', 'hsa-miR-3605-3p'],\n ['TUG1', 'hsa-miR-4761-5p'],\n ['TOB1-AS1', 'hsa-miR-196a-1-3p'],\n ['EML4-AS1', 'hsa-miR-6741-3p'],\n ['COL25A1-DT', 'hsa-miR-3613-3p'],\n ['TARID', 'hsa-miR-4739'],\n ['LINC01639', 'hsa-miR-6811-5p'],\n ['LINC00999', 'hsa-miR-4776-3p'],\n ['PLCXD2-AS1', 'hsa-miR-6738-5p'],\n ['NCOA7-AS1', 'hsa-miR-1277-5p'],\n ['LINC01814', 'hsa-miR-10396a-3p'],\n ['LAMTOR5-AS1', 'hsa-miR-320b'],\n ['LINC00642', 'hsa-miR-24-2-5p'],\n ['SLC2A1-AS1', 'hsa-miR-891b'],\n ['LINC01987', 'hsa-miR-30c-2-3p'],\n ['PHC2-AS1', 'hsa-miR-6721-5p'],\n ['IGBP1-AS1', 'hsa-miR-4524a-3p'],\n ['LINC01493', 'hsa-miR-548as-5p'],\n ['DPP10-AS1', 'hsa-miR-4281'],\n ['HCG21', 'hsa-miR-27a-3p'],\n ['LINC01471', 'hsa-miR-6779-3p'],\n ['LINC02768', 'hsa-miR-29a-3p'],\n ['PROX1-AS1', 'hsa-miR-377-5p'],\n ['WDFY3-AS2', 'hsa-miR-192-3p'],\n ['ADAMTS9-AS2', 'hsa-miR-3649'],\n ['KCNIP1-OT1', 'hsa-miR-8059'],\n ['LINC01833', 'hsa-miR-4329'],\n ['LINC01269', 'hsa-miR-6074'],\n ['LINC01725', 'hsa-miR-4659a-3p'],\n ['LINC02723', 'hsa-miR-8057'],\n ['RORA-AS2', 'hsa-miR-4773'],\n ['LINC01757', 'hsa-miR-10397-5p'],\n ['LINC00703', 'hsa-miR-3151-5p'],\n ['CISTR', 'hsa-miR-4666b'],\n ['FAM181A-AS1', 'hsa-miR-6774-5p'],\n ['LINC02269', 'hsa-miR-3168'],\n ['THAP9-AS1', 'hsa-miR-6817-3p'],\n ['L3MBTL2-AS1', 'hsa-miR-302e'],\n ['PCBP3-AS1', 'hsa-miR-4704-3p'],\n ['PHOX2B-AS1', 'hsa-miR-6821-5p'],\n ['JPX', 'hsa-miR-557'],\n ['LINC00909', 'hsa-miR-323a-5p'],\n ['LINC01946', 'hsa-miR-6814-5p'],\n ['LINC01031', 'hsa-miR-6893-5p'],\n ['PWRN4', 'hsa-miR-6807-3p'],\n ['HOXB-AS4', 'hsa-miR-6511a-5p'],\n ['LINC01151', 'hsa-miR-3668'],\n ['LINC02860', 'hsa-miR-4675'],\n ['LINC00954', 'hsa-miR-6804-3p'],\n ['LINC00261', 'hsa-miR-4697-5p'],\n ['SCHLAP1', 'hsa-miR-99b-3p'],\n ['LINC01875', 'hsa-miR-1228-5p'],\n ['LINC00839', 'hsa-miR-4676-5p'],\n ['STEAP3-AS1', 'hsa-miR-181d-5p'],\n ['PTCSC3', 'hsa-miR-3677-5p'],\n ['GNG12-AS1', 'hsa-miR-449b-5p'],\n ['LINC00354', 'hsa-miR-10400-3p'],\n ['LINC01524', 'hsa-miR-128-1-5p'],\n ['LINC01850', 'hsa-miR-3654'],\n ['LINC00092', 'hsa-miR-122b-3p'],\n ['LINC02056', 'hsa-miR-301a-5p'],\n ['DRAIC', 'hsa-miR-6128'],\n ['FAM66B', 'hsa-miR-451b'],\n ['FRGCA', 'hsa-miR-1246'],\n ['LINC00299', 'hsa-miR-152-3p'],\n ['ADAMTS19-AS1', 'hsa-miR-4773'],\n ['RAMP2-AS1', 'hsa-miR-5680'],\n ['DNAH17-AS1', 'hsa-miR-7114-5p'],\n ['KLF3-AS1', 'hsa-miR-9898'],\n ['LINC01241', 'hsa-miR-1843'],\n ['LINC02688', 'hsa-miR-10394-5p'],\n ['LINC00910', 'hsa-miR-6511a-5p'],\n ['LINC01350', 'hsa-miR-182-3p'],\n ['LINC01339', 'hsa-miR-155-3p'],\n ['MFF-DT', 'hsa-miR-5681b'],\n ['LINC01917', 'hsa-miR-6085'],\n ['LINC02584', 'hsa-miR-597-3p'],\n ['PRDM16-DT', 'hsa-miR-6771-5p'],\n ['LINC01358', 'hsa-miR-3619-3p'],\n ['LINC00839', 'hsa-miR-548aq-5p'],\n ['UPK1A-AS1', 'hsa-miR-1306-5p'],\n ['MIR583HG', 'hsa-miR-18b-3p'],\n ['LINC02153', 'hsa-miR-6808-3p'],\n ['MPP7-DT', 'hsa-miR-378a-3p'],\n ['LINC01535', 'hsa-miR-487a-3p'],\n ['LINC02742', 'hsa-miR-6747-3p'],\n ['TRHDE-AS1', 'hsa-miR-548l'],\n ['LINC02256', 'hsa-miR-15b-5p'],\n ['LNCAROD', 'hsa-miR-4672'],\n ['ITGA9-AS1', 'hsa-miR-95-5p'],\n ['SNHG15', 'hsa-miR-4506'],\n ['NECTIN3-AS1', 'hsa-miR-4729'],\n ['HCFC1-AS1', 'hsa-miR-4487'],\n ['LINC02370', 'hsa-miR-515-5p'],\n ['CNIH3-AS1', 'hsa-miR-5684'],\n ['LINC01500', 'hsa-miR-675-5p'],\n ['MIR34AHG', 'hsa-miR-371b-5p'],\n ['LINC02104', 'hsa-miR-2114-3p'],\n ['IGFL2-AS1', 'hsa-miR-223-3p'],\n ['B3GALT5-AS1', 'hsa-miR-4287'],\n ['PLCE1-AS2', 'hsa-miR-6837-5p'],\n ['AZIN1-AS1', 'hsa-miR-4433a-3p'],\n ['POT1-AS1', 'hsa-miR-6836-5p'],\n ['LINC01269', 'hsa-miR-520e-3p'],\n ['LINC00933', 'hsa-miR-517a-3p'],\n ['LINC01127', 'hsa-miR-370-3p'],\n ['PPP1R12A-AS1', 'hsa-miR-3194-5p'],\n ['LINC02313', 'hsa-miR-4308'],\n ['LINC00665', 'hsa-miR-4655-3p'],\n ['NRAD1', 'hsa-miR-7974'],\n ['NDST1-AS1', 'hsa-miR-6800-3p'],\n ['FRMD6-AS2', 'hsa-miR-3908'],\n ['LINC02336', 'hsa-miR-4311'],\n ['LINC00343', 'hsa-miR-193a-3p'],\n ['ZFX-AS1', 'hsa-miR-3180-5p'],\n ['LINC01354', 'hsa-miR-4257'],\n ['ZBED3-AS1', 'hsa-miR-548b-3p'],\n ['LINC01133', 'hsa-miR-6856-3p'],\n ['CCDC37-DT', 'hsa-miR-134-3p'],\n ['EGILA', 'hsa-miR-3622b-5p'],\n ['LINC02872', 'hsa-miR-374b-5p'],\n ['LINC01681', 'hsa-miR-6124'],\n ['CEBPB-AS1', 'hsa-miR-6819-3p'],\n ['LINC01227', 'hsa-miR-548t-5p'],\n ['ZSCAN16-AS1', 'hsa-miR-4536-5p'],\n ['LINC02286', 'hsa-miR-5585-5p'],\n ['ZNF433-AS1', 'hsa-miR-379-3p'],\n ['LINC01484', 'hsa-miR-3920'],\n ['LINC00536', 'hsa-miR-103a-3p'],\n ['MAGI2-AS3', 'hsa-miR-5100'],\n ['CACNA2D3-AS1', 'hsa-miR-6753-5p'],\n ['LINC01948', 'hsa-miR-4273'],\n ['DDN-AS1', 'hsa-miR-302f'],\n ['LINC02741', 'hsa-miR-186-5p'],\n ['CASC21', 'hsa-miR-6891-3p'],\n ['MALAT1', 'hsa-miR-7162-5p'],\n ['SNTG2-AS1', 'hsa-miR-4444'],\n ['WDFY3-AS2', 'hsa-miR-1827'],\n ['LURAP1L-AS1', 'hsa-miR-486-3p'],\n ['LINC01287', 'hsa-miR-5197-5p'],\n ['LINC01474', 'hsa-miR-4786-3p'],\n ['LINC00641', 'hsa-miR-4649-3p'],\n ['ZNF350-AS1', 'hsa-miR-3174'],\n ['LINC01500', 'hsa-miR-539-5p'],\n ['CLYBL-AS2', 'hsa-miR-6772-3p'],\n ['LINC00929', 'hsa-miR-5571-3p'],\n ['LINC00881', 'hsa-miR-6786-5p'],\n ['LRRC7-AS1', 'hsa-miR-1288-3p'],\n ['CAVIN2-AS1', 'hsa-miR-7846-3p'],\n ['KIF9-AS1', 'hsa-miR-7843-5p'],\n ['TMPO-AS1', 'hsa-miR-5094'],\n ['TARID', 'hsa-miR-9851-5p'],\n ['LINC02723', 'hsa-miR-484'],\n ['RORA-AS2', 'hsa-miR-1264'],\n ['SLC25A21-AS1', 'hsa-miR-5691'],\n ['NAPA-AS1', 'hsa-miR-550b-3p'],\n ['LINC02599', 'hsa-miR-6720-5p'],\n ['LINC01985', 'hsa-miR-134-5p'],\n ['LINC01817', 'hsa-miR-541-5p'],\n ['LINC00449', 'hsa-miR-551a'],\n ['GLIS2-AS1', 'hsa-miR-345-3p'],\n ['LINC01891', 'hsa-miR-92a-2-5p'],\n ['LINC00494', 'hsa-miR-10396b-3p'],\n ['LINC01121', 'hsa-miR-4433b-3p'],\n ['FAM230C', 'hsa-miR-4651'],\n ['LINC01257', 'hsa-miR-3188'],\n ['MAST4-AS1', 'hsa-miR-12127'],\n ['LINC01550', 'hsa-miR-4464'],\n ['CD27-AS1', 'hsa-miR-4659a-5p'],\n ['LNCARSR', 'hsa-miR-6779-3p'],\n ['LINC01745', 'hsa-miR-6080'],\n ['LINC02458', 'hsa-miR-522-3p'],\n ['LINC02048', 'hsa-miR-93-5p'],\n ['LINC01019', 'hsa-miR-548ag'],\n ['CHL1-AS2', 'hsa-miR-6777-3p'],\n ['LINC02863', 'hsa-miR-3156-3p'],\n ['NCK1-DT', 'hsa-miR-769-5p'],\n ['CNTFR-AS1', 'hsa-miR-760'],\n ['MAMDC2-AS1', 'hsa-miR-4494'],\n ['LINC01789', 'hsa-miR-6812-5p'],\n ['RBFADN', 'hsa-miR-30b-3p'],\n ['GORAB-AS1', 'hsa-miR-7109-5p'],\n ['LINC02676', 'hsa-miR-513a-3p'],\n ['DELEC1', 'hsa-miR-6782-5p'],\n ['LINC01327', 'hsa-miR-130b-5p'],\n ['LINC01580', 'hsa-miR-4677-5p'],\n ['PTOV1-AS2', 'hsa-miR-1256'],\n ['PABPC4-AS1', 'hsa-miR-7150'],\n ['DRAIC', 'hsa-miR-562'],\n ['LINC02476', 'hsa-miR-12125'],\n ['LINC02204', 'hsa-miR-5087'],\n ['LINC01116', 'hsa-miR-135a-5p'],\n ['LINC00593', 'hsa-miR-6082'],\n ['ITPKB-AS1', 'hsa-miR-373-3p'],\n ['HPYR1', 'hsa-miR-378f'],\n ['ITFG1-AS1', 'hsa-miR-4727-3p'],\n ['LINC02703', 'hsa-miR-7106-3p'],\n ['KIF9-AS1', 'hsa-miR-4742-5p'],\n ['LINC01742', 'hsa-miR-30c-5p'],\n ['ATP6V0E2-AS1', 'hsa-miR-6759-3p'],\n ['LINC02374', 'hsa-miR-548s'],\n ['LINC00550', 'hsa-miR-4524b-5p'],\n ['DIRC3', 'hsa-miR-6864-5p'],\n ['RBMS3-AS2', 'hsa-miR-8086'],\n ['LINC02492', 'hsa-miR-1205'],\n ['LINC00333', 'hsa-miR-4514'],\n ['LINC02556', 'hsa-miR-132-3p'],\n ['HECW2-AS1', 'hsa-miR-29b-2-5p'],\n ['ENTPD1-AS1', 'hsa-miR-548aq-3p'],\n ['ATP2B1-AS1', 'hsa-miR-6820-3p'],\n ['LINC01135', 'hsa-miR-888-5p'],\n ['LINC00881', 'hsa-let-7a-3p'],\n ['IGFBP7-AS1', 'hsa-miR-877-3p'],\n ['DLGAP1-AS2', 'hsa-miR-30b-3p'],\n ['MRPL20-DT', 'hsa-miR-222-5p'],\n ['LOH12CR2', 'hsa-miR-4760-5p'],\n ['LINC02269', 'hsa-miR-1208'],\n ['HCG17', 'hsa-miR-10400-5p'],\n ['LINC01579', 'hsa-miR-4778-3p'],\n ['MAP3K20-AS1', 'hsa-miR-429'],\n ['LHX1-DT', 'hsa-miR-7849-3p'],\n ['TTTY21', 'hsa-miR-6793-5p'],\n ['LINC01972', 'hsa-miR-4302'],\n ['LINC00313', 'hsa-miR-4763-5p'],\n ['LINC02575', 'hsa-miR-548g-5p'],\n ['LINC02278', 'hsa-miR-5588-3p'],\n ['LINC01238', 'hsa-miR-541-5p'],\n ['ZNF197-AS1', 'hsa-miR-6792-5p'],\n ['MIR600HG', 'hsa-miR-3190-5p'],\n ['HM13-AS1', 'hsa-miR-4457'],\n ['ZMIZ1-AS1', 'hsa-miR-181a-2-3p'],\n ['LINC02456', 'hsa-miR-4633-3p'],\n ['LINC02872', 'hsa-miR-4530'],\n ['IGF2BP2-AS1', 'hsa-miR-4645-5p'],\n ['PRMT5-AS1', 'hsa-miR-6735-5p'],\n ['MCHR2-AS1', 'hsa-miR-126-5p'],\n ['TM4SF19-AS1', 'hsa-miR-4767'],\n ['LINC01783', 'hsa-miR-4799-3p'],\n ['LINC02277', 'hsa-miR-3180-5p'],\n ['LRRC2-AS1', 'hsa-miR-302c-3p'],\n ['LINC02477', 'hsa-miR-5189-5p'],\n ['LINC01106', 'hsa-miR-769-5p'],\n ['LINC01955', 'hsa-miR-4685-5p'],\n ['MEF2C-AS1', 'hsa-miR-3173-3p'],\n ['POT1-AS1', 'hsa-miR-604'],\n ['LINC00298', 'hsa-miR-211-5p'],\n ['PARTICL', 'hsa-miR-1207-5p'],\n ['LINC01828', 'hsa-miR-5003-3p'],\n ['NAGPA-AS1', 'hsa-miR-4476'],\n ['LINC01461', 'hsa-miR-302a-5p'],\n ['LINC02200', 'hsa-miR-4732-3p'],\n ['MIR4500HG', 'hsa-miR-892b'],\n ['CDC42-IT1', 'hsa-miR-365b-3p'],\n ['AGAP1-IT1', 'hsa-miR-5586-3p'],\n ['LINC02086', 'hsa-miR-6126'],\n ['LINC02099', 'hsa-miR-374c-5p'],\n ['MIR548XHG', 'hsa-miR-935'],\n ['LINC02018', 'hsa-miR-8060'],\n ['AATBC', 'hsa-miR-8089'],\n ['LINC00353', 'hsa-miR-6513-5p'],\n ['LINC01856', 'hsa-miR-12128'],\n ['ETS1-AS1', 'hsa-miR-146b-5p'],\n ['POU6F2-AS2', 'hsa-miR-3188'],\n ['GACAT3', 'hsa-miR-4429'],\n ['IGFBP7-AS1', 'hsa-miR-4687-3p'],\n ['PIGY-DT', 'hsa-miR-210-3p'],\n ['EAF1-AS1', 'hsa-miR-4735-5p'],\n ['LINC01703', 'hsa-miR-3652'],\n ['RAMP2-AS1', 'hsa-miR-5584-5p'],\n ['SORCS3-AS1', 'hsa-miR-4533'],\n ['CBR3-AS1', 'hsa-miR-620'],\n ['TUSC8', 'hsa-miR-92a-3p'],\n ['LINC01165', 'hsa-miR-544b'],\n ['CT69', 'hsa-miR-3161'],\n ['LINC00240', 'hsa-miR-656-3p'],\n ['PCF11-AS1', 'hsa-miR-499b-5p'],\n ['FAM41AY2', 'hsa-miR-4287'],\n ['HCG23', 'hsa-miR-1229-5p'],\n ['LINC01615', 'hsa-miR-4740-5p'],\n ['MAGI2-AS3', 'hsa-miR-4276'],\n ['LINC00620', 'hsa-miR-4762-3p'],\n ['MIR9-3HG', 'hsa-miR-6089'],\n ['LINC01018', 'hsa-miR-4282'],\n ['UBE2R2-AS1', 'hsa-miR-4535'],\n ['LINC01811', 'hsa-miR-548az-3p'],\n ['LINC01755', 'hsa-miR-222-5p'],\n ['LINC01036', 'hsa-miR-4756-5p'],\n ['LINC02778', 'hsa-miR-2114-3p'],\n ['TMEM30A-DT', 'hsa-miR-382-3p'],\n ['LINC02660', 'hsa-miR-12117'],\n ['LINC00337', 'hsa-miR-3665'],\n ['KIAA0087', 'hsa-miR-6504-3p'],\n ['MIR570HG', 'hsa-miR-1273c'],\n ['LINC00881', 'hsa-miR-548l'],\n ['LINC02717', 'hsa-miR-4662b'],\n ['TSBP1-AS1', 'hsa-miR-1245b-3p'],\n ['LINC01920', 'hsa-miR-30d-5p'],\n ['INTS9-AS1', 'hsa-miR-615-5p'],\n ['DLG1-AS1', 'hsa-miR-615-3p'],\n ['LINC00658', 'hsa-miR-6126'],\n ['COA6-AS1', 'hsa-miR-6768-3p'],\n ['LINC01186', 'hsa-miR-7109-5p'],\n ['ZFPM2-AS1', 'hsa-miR-4450'],\n ['CACNA2D3-AS1', 'hsa-miR-6776-3p'],\n ['IFNG-AS1', 'hsa-miR-6893-5p'],\n ['LINC-ROR', 'hsa-miR-769-5p'],\n ['TMEM9B-AS1', 'hsa-miR-9902'],\n ['LINC01885', 'hsa-miR-4775'],\n ['CCDC144NL-AS1', 'hsa-miR-138-1-3p'],\n ['ZNF22-AS1', 'hsa-miR-6882-5p'],\n ['LINC02588', 'hsa-miR-4681'],\n ['LINC00941', 'hsa-miR-1290'],\n ['LINC02699', 'hsa-miR-6858-5p'],\n ['FRMD6-AS2', 'hsa-miR-3611'],\n ['LINC02819', 'hsa-miR-362-3p'],\n ['LINC01624', 'hsa-miR-520h'],\n ['FAM197Y7', 'hsa-miR-4502'],\n ['RBPMS-AS1', 'hsa-miR-3135b'],\n ['BDNF-AS', 'hsa-miR-514a-5p'],\n ['LINC00957', 'hsa-miR-7160-5p'],\n ['LINC01696', 'hsa-miR-3184-5p'],\n ['NAGPA-AS1', 'hsa-miR-522-3p'],\n ['LINC02532', 'hsa-miR-583'],\n ['LINC01109', 'hsa-miR-1226-5p'],\n ['KCTD21-AS1', 'hsa-miR-516a-3p'],\n ['LINC02005', 'hsa-miR-361-5p'],\n ['ZNF460-AS1', 'hsa-miR-543'],\n ['TRPC7-AS1', 'hsa-miR-557'],\n ['LINC02477', 'hsa-miR-548k'],\n ['LINC01857', 'hsa-miR-6797-5p'],\n ['LINC01682', 'hsa-miR-4699-5p'],\n ['LINGO1-AS2', 'hsa-miR-4433a-3p'],\n ['LINC01926', 'hsa-miR-552-3p'],\n ['LINC02682', 'hsa-miR-9900'],\n ['LINC01398', 'hsa-miR-130a-5p'],\n ['EGFLAM-AS4', 'hsa-miR-4282'],\n ['LRRK2-DT', 'hsa-miR-4427'],\n ['LCMT1-AS1', 'hsa-miR-1283'],\n ['PART1', 'hsa-miR-3183'],\n ['WDR11-AS1', 'hsa-miR-4302'],\n ['LINC00622', 'hsa-miR-199b-3p'],\n ['LINC02367', 'hsa-miR-4482-3p'],\n ['SOCS2-AS1', 'hsa-miR-6868-3p'],\n ['CAVIN2-AS1', 'hsa-miR-4660'],\n ['ZNF528-AS1', 'hsa-miR-6859-5p'],\n ['LINC02015', 'hsa-miR-1267'],\n ['SNHG14', 'hsa-miR-4645-3p'],\n ['DAAM2-AS1', 'hsa-miR-4446-3p'],\n ['LINC02750', 'hsa-miR-548as-3p'],\n ['ZRANB2-AS2', 'hsa-miR-642a-3p'],\n ['LINC01766', 'hsa-miR-6506-5p'],\n ['LINC02805', 'hsa-miR-3941'],\n ['LINC02284', 'hsa-miR-519e-3p'],\n ['LINC02553', 'hsa-miR-3677-5p'],\n ['LINC01107', 'hsa-miR-548ap-3p'],\n ['ITGB1-DT', 'hsa-miR-653-5p'],\n ['LINC02821', 'hsa-miR-6748-5p'],\n ['PAX8-AS1', 'hsa-miR-2114-5p'],\n ['LINC02652', 'hsa-miR-3161'],\n ['ADAMTSL4-AS1', 'hsa-miR-367-5p'],\n ['LINC00865', 'hsa-miR-17-3p'],\n ['ZEB1-AS1', 'hsa-miR-6884-5p'],\n ['XIRP2-AS1', 'hsa-miR-3714'],\n ['LINC00996', 'hsa-miR-4789-5p'],\n ['LINC02254', 'hsa-miR-7849-3p'],\n ['NCF4-AS1', 'hsa-miR-6769b-3p'],\n ['LINC02595', 'hsa-miR-4433b-5p'],\n ['LINC02414', 'hsa-miR-6125'],\n ['LINC01886', 'hsa-miR-9851-5p'],\n ['ALOX12-AS1', 'hsa-miR-6832-5p'],\n ['LINC02462', 'hsa-miR-518a-5p'],\n ['LINC02273', 'hsa-miR-508-3p'],\n ['LINC02882', 'hsa-miR-4778-3p'],\n ['UBA6-AS1', 'hsa-miR-338-3p'],\n ['LINC01856', 'hsa-miR-6785-5p'],\n ['BLACAT1', 'hsa-miR-5590-3p'],\n ['PCAT2', 'hsa-miR-4790-5p'],\n ['LINC01943', 'hsa-miR-409-5p'],\n ['NCKAP5-AS1', 'hsa-miR-6758-5p'],\n ['MYB-AS1', 'hsa-miR-3201'],\n ['SBF2-AS1', 'hsa-miR-6744-3p'],\n ['LINC00551', 'hsa-miR-8061'],\n ['FAM85B', 'hsa-miR-642a-3p'],\n ['LINC00707', 'hsa-miR-6835-5p'],\n ['LINC02844', 'hsa-miR-6793-5p'],\n ['LINC02077', 'hsa-miR-3185'],\n ['MIR4435-2HG', 'hsa-miR-3202'],\n ['USP27X-AS1', 'hsa-miR-3972'],\n ['MIR4458HG', 'hsa-miR-6727-3p'],\n ['LINC01814', 'hsa-miR-33b-3p'],\n ['CERS3-AS1', 'hsa-miR-487a-5p'],\n ['COMETT', 'hsa-miR-6792-3p'],\n ['LINC01474', 'hsa-miR-5011-5p'],\n ['APTR', 'hsa-miR-4428'],\n ['MIR4500HG', 'hsa-miR-183-5p'],\n ['LINC02714', 'hsa-miR-1286'],\n ['COL25A1-DT', 'hsa-miR-7162-5p'],\n ['LINC01151', 'hsa-miR-548aj-5p'],\n ['FSIP2-AS1', 'hsa-miR-4727-5p'],\n ['WDR11-AS1', 'hsa-miR-6510-3p'],\n ['SLC16A1-AS1', 'hsa-miR-520e-3p'],\n ['KDM2B-DT', 'hsa-miR-5094'],\n ['ECE1-AS1', 'hsa-miR-4481'],\n ['BCYRN1', 'hsa-let-7b-3p'],\n ['LINC01775', 'hsa-miR-5683'],\n ['LINC00871', 'hsa-miR-8056'],\n ['LINC02687', 'hsa-miR-4676-5p'],\n ['LERFS', 'hsa-miR-6836-3p'],\n ['MED4-AS1', 'hsa-miR-1284'],\n ['LINC02047', 'hsa-miR-3976'],\n ['LEMD1-AS1', 'hsa-miR-4478'],\n ['ADGRD1-AS1', 'hsa-miR-217-5p'],\n ['LINC02053', 'hsa-miR-548x-5p'],\n ['SLCO4A1-AS1', 'hsa-miR-6807-3p'],\n ['LINC00581', 'hsa-miR-4430'],\n ['LINC02346', 'hsa-miR-1273h-5p'],\n ['TTN-AS1', 'hsa-miR-518d-5p'],\n ['FAM230I', 'hsa-miR-6762-5p'],\n ['FRMD6-AS1', 'hsa-miR-222-5p'],\n ['SCAT1', 'hsa-miR-181b-2-3p'],\n ['LINC01619', 'hsa-miR-140-3p'],\n ['MALINC1', 'hsa-miR-3158-5p'],\n ['LINC01297', 'hsa-miR-3129-3p'],\n ['TAF1A-AS1', 'hsa-miR-3662'],\n ['MIR7-3HG', 'hsa-miR-5698'],\n ['MAP3K5-AS1', 'hsa-miR-631'],\n ['LINC-PINT', 'hsa-miR-1237-5p'],\n ['LINC00391', 'hsa-miR-6785-5p'],\n ['LINC02611', 'hsa-miR-3176'],\n ['LINC00472', 'hsa-miR-1225-3p'],\n ['LINC02696', 'hsa-miR-12136'],\n ['LINC00412', 'hsa-miR-133a-5p'],\n ['LINC01479', 'hsa-miR-4708-3p'],\n ['NNT-AS1', 'hsa-miR-6758-3p'],\n ['LINC01091', 'hsa-miR-6783-3p'],\n ['LINC01285', 'hsa-miR-646'],\n ['LINC01474', 'hsa-miR-10393-5p'],\n ['PCGEM1', 'hsa-miR-6755-5p'],\n ['MIR548XHG', 'hsa-miR-3150b-3p'],\n ['LINC01140', 'hsa-miR-4735-5p'],\n ['ATP2B1-AS1', 'hsa-miR-1266-3p'],\n ['SOCAR', 'hsa-miR-199a-3p'],\n ['LINC02363', 'hsa-miR-6743-5p'],\n ['LINC02476', 'hsa-miR-4762-5p'],\n ['TSPOAP1-AS1', 'hsa-miR-3146'],\n ['LINC02254', 'hsa-miR-6733-5p'],\n ['LINC02683', 'hsa-miR-6072'],\n ['MIR100HG', 'hsa-miR-6805-5p'],\n ['BACH1-AS1', 'hsa-miR-3194-3p'],\n ['LINC02579', 'hsa-miR-6755-3p'],\n ['LINC02882', 'hsa-miR-4330'],\n ['HOXC-AS1', 'hsa-miR-2681-3p'],\n ['LINC02492', 'hsa-miR-4330'],\n ['LINC01050', 'hsa-miR-584-3p'],\n ['CLSTN2-AS1', 'hsa-miR-1246'],\n ['F11-AS1', 'hsa-miR-6837-5p'],\n ['LINC01430', 'hsa-miR-146b-3p'],\n ['LINC02783', 'hsa-miR-6735-5p'],\n ['LINC02316', 'hsa-miR-891b'],\n ['LINC02365', 'hsa-miR-3689b-3p'],\n ['LINC00378', 'hsa-miR-4760-3p'],\n ['LINC00944', 'hsa-miR-548bb-3p'],\n ['LINC01647', 'hsa-miR-920'],\n ['LINC02103', 'hsa-miR-124-5p'],\n ['LINC02469', 'hsa-miR-328-3p'],\n ['CNIH3-AS1', 'hsa-miR-4715-3p'],\n ['TRPM2-AS', 'hsa-miR-1228-5p'],\n ['WAC-AS1', 'hsa-miR-6755-5p'],\n ['BET1-AS1', 'hsa-miR-124-5p'],\n ['MIR670HG', 'hsa-miR-449a'],\n ['SNHG11', 'hsa-miR-4511'],\n ['MIR646HG', 'hsa-miR-31-3p'],\n ['LINC02476', 'hsa-miR-4518'],\n ['LINC00857', 'hsa-miR-6127'],\n ['LINC00402', 'hsa-miR-6785-5p'],\n ['LINC01735', 'hsa-miR-590-5p'],\n ['LINC02270', 'hsa-miR-338-3p'],\n ['SRRM2-AS1', 'hsa-miR-7110-5p'],\n ['NUTM2B-AS1', 'hsa-miR-10526-3p'],\n ['ZNF25-DT', 'hsa-miR-520e-3p'],\n ['BRWD1-AS1', 'hsa-miR-944'],\n ['GACAT2', 'hsa-miR-6755-3p'],\n ['LINC01487', 'hsa-miR-130a-5p'],\n ['LINC00528', 'hsa-miR-4297'],\n ['LINC00304', 'hsa-miR-1202'],\n ['LINC02261', 'hsa-miR-4652-5p'],\n ['ZBTB20-AS4', 'hsa-miR-6082'],\n ['LINC01338', 'hsa-miR-6761-5p'],\n ['LINC02580', 'hsa-miR-2682-3p'],\n ['ZRANB2-AS2', 'hsa-miR-642b-3p'],\n ['LINC00608', 'hsa-miR-6825-5p'],\n ['LINC02580', 'hsa-miR-3135a'],\n ['LINC02386', 'hsa-miR-4279'],\n ['LINC01320', 'hsa-miR-4286'],\n ['LINC00424', 'hsa-miR-3119'],\n ['LINC01376', 'hsa-miR-99b-3p'],\n ['CASC11', 'hsa-miR-1202'],\n ['FAM181A-AS1', 'hsa-miR-34c-5p'],\n ['LINC02742', 'hsa-miR-6870-3p'],\n ['LINC01298', 'hsa-miR-4666b'],\n ['CCDC26', 'hsa-miR-302c-5p'],\n ['LINC01402', 'hsa-miR-3150a-3p'],\n ['PRKCA-AS1', 'hsa-miR-30c-1-3p'],\n ['LINC01029', 'hsa-miR-4648'],\n ['DIAPH2-AS1', 'hsa-miR-645'],\n ['JPX', 'hsa-miR-759'],\n ['PPM1K-DT', 'hsa-miR-548au-5p'],\n ['MIR5689HG', 'hsa-miR-939-3p'],\n ['LINC02336', 'hsa-miR-2276-3p'],\n ['BET1-AS1', 'hsa-miR-5684'],\n ['LINC01168', 'hsa-miR-6835-5p'],\n ['LYRM4-AS1', 'hsa-miR-506-3p'],\n ['LINC01579', 'hsa-miR-493-5p'],\n ['CDC37L1-DT', 'hsa-miR-4529-3p'],\n ['LINC01365', 'hsa-miR-431-5p'],\n ['LGALSL-DT', 'hsa-miR-5681a'],\n ['MIR924HG', 'hsa-miR-664b-5p'],\n ['LINC02885', 'hsa-miR-4482-3p'],\n ['PKN2-AS1', 'hsa-miR-4524b-3p'],\n ['MIR29B2CHG', 'hsa-miR-4662a-5p'],\n ['HOXB-AS1', 'hsa-miR-4733-3p'],\n ['NAV2-IT1', 'hsa-miR-4254'],\n ['SH3PXD2A-AS1', 'hsa-miR-4511'],\n ['ABALON', 'hsa-miR-877-3p'],\n ['MCM3AP-AS1', 'hsa-miR-5699-3p'],\n ['MEF2C-AS1', 'hsa-miR-3938'],\n ['ZNF197-AS1', 'hsa-miR-545-3p'],\n ['LINC01758', 'hsa-miR-8078'],\n ['LINC01517', 'hsa-miR-543'],\n ['LINC02102', 'hsa-miR-486-3p'],\n ['LINC01359', 'hsa-miR-1272'],\n ['LINC01467', 'hsa-miR-3171'],\n ['LINC00524', 'hsa-miR-4465'],\n ['LINC00870', 'hsa-miR-9902'],\n ['TEX41', 'hsa-miR-6842-5p'],\n ['HOXC-AS1', 'hsa-miR-1915-5p'],\n ['MED4-AS1', 'hsa-miR-6776-5p'],\n ['LINC01435', 'hsa-miR-12121'],\n ['CCDC13-AS1', 'hsa-miR-4668-5p'],\n ['LINC01687', 'hsa-miR-4739'],\n ['LINC01284', 'hsa-miR-6721-5p'],\n ['LINC02561', 'hsa-miR-5003-5p'],\n ['LINC01249', 'hsa-miR-548g-5p'],\n ['LINC02055', 'hsa-miR-588'],\n ['MIR3150BHG', 'hsa-miR-6858-3p'],\n ['BCAR3-AS1', 'hsa-miR-5705'],\n ['LINC02386', 'hsa-miR-519d-3p'],\n ['TFAP2A-AS1', 'hsa-miR-500b-3p'],\n ['LINC02458', 'hsa-miR-520a-3p'],\n ['DANCR', 'hsa-miR-10525-3p'],\n ['LINC01317', 'hsa-miR-374a-3p'],\n ['SNAP25-AS1', 'hsa-miR-548b-5p'],\n ['NUTM2A-AS1', 'hsa-miR-4661-3p'],\n ['LINC01645', 'hsa-miR-5001-5p'],\n ['LINC01847', 'hsa-miR-135a-2-3p'],\n ['LINC02086', 'hsa-miR-640'],\n ['LINC01484', 'hsa-miR-548ar-3p'],\n ['LSINCT5', 'hsa-miR-3913-5p'],\n ['DARS-AS1', 'hsa-miR-6785-5p'],\n ['SNHG19', 'hsa-miR-1249-3p'],\n ['LINC01400', 'hsa-miR-27b-3p'],\n ['FSIP2-AS2', 'hsa-miR-378d'],\n ['LINC02180', 'hsa-miR-12116'],\n ['LINC02797', 'hsa-miR-4709-5p'],\n ['LINC01218', 'hsa-miR-555'],\n ['LINC00595', 'hsa-miR-4740-3p'],\n ['TMPO-AS1', 'hsa-miR-1343-5p'],\n ['LINC00559', 'hsa-miR-23b-3p'],\n ['MIR1302-2HG', 'hsa-miR-4330'],\n ['LINC01473', 'hsa-miR-654-3p'],\n ['LINC00881', 'hsa-miR-6728-3p'],\n ['STXBP5-AS1', 'hsa-miR-376a-5p'],\n ['LINC02254', 'hsa-miR-4679'],\n ['LINC01968', 'hsa-miR-4436b-5p'],\n ['LINC02563', 'hsa-miR-524-5p'],\n ['NKX2-1-AS1', 'hsa-miR-4747-3p'],\n ['NORAD', 'hsa-miR-15b-3p'],\n ['HIF1A-AS1', 'hsa-miR-708-5p'],\n ['BET1-AS1', 'hsa-miR-3133'],\n ['LINC00662', 'hsa-miR-4487'],\n ['LINC01988', 'hsa-miR-15a-3p'],\n ['CPEB2-DT', 'hsa-miR-2277-5p'],\n ['LINC01184', 'hsa-miR-4760-5p'],\n ['LINC01385', 'hsa-miR-4775'],\n ['LRRC2-AS1', 'hsa-miR-6128'],\n ['LINC02346', 'hsa-miR-6781-5p'],\n ['LINC00895', 'hsa-miR-4662b'],\n ['PHEX-AS1', 'hsa-miR-21-5p'],\n ['LINC01909', 'hsa-miR-6499-3p'],\n ['MIR548A1HG', 'hsa-miR-377-3p'],\n ['WASF3-AS1', 'hsa-miR-4769-3p'],\n ['LINC02815', 'hsa-miR-4709-5p'],\n ['LINC02051', 'hsa-miR-128-1-5p'],\n ['GPC5-AS1', 'hsa-miR-1264'],\n ['LINC00294', 'hsa-miR-302a-3p'],\n ['LINC00408', 'hsa-miR-5588-5p'],\n ['LINC02722', 'hsa-miR-4786-5p'],\n ['LINC01980', 'hsa-miR-372-3p'],\n ['DLGAP1-AS3', 'hsa-miR-4323'],\n ['LINC01993', 'hsa-miR-585-3p'],\n ['LINC02009', 'hsa-miR-6836-5p'],\n ['ARHGAP31-AS1', 'hsa-miR-6073'],\n ['MIRLET7A1HG', 'hsa-miR-3179'],\n ['LINC01665', 'hsa-miR-3686'],\n ['TCL6', 'hsa-miR-922'],\n ['LINC02213', 'hsa-miR-4302'],\n ['PTCSC2', 'hsa-miR-3149'],\n ['MIR223HG', 'hsa-miR-373-5p'],\n ['LINC01735', 'hsa-miR-4733-3p'],\n ['LINC00498', 'hsa-miR-5681b'],\n ['RERE-AS1', 'hsa-miR-548m'],\n ['LINC01289', 'hsa-miR-6799-5p'],\n ['LINC02430', 'hsa-miR-4772-5p'],\n ['DSCAM-IT1', 'hsa-miR-4677-3p'],\n ['LINC00649', 'hsa-miR-4632-5p'],\n ['LINC00519', 'hsa-miR-592'],\n ['PSORS1C3', 'hsa-miR-557'],\n ['DPYD-AS1', 'hsa-miR-6823-3p'],\n ['MRPS30-DT', 'hsa-miR-215-3p'],\n ['FSIP2-AS1', 'hsa-miR-5584-3p'],\n ['GTF3C2-AS1', 'hsa-miR-1301-5p'],\n ['LINC01740', 'hsa-miR-12132'],\n ['SATB2-AS1', 'hsa-miR-135a-2-3p'],\n ['LINC01780', 'hsa-miR-4270'],\n ['LINC02683', 'hsa-miR-4272'],\n ['CYP2U1-AS1', 'hsa-miR-205-3p'],\n ['LINC01194', 'hsa-miR-373-3p'],\n ['LINC01825', 'hsa-miR-1205'],\n ['LINC00466', 'hsa-miR-4654'],\n ['KCNIP1-OT1', 'hsa-miR-486-3p'],\n ['LINC00092', 'hsa-miR-1199-5p'],\n ['LINC01973', 'hsa-miR-4642'],\n ['LINC01091', 'hsa-miR-17-3p'],\n ['LINC00534', 'hsa-miR-3684'],\n ['LINC02026', 'hsa-miR-34b-5p'],\n ['HSD11B1-AS1', 'hsa-miR-12132'],\n ['LBX2-AS1', 'hsa-miR-7108-5p'],\n ['LINC00951', 'hsa-miR-12119'],\n ['FLG-AS1', 'hsa-miR-10a-5p'],\n ['SNHG15', 'hsa-miR-1972'],\n ['MIR3681HG', 'hsa-miR-4330'],\n ['LINC00508', 'hsa-miR-212-5p'],\n ['LINC00706', 'hsa-miR-4261'],\n ['LINC01428', 'hsa-miR-4751'],\n ['LINC02730', 'hsa-miR-3688-3p'],\n ['WASF3-AS1', 'hsa-miR-411-3p'],\n ['MIR646HG', 'hsa-miR-144-5p'],\n ['MRVI1-AS1', 'hsa-miR-4701-5p'],\n ['LINC02709', 'hsa-miR-518a-5p'],\n ['MCHR2-AS1', 'hsa-miR-548c-3p'],\n ['LINC02805', 'hsa-miR-802'],\n ['LINC00595', 'hsa-miR-1306-5p'],\n ['DNAJB5-DT', 'hsa-let-7f-2-3p'],\n ['LINC00574', 'hsa-miR-4428'],\n ['LINC00907', 'hsa-miR-10393-5p'],\n ['LINC01735', 'hsa-miR-4800-3p'],\n ['LINC01948', 'hsa-miR-6823-3p'],\n ['LINC00539', 'hsa-miR-921'],\n ['LINC01744', 'hsa-miR-7111-5p'],\n ['L3MBTL2-AS1', 'hsa-miR-148a-5p'],\n ['GASAL1', 'hsa-miR-200a-3p'],\n ['CASC2', 'hsa-miR-218-2-3p'],\n ['LINC00525', 'hsa-miR-126-5p'],\n ['MIR217HG', 'hsa-miR-34b-3p'],\n ['LIPE-AS1', 'hsa-miR-3161'],\n ['MAP3K14-AS1', 'hsa-miR-513c-5p'],\n ['LINC01893', 'hsa-miR-10524-5p'],\n ['ERICH3-AS1', 'hsa-miR-1912-3p'],\n ['LINC00457', 'hsa-miR-3163'],\n ['CLCA4-AS1', 'hsa-miR-877-3p'],\n ['TAPT1-AS1', 'hsa-miR-622'],\n ['LINC01090', 'hsa-miR-4421'],\n ['LINC00431', 'hsa-miR-635'],\n ['C9orf135-DT', 'hsa-miR-6777-3p'],\n ['SNTG2-AS1', 'hsa-miR-6760-5p'],\n ['LINC01347', 'hsa-miR-6516-5p'],\n ['RAB30-DT', 'hsa-miR-548aq-3p'],\n ['SOX1-OT', 'hsa-miR-4638-3p'],\n ['SEMA3F-AS1', 'hsa-miR-6848-3p'],\n ['LINC02097', 'hsa-miR-325'],\n ['CASC19', 'hsa-miR-1286'],\n ['ZEB2-AS1', 'hsa-miR-873-5p'],\n ['LINC02758', 'hsa-miR-6501-3p'],\n ['KDM2B-DT', 'hsa-miR-4455'],\n ['MRPL20-DT', 'hsa-miR-196a-1-3p'],\n ['KCNJ2-AS1', 'hsa-miR-548ba'],\n ['LINC01031', 'hsa-miR-6867-3p'],\n ['LINC01527', 'hsa-miR-4728-3p'],\n ['LINC00174', 'hsa-miR-34b-5p'],\n ['FNDC1-IT1', 'hsa-miR-549a-5p'],\n ['LINC02516', 'hsa-miR-4672'],\n ['MIR3681HG', 'hsa-miR-4760-5p'],\n ['LNC-LBCS', 'hsa-miR-3184-5p'],\n ['SMAD9-IT1', 'hsa-miR-5047'],\n ['LINC02583', 'hsa-miR-493-5p'],\n ['A2ML1-AS1', 'hsa-miR-10400-3p'],\n ['LINC01689', 'hsa-miR-620'],\n ['LINC01669', 'hsa-miR-6783-3p'],\n ['LINC02780', 'hsa-miR-4771'],\n ['RASSF10-DT', 'hsa-miR-196a-1-3p'],\n ['LINC02836', 'hsa-miR-6736-5p'],\n ['LINC00840', 'hsa-miR-4493'],\n ['LINC01702', 'hsa-miR-655-5p'],\n ['LINC02801', 'hsa-miR-4453'],\n ['LINC02398', 'hsa-miR-6785-5p'],\n ['LINC02261', 'hsa-miR-30b-3p'],\n ['SENCR', 'hsa-miR-4311'],\n ['BCAR3-AS1', 'hsa-miR-6731-3p'],\n ['C10orf71-AS1', 'hsa-miR-10394-5p'],\n ['ST8SIA6-AS1', 'hsa-miR-4770'],\n ['LINC02428', 'hsa-miR-548ad-5p'],\n ['CT69', 'hsa-miR-6747-5p'],\n ['HCG23', 'hsa-miR-7108-5p'],\n ['LINC01473', 'hsa-miR-4258'],\n ['MIR670HG', 'hsa-miR-6884-5p'],\n ['LINC01496', 'hsa-miR-1289'],\n ['LINC02267', 'hsa-miR-1238-3p'],\n ['YEATS2-AS1', 'hsa-miR-320b'],\n ['LINC01280', 'hsa-miR-367-5p'],\n ['FAM3D-AS1', 'hsa-miR-6506-5p'],\n ['SNHG29', 'hsa-miR-148b-3p'],\n ['PWRN1', 'hsa-miR-3667-3p'],\n ['CT70', 'hsa-miR-4654'],\n ['LINC02442', 'hsa-miR-3190-3p'],\n ['MIMT1', 'hsa-miR-548h-5p'],\n ['HCG25', 'hsa-miR-626'],\n ['A1BG-AS1', 'hsa-miR-3936'],\n ['LINC00433', 'hsa-miR-6888-3p'],\n ['LINC01138', 'hsa-miR-3130-5p'],\n ['L3MBTL4-AS1', 'hsa-miR-5688'],\n ['LINC00942', 'hsa-miR-487a-3p'],\n ['GATA2-AS1', 'hsa-miR-92b-3p'],\n ['LINC02768', 'hsa-miR-1296-5p'],\n ['LINC01395', 'hsa-miR-4640-3p'],\n ['LINC02490', 'hsa-miR-4725-5p'],\n ['LINC02029', 'hsa-miR-4753-3p'],\n ['MIR181A1HG', 'hsa-miR-4752'],\n ['LINC02697', 'hsa-miR-3620-3p'],\n ['TOB1-AS1', 'hsa-miR-519c-3p'],\n ['LINC01572', 'hsa-miR-28-3p'],\n ['LINC00645', 'hsa-miR-1301-5p'],\n ['LINC01962', 'hsa-miR-10a-3p'],\n ['LINC01888', 'hsa-miR-12116'],\n ['PRDM16-DT', 'hsa-miR-10526-3p'],\n ['ZNF460-AS1', 'hsa-miR-194-3p'],\n ['RNASEH2B-AS1', 'hsa-miR-3680-5p'],\n ['CACNA1C-IT2', 'hsa-miR-4291'],\n ['LINC01587', 'hsa-miR-5010-3p'],\n ['LINC01134', 'hsa-miR-548u'],\n ['FAM225A', 'hsa-miR-1226-3p'],\n ['LINC02400', 'hsa-miR-9903'],\n ['LINC01687', 'hsa-miR-3617-5p'],\n ['TSIX', 'hsa-miR-4254'],\n ['LINC02443', 'hsa-miR-548h-5p'],\n ['LMO7-AS1', 'hsa-miR-1179'],\n ['B4GALT1-AS1', 'hsa-miR-4786-3p'],\n ['CARMN', 'hsa-miR-197-5p'],\n ['CAVIN2-AS1', 'hsa-miR-6500-3p'],\n ['TDRKH-AS1', 'hsa-miR-4714-5p'],\n ['TRPC7-AS1', 'hsa-miR-526a-5p'],\n ['CDH18-AS1', 'hsa-miR-548s'],\n ['TENM3-AS1', 'hsa-miR-514a-5p'],\n [\" 'LINC00856\", 'hsa-miR-7152-5p'],\n ['LINC02818', 'hsa-miR-4795-5p'],\n ['LINC00449', 'hsa-miR-7856-5p'],\n ['LINC02691', 'hsa-miR-3085-5p'],\n ['ZFY-AS1', 'hsa-miR-3159'],\n ['LINC00469', 'hsa-miR-3162-3p'],\n ['KLHL30-AS1', 'hsa-miR-4665-5p'],\n ['LINC02221', 'hsa-miR-6803-5p'],\n ['LINC00260', 'hsa-miR-6858-5p'],\n ['SPINT1-AS1', 'hsa-miR-762'],\n ['LINC02088', 'hsa-miR-1181'],\n ['LINC01182', 'hsa-miR-6784-5p'],\n ['LINC02725', 'hsa-miR-6854-5p'],\n ['LINC02467', 'hsa-miR-8059'],\n ['NAV2-AS2', 'hsa-miR-569'],\n ['LINC01357', 'hsa-miR-1205'],\n ['PRKCQ-AS1', 'hsa-miR-548x-5p'],\n ['PRR34-AS1', 'hsa-miR-323a-5p'],\n ['LINC02057', 'hsa-miR-4723-3p'],\n ['HCG15', 'hsa-miR-522-5p'],\n ['LINC01498', 'hsa-miR-592'],\n ['LINC01991', 'hsa-miR-3140-3p'],\n ['FRGCA', 'hsa-miR-1827'],\n ['LMCD1-AS1', 'hsa-miR-4724-5p'],\n ['LINC01618', 'hsa-miR-335-5p'],\n ['MBNL1-AS1', 'hsa-miR-552-5p'],\n ['MANCR', 'hsa-miR-6888-5p'],\n ['MIR31HG', 'hsa-miR-517a-3p'],\n ['HAND2-AS1', 'hsa-miR-4745-3p'],\n ['LINC00477', 'hsa-miR-4266'],\n ['LINC02099', 'hsa-miR-5680'],\n ['OBSCN-AS1', 'hsa-miR-4322'],\n ['LINC01979', 'hsa-miR-128-2-5p'],\n ['LINC01934', 'hsa-miR-1233-5p'],\n ['LINC02653', 'hsa-miR-7150'],\n ['CCND2-AS1', 'hsa-miR-3689c'],\n ['LINC01630', 'hsa-miR-100-3p'],\n ['LINP1', 'hsa-miR-4778-3p'],\n ['LINC02018', 'hsa-miR-302d-5p'],\n ['LINC02569', 'hsa-miR-541-5p'],\n ['LINC02334', 'hsa-miR-6717-5p'],\n ['FAM230H', 'hsa-miR-12128'],\n ['LINC02694', 'hsa-miR-320d'],\n ['LAPTM4A-DT', 'hsa-miR-4705'],\n ['ZNF433-AS1', 'hsa-miR-217-3p'],\n ['BICRA-AS1', 'hsa-miR-4662b'],\n ['LINC00941', 'hsa-miR-4711-5p'],\n ['MORC2-AS1', 'hsa-miR-5690'],\n ['LINC02654', 'hsa-miR-1304-5p'],\n ['SENCR', 'hsa-miR-3147'],\n ['LINC01595', 'hsa-miR-506-5p'],\n ['PANTR1', 'hsa-miR-524-5p'],\n ['HMGN3-AS1', 'hsa-miR-4647'],\n ['LINC01543', 'hsa-miR-636'],\n ['DNAH17-AS1', 'hsa-miR-3649'],\n ['LINC02521', 'hsa-miR-4455'],\n ['LINC00491', 'hsa-miR-326'],\n ['LINC01424', 'hsa-miR-10396b-3p'],\n ['NTRK3-AS1', 'hsa-miR-646'],\n ['RAPGEF4-AS1', 'hsa-miR-6792-5p'],\n ['PRKG1-AS1', 'hsa-miR-1343-3p'],\n ['LINC02615', 'hsa-miR-598-3p'],\n ['LINC00852', 'hsa-miR-4438'],\n ['LINC01002', 'hsa-miR-4682'],\n ['CHL1-AS2', 'hsa-miR-548u'],\n ['LINC02152', 'hsa-miR-5697'],\n ['LINC02767', 'hsa-miR-877-3p'],\n ['PDYN-AS1', 'hsa-miR-520d-5p'],\n ['LINC02139', 'hsa-miR-6504-5p'],\n ['USP2-AS1', 'hsa-miR-6766-5p'],\n ['MAFA-AS1', 'hsa-miR-5739'],\n ['LINC00664', 'hsa-miR-1288-5p'],\n ['UBAC2-AS1', 'hsa-miR-3974'],\n ['LINC02023', 'hsa-miR-144-3p'],\n ['LINC01061', 'hsa-miR-6515-5p'],\n ['MKX-AS1', 'hsa-miR-497-5p'],\n ['SLC16A1-AS1', 'hsa-miR-4310'],\n ['LINC01392', 'hsa-miR-8058'],\n ['LINC01394', 'hsa-miR-4775'],\n ['LINC02812', 'hsa-miR-10398-3p'],\n ['EIF1AX-AS1', 'hsa-miR-3123'],\n ['LAMTOR5-AS1', 'hsa-miR-642a-3p'],\n ['LINC02267', 'hsa-miR-6499-3p'],\n ['NRON', 'hsa-miR-7106-3p'],\n ['STPG2-AS1', 'hsa-miR-661'],\n ['LINC00663', 'hsa-miR-1236-3p'],\n ['MAL2-AS1', 'hsa-miR-8085'],\n ['POU6F2-AS1', 'hsa-miR-217-5p'],\n ['LINC02698', 'hsa-miR-4722-5p'],\n ['VPS13B-DT', 'hsa-miR-1255b-5p'],\n ['LINC01989', 'hsa-miR-1255b-5p'],\n ['LAMA5-AS1', 'hsa-miR-149-5p'],\n ['ENTPD1-AS1', 'hsa-miR-20a-5p'],\n ['CDRT8', 'hsa-miR-374b-5p'],\n ['C2CD4D-AS1', 'hsa-miR-545-5p'],\n ['LINC02056', 'hsa-miR-548aj-5p'],\n ['LINC02666', 'hsa-miR-584-5p'],\n ['MEIS1-AS2', 'hsa-miR-4672'],\n ['FIRRE', 'hsa-miR-6828-3p'],\n ['MEG9', 'hsa-miR-6512-3p'],\n ['WT1-AS', 'hsa-miR-4753-3p'],\n ['PARTICL', 'hsa-miR-361-3p'],\n ['LINC01477', 'hsa-miR-631'],\n ['LINC00629', 'hsa-miR-6879-3p'],\n ['SRGAP3-AS3', 'hsa-miR-4313'],\n ['ANKRD34C-AS1', 'hsa-miR-4695-5p'],\n ['LINC00343', 'hsa-miR-4722-3p'],\n ['ZNF630-AS1', 'hsa-miR-6816-5p'],\n ['FABP6-AS1', 'hsa-miR-196a-5p'],\n ['MIR924HG', 'hsa-miR-3198'],\n ['TEX26-AS1', 'hsa-miR-4472'],\n ['SCAANT1', 'hsa-miR-6722-5p'],\n ['ALKBH3-AS1', 'hsa-miR-6735-5p'],\n ['MAPT-AS1', 'hsa-miR-675-3p'],\n ['IL12A-AS1', 'hsa-miR-744-3p'],\n ['BAALC-AS2', 'hsa-miR-3684'],\n ['LINC01133', 'hsa-miR-1303'],\n ['SMC2-AS1', 'hsa-miR-4719'],\n ['SLC8A1-AS1', 'hsa-miR-3165'],\n ['LINC00682', 'hsa-miR-2682-5p'],\n ['LINC00092', 'hsa-miR-3125'],\n ['LINC01965', 'hsa-miR-4271'],\n ['LINC02787', 'hsa-miR-527'],\n ['LINC02321', 'hsa-miR-5787'],\n ['GACAT3', 'hsa-miR-92a-1-5p'],\n ['LINC00923', 'hsa-miR-1227-3p'],\n ['KIRREL3-AS1', 'hsa-miR-4443'],\n ['LINC02882', 'hsa-miR-4706'],\n ['MRPS30-DT', 'hsa-miR-141-3p'],\n ['LINC01544', 'hsa-miR-548ao-3p'],\n ['ATP13A4-AS1', 'hsa-miR-548ar-5p'],\n ['PIK3CD-AS2', 'hsa-miR-4802-5p'],\n ['SIRLNT', 'hsa-miR-3978'],\n ['DISC1FP1', 'hsa-miR-624-5p'],\n ['LINC01580', 'hsa-miR-548q'],\n ['LINC02323', 'hsa-miR-4802-5p'],\n ['CCDC26', 'hsa-miR-182-5p'],\n ['LINC00487', 'hsa-miR-138-5p'],\n ['ENTPD3-AS1', 'hsa-miR-433-3p'],\n ['HSD11B1-AS1', 'hsa-miR-6130'],\n ['WEE2-AS1', 'hsa-miR-3919'],\n ['LINC02370', 'hsa-miR-8060'],\n ['LINC02360', 'hsa-miR-3074-5p'],\n ['ZNF451-AS1', 'hsa-miR-615-3p'],\n ['CASC15', 'hsa-miR-1299'],\n ['LINC00886', 'hsa-miR-873-3p'],\n ['LINC01697', 'hsa-miR-200c-3p'],\n ['LINC01929', 'hsa-miR-19b-3p'],\n ['LINC02223', 'hsa-miR-125a-3p'],\n ['LINC02431', 'hsa-miR-4719'],\n ['H2AZ1-DT', 'hsa-miR-577'],\n ['HULC', 'hsa-miR-664a-5p'],\n ['KCNJ6-AS1', 'hsa-miR-6822-5p'],\n ['LINC02468', 'hsa-miR-182-3p'],\n ['PCYT1B-AS1', 'hsa-miR-125a-3p'],\n ['LINC02625', 'hsa-miR-548ah-5p'],\n ['ARPP21-AS1', 'hsa-miR-548aq-5p'],\n ['DENND5B-AS1', 'hsa-miR-3667-5p'],\n ['LINC02611', 'hsa-miR-6867-5p'],\n ['LINC00933', 'hsa-miR-6766-3p'],\n ['FRG1-DT', 'hsa-miR-1246'],\n ['LINC01719', 'hsa-miR-6802-5p'],\n ['LINC02157', 'hsa-miR-7111-5p'],\n ['LINC02277', 'hsa-miR-708-3p'],\n ['LINC00457', 'hsa-miR-4430'],\n ['LINC02458', 'hsa-miR-4326'],\n ['LINC02462', 'hsa-miR-3176'],\n ['LINC02788', 'hsa-miR-6762-3p'],\n ['LINC00673', 'hsa-miR-4510'],\n ['HOXB-AS1', 'hsa-miR-125b-5p'],\n ['PRICKLE2-AS1', 'hsa-miR-12113'],\n ['LINC02666', 'hsa-miR-8057'],\n ['DHRS4-AS1', 'hsa-miR-4430'],\n ['LINC01122', 'hsa-miR-1323'],\n ['LINC01611', 'hsa-miR-4500'],\n ['LINC00317', 'hsa-miR-4731-5p'],\n ['TMCC1-AS1', 'hsa-miR-4661-5p'],\n ['SPATA42', 'hsa-miR-3691-5p'],\n ['LINC02885', 'hsa-miR-5088-3p'],\n ['LINC00574', 'hsa-miR-483-3p'],\n ['LHFPL3-AS2', 'hsa-miR-499b-5p'],\n ['LHX1-DT', 'hsa-miR-6780a-3p'],\n ['NAMA', 'hsa-miR-8089'],\n ['LINC01205', 'hsa-miR-8485'],\n ['LINC02136', 'hsa-miR-6832-3p'],\n ['HOXA-AS3', 'hsa-miR-409-3p'],\n ['F11-AS1', 'hsa-miR-519a-3p'],\n ['LINC01568', 'hsa-miR-8485'],\n ['LINC01508', 'hsa-miR-4656'],\n ['ITGA9-AS1', 'hsa-miR-6770-5p'],\n ['LINC00508', 'hsa-miR-548f-3p'],\n ['DIRC3', 'hsa-miR-877-3p'],\n ['HCG15', 'hsa-miR-130b-5p'],\n ['CSRP3-AS1', 'hsa-miR-6729-5p'],\n ['EPS15-AS1', 'hsa-miR-3121-5p'],\n ['NRG3-AS1', 'hsa-miR-518f-5p'],\n ['FAM111A-DT', 'hsa-miR-4649-3p'],\n ['RUVBL1-AS1', 'hsa-miR-4677-5p'],\n ['LINC01091', 'hsa-miR-6738-3p'],\n ['LINC01426', 'hsa-miR-196a-3p'],\n ['LINC02024', 'hsa-miR-4289'],\n ['LINC00518', 'hsa-miR-6763-5p'],\n ['AATBC', 'hsa-miR-6752-5p'],\n ['LINC01050', 'hsa-miR-7843-5p'],\n ['KLF3-AS1', 'hsa-miR-222-5p'],\n ['LINC02082', 'hsa-miR-4735-3p'],\n ['BFSP2-AS1', 'hsa-miR-3681-3p'],\n ['LINC00974', 'hsa-miR-6823-3p'],\n ['NRXN2-AS1', 'hsa-miR-188-3p'],\n ['LIX1L-AS1', 'hsa-miR-4635'],\n ['ZNF582-AS1', 'hsa-miR-6862-3p'],\n ['LINC01097', 'hsa-miR-1908-5p'],\n ['SLC8A1-AS1', 'hsa-miR-6889-3p'],\n ['LINC02078', 'hsa-miR-9500'],\n ['ST3GAL5-AS1', 'hsa-miR-6510-5p'],\n ['LINC01547', 'hsa-miR-3130-3p'],\n ['L3MBTL4-AS1', 'hsa-miR-4773'],\n ['LINC00229', 'hsa-miR-4426'],\n ...]"
     },
     "execution_count": 62,
     "metadata": {},
     "output_type": "execute_result"
    }
   ],
   "source": [
    "du1 = list(set(lncbook_a1_1.Gene1+'_'+lncbook_a1_1.Gene2))\n",
    "du1=[i.split('_') for i in list(du1)]\n",
    "du1"
   ],
   "metadata": {
    "collapsed": false,
    "ExecuteTime": {
     "end_time": "2023-12-18T07:47:53.201072800Z",
     "start_time": "2023-12-18T07:47:47.606717700Z"
    }
   },
   "id": "4b3533cdcb51cf68"
  },
  {
   "cell_type": "code",
   "execution_count": 95,
   "outputs": [
    {
     "data": {
      "text/plain": "4974356"
     },
     "execution_count": 95,
     "metadata": {},
     "output_type": "execute_result"
    }
   ],
   "source": [
    "len(du1)"
   ],
   "metadata": {
    "collapsed": false,
    "ExecuteTime": {
     "end_time": "2023-12-18T08:09:38.243845800Z",
     "start_time": "2023-12-18T08:09:38.234240Z"
    }
   },
   "id": "e47f15079f86989b"
  },
  {
   "cell_type": "code",
   "execution_count": 96,
   "outputs": [],
   "source": [
    "lncbook1 = pd.DataFrame(du1,columns=['Gene1','Gene2'])\n",
    "lncbook1.to_csv('F:/my projects/02.论文/论文四_桥本甲状腺炎/Project/Datas/Intersctomes/12.ALL/02.lncBook1.txt',sep='\\t',index=False)"
   ],
   "metadata": {
    "collapsed": false,
    "ExecuteTime": {
     "end_time": "2023-12-18T08:09:42.946964300Z",
     "start_time": "2023-12-18T08:09:39.172156800Z"
    }
   },
   "id": "bfe36d242a89e0fd"
  },
  {
   "cell_type": "code",
   "execution_count": 70,
   "outputs": [],
   "source": [
    "lncbook_b = pd.read_csv('F:/my projects/02.论文/论文四_桥本甲状腺炎/Project/Datas/Intersctomes/02.lncbook/lncrna_rbp_LncBook2.0.csv')"
   ],
   "metadata": {
    "collapsed": false,
    "ExecuteTime": {
     "end_time": "2023-12-18T07:54:37.618346200Z",
     "start_time": "2023-12-18T07:54:37.245674100Z"
    }
   },
   "id": "e0393f21299b47a3"
  },
  {
   "cell_type": "code",
   "execution_count": 71,
   "outputs": [
    {
     "data": {
      "text/plain": "              Gene ID Symbol  Transcript ID  Protein Cell Line  Start   End  \\\n0       HSALNG0000002      -  HSALNT0000003    BUD13      K562    629   729   \n1       HSALNG0000002      -  HSALNT0000003      AQR      K562    861   908   \n2       HSALNG0000002      -  HSALNT0000003      AQR      K562    649   717   \n3       HSALNG0000002      -  HSALNT0000003      AQR      K562    321   383   \n4       HSALNG0000002      -  HSALNT0000004    BUD13      K562    629   729   \n...               ...    ...            ...      ...       ...    ...   ...   \n772740  HSALNG0136338      -  HSALNT0279543    XRCC6      K562   2901  2930   \n772741  HSALNG0136338      -  HSALNT0279543  SUPV3L1     HepG2   2966  2973   \n772742  HSALNG0136338      -  HSALNT0279543  SUPV3L1     HepG2   3001  3027   \n772743  HSALNG0136338      -  HSALNT0279543  SUPV3L1     HepG2   2878  2893   \n772744  HSALNG0136338      -  HSALNT0279543  SUPV3L1     HepG2   2894  2930   \n\n        Length  \n0          101  \n1           48  \n2           69  \n3           63  \n4          101  \n...        ...  \n772740      30  \n772741       8  \n772742      27  \n772743      16  \n772744      37  \n\n[772745 rows x 8 columns]",
      "text/html": "<div>\n<style scoped>\n    .dataframe tbody tr th:only-of-type {\n        vertical-align: middle;\n    }\n\n    .dataframe tbody tr th {\n        vertical-align: top;\n    }\n\n    .dataframe thead th {\n        text-align: right;\n    }\n</style>\n<table border=\"1\" class=\"dataframe\">\n  <thead>\n    <tr style=\"text-align: right;\">\n      <th></th>\n      <th>Gene ID</th>\n      <th>Symbol</th>\n      <th>Transcript ID</th>\n      <th>Protein</th>\n      <th>Cell Line</th>\n      <th>Start</th>\n      <th>End</th>\n      <th>Length</th>\n    </tr>\n  </thead>\n  <tbody>\n    <tr>\n      <th>0</th>\n      <td>HSALNG0000002</td>\n      <td>-</td>\n      <td>HSALNT0000003</td>\n      <td>BUD13</td>\n      <td>K562</td>\n      <td>629</td>\n      <td>729</td>\n      <td>101</td>\n    </tr>\n    <tr>\n      <th>1</th>\n      <td>HSALNG0000002</td>\n      <td>-</td>\n      <td>HSALNT0000003</td>\n      <td>AQR</td>\n      <td>K562</td>\n      <td>861</td>\n      <td>908</td>\n      <td>48</td>\n    </tr>\n    <tr>\n      <th>2</th>\n      <td>HSALNG0000002</td>\n      <td>-</td>\n      <td>HSALNT0000003</td>\n      <td>AQR</td>\n      <td>K562</td>\n      <td>649</td>\n      <td>717</td>\n      <td>69</td>\n    </tr>\n    <tr>\n      <th>3</th>\n      <td>HSALNG0000002</td>\n      <td>-</td>\n      <td>HSALNT0000003</td>\n      <td>AQR</td>\n      <td>K562</td>\n      <td>321</td>\n      <td>383</td>\n      <td>63</td>\n    </tr>\n    <tr>\n      <th>4</th>\n      <td>HSALNG0000002</td>\n      <td>-</td>\n      <td>HSALNT0000004</td>\n      <td>BUD13</td>\n      <td>K562</td>\n      <td>629</td>\n      <td>729</td>\n      <td>101</td>\n    </tr>\n    <tr>\n      <th>...</th>\n      <td>...</td>\n      <td>...</td>\n      <td>...</td>\n      <td>...</td>\n      <td>...</td>\n      <td>...</td>\n      <td>...</td>\n      <td>...</td>\n    </tr>\n    <tr>\n      <th>772740</th>\n      <td>HSALNG0136338</td>\n      <td>-</td>\n      <td>HSALNT0279543</td>\n      <td>XRCC6</td>\n      <td>K562</td>\n      <td>2901</td>\n      <td>2930</td>\n      <td>30</td>\n    </tr>\n    <tr>\n      <th>772741</th>\n      <td>HSALNG0136338</td>\n      <td>-</td>\n      <td>HSALNT0279543</td>\n      <td>SUPV3L1</td>\n      <td>HepG2</td>\n      <td>2966</td>\n      <td>2973</td>\n      <td>8</td>\n    </tr>\n    <tr>\n      <th>772742</th>\n      <td>HSALNG0136338</td>\n      <td>-</td>\n      <td>HSALNT0279543</td>\n      <td>SUPV3L1</td>\n      <td>HepG2</td>\n      <td>3001</td>\n      <td>3027</td>\n      <td>27</td>\n    </tr>\n    <tr>\n      <th>772743</th>\n      <td>HSALNG0136338</td>\n      <td>-</td>\n      <td>HSALNT0279543</td>\n      <td>SUPV3L1</td>\n      <td>HepG2</td>\n      <td>2878</td>\n      <td>2893</td>\n      <td>16</td>\n    </tr>\n    <tr>\n      <th>772744</th>\n      <td>HSALNG0136338</td>\n      <td>-</td>\n      <td>HSALNT0279543</td>\n      <td>SUPV3L1</td>\n      <td>HepG2</td>\n      <td>2894</td>\n      <td>2930</td>\n      <td>37</td>\n    </tr>\n  </tbody>\n</table>\n<p>772745 rows × 8 columns</p>\n</div>"
     },
     "execution_count": 71,
     "metadata": {},
     "output_type": "execute_result"
    }
   ],
   "source": [
    "lncbook_b"
   ],
   "metadata": {
    "collapsed": false,
    "ExecuteTime": {
     "end_time": "2023-12-18T07:54:41.042249200Z",
     "start_time": "2023-12-18T07:54:41.023145300Z"
    }
   },
   "id": "2b61c97adf1e9e1b"
  },
  {
   "cell_type": "code",
   "execution_count": 77,
   "outputs": [],
   "source": [
    "lncbook_b1 = lncbook_b.iloc[lncbook_b.Symbol.values!='-',[1,3]]"
   ],
   "metadata": {
    "collapsed": false,
    "ExecuteTime": {
     "end_time": "2023-12-18T07:56:24.663301900Z",
     "start_time": "2023-12-18T07:56:24.621930300Z"
    }
   },
   "id": "19f0b738696deee7"
  },
  {
   "cell_type": "code",
   "execution_count": 78,
   "outputs": [
    {
     "data": {
      "text/plain": "(582781, 2)"
     },
     "execution_count": 78,
     "metadata": {},
     "output_type": "execute_result"
    }
   ],
   "source": [
    "lncbook_b1.shape"
   ],
   "metadata": {
    "collapsed": false,
    "ExecuteTime": {
     "end_time": "2023-12-18T07:56:29.481715100Z",
     "start_time": "2023-12-18T07:56:29.462610400Z"
    }
   },
   "id": "bdbc9f7ac154e8ba"
  },
  {
   "cell_type": "code",
   "execution_count": 85,
   "outputs": [
    {
     "data": {
      "text/plain": "4678"
     },
     "execution_count": 85,
     "metadata": {},
     "output_type": "execute_result"
    }
   ],
   "source": [
    "du = list(set(lncbook_b1.Symbol+'_'+lncbook_b1.Protein))\n",
    "len(du)"
   ],
   "metadata": {
    "collapsed": false,
    "ExecuteTime": {
     "end_time": "2023-12-18T07:59:27.426785200Z",
     "start_time": "2023-12-18T07:59:27.351625900Z"
    }
   },
   "id": "2ea355db1f91c432"
  },
  {
   "cell_type": "code",
   "execution_count": 87,
   "outputs": [],
   "source": [
    "l = []\n",
    "for a in du:\n",
    "    x,y = a.split('_')\n",
    "    if ',' in x:\n",
    "        x = x.split(',')\n",
    "        for i in x:\n",
    "            l.append([i,y])\n",
    "    else:\n",
    "        l.append([x,y])\n",
    "    "
   ],
   "metadata": {
    "collapsed": false,
    "ExecuteTime": {
     "end_time": "2023-12-18T08:08:06.884670Z",
     "start_time": "2023-12-18T08:08:04.349116200Z"
    }
   },
   "id": "d08848694116bbc8"
  },
  {
   "cell_type": "code",
   "execution_count": 88,
   "outputs": [
    {
     "data": {
      "text/plain": "5444"
     },
     "execution_count": 88,
     "metadata": {},
     "output_type": "execute_result"
    }
   ],
   "source": [
    "len(l)"
   ],
   "metadata": {
    "collapsed": false,
    "ExecuteTime": {
     "end_time": "2023-12-18T08:08:13.368885900Z",
     "start_time": "2023-12-18T08:08:13.346954800Z"
    }
   },
   "id": "f9cd837981e8cc76"
  },
  {
   "cell_type": "code",
   "execution_count": 90,
   "outputs": [
    {
     "data": {
      "text/plain": "0"
     },
     "execution_count": 90,
     "metadata": {},
     "output_type": "execute_result"
    }
   ],
   "source": [
    "sum([',' in i for i,j in l])"
   ],
   "metadata": {
    "collapsed": false,
    "ExecuteTime": {
     "end_time": "2023-12-18T08:08:38.584619500Z",
     "start_time": "2023-12-18T08:08:38.579485500Z"
    }
   },
   "id": "9ddd6bb0314e2b0"
  },
  {
   "cell_type": "code",
   "execution_count": 94,
   "outputs": [],
   "source": [
    "lncbook12 = pd.DataFrame(l,columns=['Gene1','Gene2'])"
   ],
   "metadata": {
    "collapsed": false,
    "ExecuteTime": {
     "start_time": "2023-12-18T08:09:29.925185800Z"
    }
   },
   "id": "e7fe8a30f09dc01d"
  },
  {
   "cell_type": "code",
   "execution_count": 109,
   "outputs": [],
   "source": [
    "du = [i.split('_') for i in list(set(lncbook12.Gene1+'_'+lncbook12.Gene2))]\n",
    "du\n",
    "lncbook12 = pd.DataFrame(du,columns=['Gene1','Gene2'])"
   ],
   "metadata": {
    "collapsed": false,
    "ExecuteTime": {
     "end_time": "2023-12-18T08:14:30.779707600Z",
     "start_time": "2023-12-18T08:14:30.772225400Z"
    }
   },
   "id": "2a0330215a69436d"
  },
  {
   "cell_type": "code",
   "execution_count": 110,
   "outputs": [],
   "source": [
    "pd.concat([lncbook1,lncbook12],axis=0).to_csv('F:/my projects/02.论文/论文四_桥本甲状腺炎/Project/Datas/Intersctomes/12.ALL/02.lncBook.txt',sep='\\t',index=False)"
   ],
   "metadata": {
    "collapsed": false,
    "ExecuteTime": {
     "end_time": "2023-12-18T08:14:35.872055200Z",
     "start_time": "2023-12-18T08:14:32.475653600Z"
    }
   },
   "id": "8c3f008b0150db44"
  },
  {
   "cell_type": "code",
   "execution_count": 111,
   "outputs": [
    {
     "data": {
      "text/plain": "4979796"
     },
     "execution_count": 111,
     "metadata": {},
     "output_type": "execute_result"
    }
   ],
   "source": [
    "len(lncbook1)+len(lncbook12)"
   ],
   "metadata": {
    "collapsed": false,
    "ExecuteTime": {
     "end_time": "2023-12-18T08:14:38.033457300Z",
     "start_time": "2023-12-18T08:14:38.029632300Z"
    }
   },
   "id": "977aa8be5fa38443"
  },
  {
   "cell_type": "code",
   "execution_count": 112,
   "outputs": [],
   "source": [
    "all = pd.concat([lncbook1,lncbook12],axis=0)"
   ],
   "metadata": {
    "collapsed": false,
    "ExecuteTime": {
     "end_time": "2023-12-18T08:14:39.716541800Z",
     "start_time": "2023-12-18T08:14:39.562887800Z"
    }
   },
   "id": "5f23306feb40a40d"
  },
  {
   "cell_type": "code",
   "execution_count": 119,
   "outputs": [
    {
     "data": {
      "text/plain": "['hsa-miR-34a-5p',\n 'NPTN-IT1',\n 'LINC02123',\n 'hsa-miR-2053',\n 'XPO5',\n 'ADAMTSL4-AS1',\n 'hsa-miR-6866-3p',\n 'hsa-miR-26b-3p',\n 'hsa-miR-5581-5p',\n 'ASTN2-AS1',\n 'FGF10-AS1',\n 'SFPQ',\n 'NUTM2B-AS1',\n 'hsa-miR-6839-3p',\n 'hsa-miR-6841-5p',\n 'LINC01668',\n 'LINC02373',\n 'hsa-miR-874-3p',\n 'CAMTA1-IT1',\n 'hsa-miR-4768-3p',\n 'ERICD',\n 'hsa-miR-571',\n 'hsa-miR-518a-5p',\n 'CERS6-AS1',\n 'EIF1AX-AS1',\n 'SYNPR-AS1',\n 'hsa-miR-7974',\n 'hsa-miR-520e-3p',\n 'hsa-miR-4753-5p',\n 'SAP30-DT',\n 'LINC02065',\n 'LINC00592',\n 'LINC02025',\n 'SAP30L-AS1',\n 'hsa-miR-6790-5p',\n 'hsa-miR-3200-3p',\n 'hsa-miR-26b-5p',\n 'LINC02371',\n 'LINC01672',\n 'hsa-miR-1184',\n 'hsa-miR-181d-3p',\n 'LINC01248',\n 'CACNA1C-IT1',\n 'hsa-miR-5696',\n 'hsa-miR-6877-5p',\n 'RPS6KB2-AS1',\n 'RBPMS-AS1',\n 'LINC00459',\n 'hsa-miR-7112-3p',\n 'hsa-miR-378j',\n 'hsa-miR-18a-3p',\n 'hsa-miR-92a-1-5p',\n 'hsa-miR-12132',\n 'hsa-miR-4650-3p',\n 'hsa-miR-4685-5p',\n 'hsa-miR-512-3p',\n 'LINC01828',\n 'hsa-miR-4797-3p',\n 'NCKAP5-AS1',\n 'LINC02369',\n 'LINC02848',\n 'hsa-miR-216a-3p',\n 'hsa-miR-922',\n 'TTTY21B',\n 'LINC02204',\n 'hsa-miR-644a',\n 'MIR503HG',\n 'hsa-miR-6811-5p',\n 'hsa-miR-505-3p',\n 'LINC02845',\n 'MIR4713HG',\n 'LNCPRESS2',\n 'LINC01055',\n 'hsa-miR-4668-5p',\n 'KIF9-AS1',\n 'DLGAP1-AS2',\n 'TTTY17C',\n 'VAV3-AS1',\n 'FAM138F',\n 'hsa-miR-4432',\n 'LINC02069',\n 'GACAT1',\n 'hsa-miR-4424',\n 'LINC02171',\n 'hsa-miR-10400-5p',\n 'hsa-miR-628-5p',\n 'hsa-miR-6799-3p',\n 'PDE9A-AS1',\n 'PRMT5-AS1',\n 'NEXN-AS1',\n 'LINC02689',\n 'hsa-miR-6845-5p',\n 'MGAT3-AS1',\n 'hsa-miR-3689e',\n 'LINC02055',\n 'hsa-miR-4697-3p',\n 'TUSC8',\n 'hsa-miR-4666a-3p',\n 'STXBP5-AS1',\n 'LINC02062',\n 'LAMA4-AS1',\n 'hsa-miR-296-5p',\n 'hsa-miR-409-5p',\n 'LINC00630',\n 'hsa-miR-2682-5p',\n 'hsa-miR-1285-5p',\n 'LINC02533',\n 'PGM5P4-AS1',\n 'RASAL2-AS1',\n 'hsa-miR-1271-5p',\n 'HYI-AS1',\n 'hsa-miR-663b',\n 'LINC00460',\n 'RNASEH1-AS1',\n 'LINC01609',\n 'hsa-miR-892c-5p',\n 'FAM230C',\n 'hsa-miR-1247-5p',\n 'LNCOG',\n 'hsa-miR-936',\n 'MIR4435-2HG',\n 'LINC00841',\n 'TTTY14',\n 'LINC01846',\n 'N4BP2L2-IT2',\n 'LINC00921',\n 'hsa-miR-4310',\n 'LINC01939',\n 'LINC02869',\n 'hsa-miR-4517',\n 'hsa-miR-5703',\n 'hsa-miR-8054',\n 'LINC02544',\n 'hsa-miR-4447',\n 'LINC02241',\n 'ELOVL2-AS1',\n 'hsa-miR-6738-5p',\n 'NOLC1',\n 'hsa-miR-4453',\n 'PLCH1-AS2',\n 'hsa-miR-5006-3p',\n 'MYCNUT',\n 'MIR3150BHG',\n 'LINC00235',\n 'LINC02048',\n 'hsa-miR-3157-5p',\n 'hsa-miR-4281',\n 'TTN-AS1',\n 'LINC01101',\n 'EIF3H',\n 'PAPPA-AS1',\n 'CDH18-AS1',\n 'LINC01326',\n 'HS6ST2-AS1',\n 'hsa-miR-1249-5p',\n 'hsa-miR-6869-5p',\n 'hsa-miR-4319',\n 'hsa-miR-3649',\n 'hsa-miR-940',\n 'LINC01387',\n 'hsa-miR-4680-5p',\n 'hsa-miR-513c-3p',\n 'LIFR-AS1',\n 'hsa-miR-4302',\n 'NRON',\n 'hsa-miR-6090',\n 'LINC00891',\n 'HCFC1-AS1',\n 'hsa-miR-6871-3p',\n 'LINC01888',\n 'SPATA3-AS1',\n 'ELDR',\n 'DISC1FP1',\n 'LINC01385',\n 'LINC02164',\n 'F11-AS1',\n 'hsa-miR-30d-3p',\n 'hsa-miR-15a-5p',\n 'LINC02654',\n 'THSD4-AS2',\n 'CHRM3-AS1',\n 'LINC02010',\n 'hsa-miR-1252-3p',\n 'LINC00645',\n 'KCND3-AS1',\n 'RNFT1-DT',\n 'LINC01697',\n 'LINC01893',\n 'GABPB1-IT1',\n 'CERNA2',\n 'LINC01694',\n 'hsa-miR-4646-5p',\n 'UBE2D3-AS1',\n 'ZNRD2-AS1',\n 'hsa-miR-100-3p',\n 'hsa-miR-6741-3p',\n 'LINC00923',\n 'BCL2L1-AS1',\n 'NORAD',\n 'hsa-miR-103a-1-5p',\n 'hsa-miR-302a-5p',\n 'NRSN2-AS1',\n 'hsa-miR-6074',\n 'LINC02685',\n 'hsa-miR-1178-3p',\n 'PARP11-AS1',\n 'LINC01926',\n 'CPS1-IT1',\n 'KCNMA1-AS3',\n 'SGO1-AS1',\n 'KDM4A-AS1',\n 'hsa-miR-3919',\n 'hsa-miR-6821-5p',\n 'UTP18',\n 'SH3BP5-AS1',\n 'LINC01715',\n 'CPVL-AS1',\n 'EPN2-AS1',\n 'BANCR',\n 'LEMD1-DT',\n 'LINC00092',\n 'LINC02003',\n 'LINC02515',\n 'CADM2-AS1',\n 'RASSF8-AS1',\n 'LINC01968',\n 'DLGAP2-AS1',\n 'HM13-AS1',\n 'DLEU2L',\n 'TBC1D8-AS1',\n 'CELF2-DT',\n 'hsa-miR-2115-5p',\n 'LINC01847',\n 'hsa-miR-5007-5p',\n 'AGBL5-AS1',\n 'hsa-miR-554',\n 'LINC00659',\n 'hsa-miR-892c-3p',\n 'FAM181A-AS1',\n 'LINC02104',\n 'LINC01725',\n 'LINC02547',\n 'LINC02460',\n 'hsa-miR-517a-3p',\n 'FAM138B',\n 'LINC00837',\n 'hsa-miR-4746-5p',\n 'LINC00434',\n 'hsa-miR-658',\n 'hsa-miR-373-3p',\n 'LINC00265',\n 'KANSL1L-AS1',\n 'ST7-OT3',\n 'LYST-AS1',\n 'LINC01712',\n 'LINC01553',\n 'hsa-miR-6804-3p',\n 'hsa-miR-329-3p',\n 'LINC02259',\n 'LINC01539',\n 'LINC02837',\n 'MIR34AHG',\n 'WWC2-AS1',\n 'hsa-miR-1247-3p',\n 'hsa-miR-4258',\n 'LINC01999',\n 'LINC02762',\n 'hsa-miR-450a-2-3p',\n 'FAM83A-AS1',\n 'hsa-miR-3926',\n 'hsa-miR-3128',\n 'MAL2-AS1',\n 'ARHGEF26-AS1',\n 'TTTY8B',\n 'LINC02455',\n 'LINC02691',\n 'RPS11',\n 'LINC02875',\n 'hsa-miR-1908-3p',\n 'ITPK1-AS1',\n 'LINC02853',\n 'CDRT7',\n 'LINC02522',\n 'EIF3J-DT',\n 'LINC01358',\n 'hsa-miR-7843-3p',\n 'DLEU7-AS1',\n 'LINC02410',\n 'SMAD1-AS1',\n 'LINC01653',\n 'RHOA-IT1',\n 'FAM215B',\n 'LINC01386',\n 'hsa-miR-3978',\n 'LINC02878',\n 'hsa-miR-221-3p',\n 'hsa-miR-2052',\n 'hsa-miR-4763-3p',\n 'OLMALINC',\n 'NAALADL2-AS2',\n 'hsa-miR-3674',\n 'hsa-miR-1324',\n 'IDH1-AS1',\n 'PDE2A-AS1',\n 'ADCY6-DT',\n 'hsa-miR-767-3p',\n 'hsa-miR-6133',\n 'hsa-miR-5011-3p',\n 'LINC01728',\n 'hsa-miR-3164',\n 'ILF3',\n 'ALOX12-AS1',\n 'LINC01784',\n 'LINC01766',\n 'hsa-miR-4488',\n 'LINC01849',\n 'hsa-miR-3140-5p',\n 'LINC01103',\n 'LINC01412',\n 'hsa-miR-4640-3p',\n 'LINC02221',\n 'STX17-AS1',\n 'FAM230E',\n 'LINC02495',\n 'hsa-miR-4473',\n 'ENOX1-AS2',\n 'SLTM',\n 'hsa-miR-4489',\n 'LINC01392',\n 'FAM224B',\n 'hsa-miR-5689',\n 'hsa-miR-580-3p',\n 'hsa-miR-548ag',\n 'LINC01558',\n 'hsa-miR-6829-3p',\n 'LINC00842',\n 'hsa-miR-744-3p',\n 'hsa-miR-1270',\n 'LINC00907',\n 'HOXD-AS2',\n 'LINC00431',\n 'hsa-miR-190a-3p',\n 'PPIG',\n 'LINC01974',\n 'LINC02036',\n 'FAM245A',\n 'TOLLIP-AS1',\n 'ETV5-AS1',\n 'hsa-miR-33b-3p',\n 'hsa-miR-490-5p',\n 'hsa-miR-3622a-5p',\n 'CSTF2',\n 'LINC00399',\n 'hsa-miR-4740-5p',\n 'LINC01511',\n 'hsa-miR-4329',\n 'hsa-miR-4738-3p',\n 'LINC00339',\n 'F10-AS1',\n 'GEMIN5',\n 'hsa-miR-297',\n 'hsa-miR-7158-5p',\n 'hsa-miR-4465',\n 'LINC02151',\n 'LINC02414',\n 'SNHG4',\n 'LINC01677',\n 'PAXIP1-AS1',\n 'LINC02683',\n 'LINC00515',\n 'LINC01690',\n 'LINC00550',\n 'LINC01117',\n 'hsa-miR-4477b',\n 'C1orf167-AS1',\n 'hsa-miR-371b-3p',\n 'hsa-miR-5685',\n 'hsa-miR-196b-3p',\n 'LINC02586',\n 'hsa-miR-1-3p',\n 'LINC01345',\n 'PCBP2',\n 'hsa-miR-7156-5p',\n 'TTTY6B',\n 'hsa-miR-338-3p',\n 'LINC01613',\n 'LINC02822',\n 'LINC00882',\n 'LINC02053',\n 'LINC01700',\n 'hsa-miR-146a-3p',\n 'hsa-miR-6772-5p',\n 'ATP13A4-AS1',\n 'hsa-miR-10226',\n 'hsa-miR-4535',\n 'hsa-miR-4433a-3p',\n 'TTTY13',\n 'LINC00926',\n 'LINC02321',\n 'LINC02305',\n 'hsa-miR-1202',\n 'hsa-miR-19a-3p',\n 'MAN2A1-DT',\n 'LINC02642',\n 'LINC01388',\n 'hsa-miR-4634',\n 'LINC02661',\n 'hsa-miR-4696',\n 'hsa-miR-602',\n 'hsa-miR-188-5p',\n 'hsa-miR-4467',\n 'LINC01840',\n 'TBX5-AS1',\n 'BIN3-IT1',\n 'hsa-miR-6848-3p',\n 'hsa-miR-5001-5p',\n 'KLHL30-AS1',\n 'DNMBP-AS1',\n 'hsa-miR-323a-5p',\n 'hsa-miR-7111-5p',\n 'FOXN3-AS1',\n 'LINC02127',\n 'LINC01067',\n 'A2ML1-AS2',\n 'DLG2-AS2',\n 'hsa-miR-4301',\n 'hsa-miR-4265',\n 'MIS18A-AS1',\n 'UCHL1-AS1',\n 'hsa-miR-4768-5p',\n 'hsa-miR-3686',\n 'hsa-miR-4786-5p',\n 'CSTF3-DT',\n 'LINC00587',\n 'SEMA5A-AS1',\n 'hsa-miR-6746-5p',\n 'FLNC-AS1',\n 'LINC02787',\n 'LINC02234',\n 'CHL1-AS1',\n 'LINC00114',\n 'hsa-miR-515-5p',\n 'hsa-miR-4731-3p',\n 'hsa-miR-429',\n 'LINC01565',\n 'FLG-AS1',\n 'LINC01946',\n 'KCNAB1-AS2',\n 'RBMS3-AS2',\n 'LINC00351',\n 'PCCA-AS1',\n 'hsa-miR-6529-5p',\n 'LINC01932',\n 'EML4-AS1',\n 'hsa-miR-4769-5p',\n 'hsa-miR-8070',\n 'MLIP-AS1',\n 'LINC00278',\n 'PCAT4',\n 'hsa-miR-6716-5p',\n 'LINC00840',\n 'hsa-miR-548az-3p',\n 'hsa-miR-4283',\n 'hsa-miR-302d-5p',\n 'VPS33B-DT',\n 'DGUOK-AS1',\n 'hsa-miR-3612',\n 'NBR2',\n 'UBAC2-AS1',\n 'ST7-AS2',\n 'TTTY18',\n 'hsa-miR-5001-3p',\n 'SLBP',\n 'hsa-miR-635',\n 'ACTA2-AS1',\n 'SLC25A5-AS1',\n 'ARLNC1',\n 'LINC02792',\n 'hsa-miR-3186-3p',\n 'EIF1B-AS1',\n 'hsa-miR-4999-3p',\n 'LINC01891',\n 'LINC02368',\n 'hsa-miR-6727-5p',\n 'hsa-miR-4766-5p',\n 'LINC02356',\n 'KLHDC7B-DT',\n 'CLMAT3',\n 'hsa-miR-377-5p',\n 'LINC01618',\n 'SH3TC2-DT',\n 'LINC01907',\n 'GEMIN7-AS1',\n 'LINC00476',\n 'hsa-miR-8075',\n 'LINC00702',\n 'A1BG-AS1',\n 'LINC02605',\n 'TMEM147-AS1',\n 'SNHG25',\n 'LRRC2-AS1',\n 'TRAM2-AS1',\n 'TTLL7-IT1',\n 'LINC02418',\n 'PPP1R12A-AS1',\n 'LINC02029',\n 'CFAP20DC-AS1',\n 'hsa-miR-6832-5p',\n 'LINC02435',\n 'hsa-miR-376a-5p',\n 'LINC01122',\n 'CYYR1-AS1',\n 'LINC02773',\n 'DDR1-DT',\n 'hsa-miR-6856-3p',\n 'LINC01838',\n 'hsa-miR-1199-5p',\n 'FRGCA',\n 'LINC02818',\n 'FAM239A',\n 'SLC26A9-AS1',\n 'EGLN3-AS1',\n 'LINC00205',\n 'MIR3142HG',\n 'SH3RF3-AS1',\n 'HOXC-AS3',\n 'LINC01563',\n 'hsa-miR-558',\n 'VAC14-AS1',\n 'hsa-miR-4474-3p',\n 'hsa-miR-4433b-3p',\n 'hsa-miR-7106-3p',\n 'LINC00909',\n 'FAM66B',\n 'GORAB-AS1',\n 'LINC01514',\n 'FAM230A',\n 'LINC02275',\n 'hsa-miR-3193',\n 'LINC01193',\n 'LINC02805',\n 'LINC00941',\n 'hsa-miR-4264',\n 'LINC02553',\n 'LINC01185',\n 'TAB3-AS2',\n 'FALEC',\n 'FGD5-AS1',\n 'LINC01447',\n 'LINC01953',\n 'hsa-miR-383-3p',\n 'PSG8-AS1',\n 'PCCA-DT',\n 'KLHL7-DT',\n 'hsa-miR-103a-3p',\n 'NALT1',\n 'BZW1-AS1',\n 'hsa-miR-5580-3p',\n 'hsa-miR-4472',\n 'LINC01146',\n 'LINC01779',\n 'LINC01257',\n 'LINC02314',\n 'IL10RB-DT',\n 'LINC01884',\n 'CYP2U1-AS1',\n 'hsa-miR-5579-5p',\n 'NAPA-AS1',\n 'PSMG3-AS1',\n 'LINC01628',\n 'LINC02296',\n 'CASC19',\n 'LINC02766',\n 'hsa-miR-6126',\n 'INO80-AS1',\n 'NAV2-AS2',\n 'LAPTM4A-DT',\n 'LINC02372',\n 'hsa-miR-3921',\n 'LINC02574',\n 'WEE2-AS1',\n 'hsa-miR-877-5p',\n 'LINC01871',\n 'hsa-miR-498-5p',\n 'UST-AS1',\n 'NKILA',\n 'TIPARP-AS1',\n 'hsa-miR-4255',\n 'hsa-miR-12121',\n 'hsa-miR-4760-5p',\n 'FRG1-DT',\n 'GRID1-AS1',\n 'PTPRD-AS2',\n 'LINC01657',\n 'ETV7-AS1',\n 'ZIM2-AS1',\n 'HTR3E-AS1',\n 'SNRK-AS1',\n 'hsa-miR-1275',\n 'hsa-miR-4290',\n 'hsa-miR-3929',\n \" 'LINC00856\",\n 'hsa-miR-6850-5p',\n 'LINC02466',\n 'MANEA-DT',\n 'hsa-miR-4524a-3p',\n 'hsa-miR-208a-3p',\n 'LDLRAD4-AS1',\n 'RHOXF1-AS1',\n 'hsa-miR-19a-5p',\n 'LINC01322',\n 'LINC01889',\n 'LINC01837',\n 'E2F3-IT1',\n 'PCAT29',\n 'SRD5A3-AS1',\n 'PWRN4',\n 'ACSL3-AS1',\n 'FOXP4-AS1',\n 'LINC01262',\n 'LINC02465',\n 'hsa-miR-12133',\n 'MUC12-AS1',\n 'CARD8-AS1',\n 'hsa-miR-3160-3p',\n 'ARHGAP31-AS1',\n 'hsa-miR-6870-3p',\n 'hsa-miR-300',\n 'LINC01425',\n 'LINC01872',\n 'hsa-miR-545-3p',\n 'hsa-miR-1206',\n 'hsa-miR-3529-5p',\n 'hsa-miR-6868-3p',\n 'JPX',\n 'hsa-miR-519e-5p',\n 'hsa-miR-1284',\n 'hsa-miR-4276',\n 'LINC01276',\n 'LINC00363',\n 'LINC00411',\n 'SLC12A9-AS1',\n 'RBM26-AS1',\n 'IGF2BP3',\n 'hsa-miR-4771',\n 'NDUFV2-AS1',\n 'DAAM2-AS1',\n 'hsa-miR-4735-3p',\n 'hsa-miR-3201',\n 'hsa-miR-4493',\n 'hsa-miR-4275',\n 'hsa-miR-361-3p',\n 'hsa-miR-6890-3p',\n 'hsa-miR-767-5p',\n 'DHRSX-IT1',\n 'hsa-miR-6881-3p',\n 'SMARCA5-AS1',\n 'ZNF30-AS1',\n 'MAFA-AS1',\n 'LINC01719',\n 'ELF3-AS1',\n 'LINC00903',\n 'LINC00898',\n 'LINC01331',\n 'LINC02844',\n 'HSD17B3-AS1',\n 'MIR1-1HG-AS1',\n 'LINC02148',\n 'LINC01765',\n 'LINC02098',\n 'LINC02052',\n 'CXXC4-AS1',\n 'LINC01632',\n 'LINC02137',\n 'hsa-miR-548a-5p',\n 'LINC00973',\n 'LINC01260',\n 'SLC7A14-AS1',\n 'hsa-miR-520b-3p',\n 'CADM2-AS2',\n 'hsa-miR-4804-3p',\n 'hsa-miR-584-3p',\n 'hsa-miR-2355-3p',\n 'FAM27C',\n 'FAM27E2',\n 'MIR99AHG',\n 'LINC02702',\n 'ADAMTSL4-AS2',\n 'PRAL',\n 'LINC02459',\n 'hsa-miR-5697',\n 'LINC02539',\n 'FAM182A',\n 'hsa-miR-4298',\n 'hsa-miR-4703-3p',\n 'LINC01443',\n 'SFTA1P',\n 'hsa-miR-4742-3p',\n 'LINC02802',\n 'LIPC-AS1',\n 'LINC01359',\n 'hsa-miR-342-3p',\n 'LINC02332',\n 'LINC02607',\n 'hsa-miR-21-5p',\n 'WARS2-AS1',\n 'LINC00463',\n 'EHHADH-AS1',\n 'LINC01520',\n 'hsa-miR-585-3p',\n 'ZC3H8',\n 'LINC02755',\n 'hsa-miR-4487',\n 'LUADT1',\n 'hsa-miR-1260a',\n 'SRSF7',\n 'LINC01600',\n 'LINC02652',\n 'hsa-miR-518a-3p',\n 'hsa-miR-4795-3p',\n 'hsa-miR-509-3p',\n 'MYB-AS1',\n 'CECR3',\n 'TDRKH-AS1',\n 'FAM78B-AS1',\n 'hsa-miR-526a-3p',\n 'hsa-miR-7162-5p',\n 'hsa-miR-3155b',\n 'hsa-miR-6089',\n 'hsa-miR-539-3p',\n 'hsa-miR-224-5p',\n 'A2ML1-AS1',\n 'hsa-miR-582-5p',\n 'hsa-miR-18b-3p',\n 'hsa-miR-3120-5p',\n 'GHRLOS',\n 'THRIL',\n 'hsa-miR-4528',\n 'hsa-miR-3972',\n 'hsa-miR-144-3p',\n 'hsa-miR-345-3p',\n 'WASHC5-AS1',\n 'WWTR1-IT1',\n 'FARP1-AS1',\n 'MIR5689HG',\n 'LINC01703',\n 'hsa-miR-17-5p',\n 'hsa-miR-548o-5p',\n 'LINC01586',\n 'LINC02269',\n 'LINC01938',\n 'hsa-miR-3913-5p',\n 'hsa-miR-548al',\n 'hsa-miR-371a-5p',\n 'hsa-miR-6849-3p',\n 'hsa-miR-520f-3p',\n 'LINC00881',\n 'LINC01848',\n 'LINC00683',\n 'hsa-miR-4727-3p',\n 'THRB-IT1',\n 'RHPN1-AS1',\n 'DLX2-DT',\n 'SLC25A30-AS1',\n 'NAV2-AS1',\n 'CACNA2D3-AS1',\n 'hsa-miR-519e-3p',\n 'LINC00424',\n 'hsa-miR-4512',\n 'LSAMP-AS1',\n 'hsa-miR-621',\n 'MIR325HG',\n 'hsa-miR-331-5p',\n 'hsa-miR-6895-3p',\n 'hsa-miR-378i',\n 'hsa-miR-330-5p',\n 'LINC00543',\n 'hsa-miR-6861-5p',\n 'NALCN-AS1',\n 'PANDAR',\n 'LINC02226',\n 'LINC01501',\n 'DDX39B-AS1',\n 'hsa-miR-4693-5p',\n 'LINC01353',\n 'BARX1-DT',\n 'hsa-miR-5706',\n 'MYCBP2-AS1',\n 'LINC02653',\n 'TMEM72-AS1',\n 'IGF2BP1',\n 'hsa-miR-6782-5p',\n 'hsa-miR-4490',\n 'hsa-miR-376c-5p',\n 'ZBTB11-AS1',\n 'hsa-miR-3139',\n 'hsa-miR-4715-3p',\n 'LINC01363',\n 'LINC01258',\n 'LINC01682',\n 'SLFNL1-AS1',\n 'LINC00423',\n 'hsa-miR-1470',\n 'LINC01778',\n 'hsa-miR-6868-5p',\n 'hsa-miR-6745',\n 'SMAD5-AS1',\n 'TTTY17B',\n 'LINC00706',\n 'MIR4290HG',\n 'LINC01028',\n 'hsa-miR-1303',\n 'CSMD2-AS1',\n 'hsa-miR-6828-5p',\n 'hsa-miR-371b-5p',\n 'LINC02011',\n 'hsa-miR-4659a-5p',\n 'LINC01749',\n 'hsa-miR-5089-3p',\n 'hsa-miR-5680',\n 'LINC02812',\n 'GRSF1',\n 'MEF2C-AS2',\n 'hsa-miR-3202',\n 'PARD6G-AS1',\n 'LINC01543',\n 'LINC01436',\n 'LINC01639',\n 'LINC02160',\n 'LINC02667',\n 'ENTPD1-AS1',\n 'LINC01763',\n 'hsa-miR-4314',\n 'LINC00266-3',\n 'LINC00334',\n 'hsa-miR-1915-5p',\n 'HAGLR',\n 'TSPEAR-AS1',\n 'ZNF433-AS1',\n 'NONO',\n 'ADGRD1-AS1',\n 'GSN-AS1',\n 'LINC01985',\n 'hsa-miR-19b-3p',\n 'DIRC3',\n 'ZNF385D-AS1',\n 'hsa-miR-587',\n 'hsa-miR-6814-5p',\n 'LINC00347',\n 'DSCAM-IT1',\n 'LINC01854',\n 'LINC00518',\n 'hsa-miR-4300',\n 'hsa-miR-218-2-3p',\n 'RMST',\n 'hsa-miR-655-3p',\n 'ZKSCAN2-DT',\n 'PICART1',\n 'hsa-miR-1269b',\n 'hsa-miR-2467-3p',\n 'hsa-miR-5007-3p',\n 'hsa-miR-4324',\n 'RORB-AS1',\n 'hsa-miR-122b-3p',\n 'hsa-miR-3124-3p',\n 'LINC00445',\n 'ROR1-AS1',\n 'LINC00319',\n 'hsa-miR-3153',\n 'hsa-miR-320a-3p',\n 'hsa-miR-181a-3p',\n 'SNHG14',\n 'LINC02322',\n 'hsa-miR-4469',\n 'LINC00499',\n 'LINC02857',\n 'SBNO1-AS1',\n 'ADAMTS19-AS1',\n 'LINC02794',\n 'hsa-miR-889-5p',\n 'LINC01242',\n 'PWRN1',\n 'LINC01525',\n 'LINC02128',\n 'HOXB-AS2',\n 'LINC00400',\n 'SZT2-AS1',\n 'AATBC',\n 'LINC01780',\n 'ZBTB20-AS5',\n 'hsa-miR-6726-3p',\n 'hsa-miR-6847-5p',\n 'ODF2-AS1',\n 'hsa-miR-4735-5p',\n 'BMP8B-AS1',\n 'hsa-miR-6722-3p',\n 'hsa-miR-505-5p',\n 'hsa-miR-193a-5p',\n 'RBM12B-AS1',\n 'hsa-miR-1287-5p',\n 'hsa-miR-145-3p',\n 'MYCBP2-AS2',\n 'hsa-miR-3907',\n 'FMR1-AS1',\n 'LINC02185',\n 'LINC01919',\n 'hsa-miR-339-3p',\n 'LINC00682',\n 'P4HA3-AS1',\n 'hsa-miR-6895-5p',\n 'LINC02526',\n 'LINC01209',\n 'hsa-miR-6744-5p',\n 'hsa-miR-6766-5p',\n 'hsa-miR-182-3p',\n 'THOC7-AS1',\n 'VASH1-AS1',\n 'RNF157-AS1',\n 'FER1L6-AS1',\n 'LINC00489',\n 'LINC02556',\n 'LINC00326',\n 'FAM27E5',\n 'COL18A1-AS1',\n 'hsa-miR-5691',\n 'hsa-miR-4431',\n 'hsa-miR-3973',\n 'hsa-miR-6889-5p',\n 'FAR1-IT1',\n 'LINC01627',\n 'hsa-miR-6510-3p',\n 'LINC01603',\n 'hsa-miR-4443',\n 'hsa-miR-579-5p',\n 'hsa-miR-6862-5p',\n 'BOK-AS1',\n 'LINC01455',\n 'hsa-miR-8083',\n 'MRPL23-AS1',\n 'SUCLA2-AS1',\n 'hsa-miR-301a-5p',\n 'LINC02328',\n 'LINC01338',\n 'MRPS30-DT',\n 'LINC02851',\n 'EDIL3-DT',\n 'hsa-miR-6771-5p',\n 'hsa-miR-4801',\n 'LINC02559',\n 'hsa-miR-3677-5p',\n 'hsa-miR-3182',\n 'hsa-miR-493-5p',\n 'LINC01493',\n 'ZNF529-AS1',\n 'hsa-miR-1288-3p',\n 'TBC1D22A-AS1',\n 'hsa-miR-6769a-5p',\n 'LINC01031',\n 'hsa-miR-34b-5p',\n 'LINC00458',\n 'KCNJ2-AS1',\n 'LINC02710',\n 'hsa-miR-99a-3p',\n 'WDFY3-AS1',\n 'hsa-miR-137-3p',\n 'LINC00710',\n 'LINC01441',\n 'hsa-miR-4694-3p',\n 'LARGE-IT1',\n 'SCAMP1-AS1',\n 'hsa-miR-4648',\n 'LINC00251',\n 'LINC01126',\n 'hsa-miR-5690',\n 'hsa-miR-1243',\n 'hsa-miR-6748-3p',\n 'hsa-miR-548ar-5p',\n 'HOXC-AS1',\n 'KDM2B-DT',\n 'LINC02846',\n 'hsa-miR-2276-3p',\n 'LINC01899',\n 'hsa-miR-4691-5p',\n 'LINC00635',\n 'LINC02365',\n 'LINC01912',\n 'TTTY7',\n 'hsa-miR-4506',\n 'hsa-miR-3194-3p',\n 'hsa-miR-4708-5p',\n 'LINC02169',\n 'MRGPRF-AS1',\n 'hsa-miR-3127-5p',\n 'hsa-miR-455-5p',\n 'hsa-miR-3606-5p',\n 'LINC02380',\n 'MMP2-AS1',\n 'LINC01960',\n 'LINC00307',\n 'KLF3-AS1',\n ...]"
     },
     "execution_count": 119,
     "metadata": {},
     "output_type": "execute_result"
    }
   ],
   "source": [
    "list(set(all.Gene1.values.tolist()+all.Gene2.values.tolist()))"
   ],
   "metadata": {
    "collapsed": false,
    "ExecuteTime": {
     "end_time": "2023-12-18T08:17:01.965606Z",
     "start_time": "2023-12-18T08:17:01.408334600Z"
    }
   },
   "id": "bcfa8ffaff0d2c10"
  },
  {
   "cell_type": "code",
   "execution_count": 121,
   "outputs": [
    {
     "data": {
      "text/plain": "9959592"
     },
     "execution_count": 121,
     "metadata": {},
     "output_type": "execute_result"
    }
   ],
   "source": [
    "len(all.Gene1.values.tolist()+all.Gene2.values.tolist())"
   ],
   "metadata": {
    "collapsed": false,
    "ExecuteTime": {
     "end_time": "2023-12-18T08:17:25.356835600Z",
     "start_time": "2023-12-18T08:17:25.083749200Z"
    }
   },
   "id": "262b0092eef42c4d"
  },
  {
   "cell_type": "code",
   "execution_count": 123,
   "outputs": [
    {
     "data": {
      "text/plain": "7161"
     },
     "execution_count": 123,
     "metadata": {},
     "output_type": "execute_result"
    }
   ],
   "source": [
    "len(set(all.Gene1.values.tolist()+all.Gene2.values.tolist()))"
   ],
   "metadata": {
    "collapsed": false,
    "ExecuteTime": {
     "end_time": "2023-12-18T08:17:43.832147300Z",
     "start_time": "2023-12-18T08:17:43.306239500Z"
    }
   },
   "id": "5dd76252b31fdb2"
  },
  {
   "cell_type": "code",
   "execution_count": null,
   "outputs": [],
   "source": [],
   "metadata": {
    "collapsed": false
   },
   "id": "fd1c7ee48f39842a"
  }
 ],
 "metadata": {
  "kernelspec": {
   "display_name": "Python 3",
   "language": "python",
   "name": "python3"
  },
  "language_info": {
   "codemirror_mode": {
    "name": "ipython",
    "version": 2
   },
   "file_extension": ".py",
   "mimetype": "text/x-python",
   "name": "python",
   "nbconvert_exporter": "python",
   "pygments_lexer": "ipython2",
   "version": "2.7.6"
  }
 },
 "nbformat": 4,
 "nbformat_minor": 5
}
