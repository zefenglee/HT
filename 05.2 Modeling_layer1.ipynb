{
 "cells": [
  {
   "cell_type": "code",
   "execution_count": 1,
   "id": "initial_id",
   "metadata": {
    "collapsed": true,
    "ExecuteTime": {
     "end_time": "2023-12-22T02:33:28.468336900Z",
     "start_time": "2023-12-22T02:33:27.402184600Z"
    }
   },
   "outputs": [],
   "source": [
    "from sklearn.preprocessing import StandardScaler,MinMaxScaler,RobustScaler,LabelEncoder\n",
    "from sklearn.metrics import accuracy_score,auc,roc_curve,precision_score,recall_score,f1_score\n",
    "import warnings\n",
    "warnings.filterwarnings('ignore')\n",
    "warnings.simplefilter('ignore')\n",
    "import numpy as np\n",
    "import pandas as pd\n",
    "#LR,DTC,RF,GBDT,XGB,CAT,ETC,LGB,SVC,KNN,MLP,NB\n",
    "from sklearn.linear_model import LogisticRegression\n",
    "from sklearn.tree import DecisionTreeClassifier\n",
    "from sklearn.neighbors import KNeighborsClassifier\n",
    "from sklearn.ensemble import RandomForestClassifier \n",
    "from sklearn.ensemble import GradientBoostingClassifier \n",
    "from sklearn.ensemble import ExtraTreesClassifier ,StackingClassifier\n",
    "from sklearn.svm import SVC\n",
    "from catboost import CatBoostClassifier \n",
    "from sklearn.neural_network import MLPClassifier\n",
    "from sklearn.ensemble import StackingClassifier\n",
    "from xgboost.sklearn import XGBClassifier\n",
    "from sklearn.naive_bayes import GaussianNB\n",
    "import lightgbm as lgb\n",
    "import random\n",
    "import hyperopt\n",
    "from hyperopt import hp, fmin, tpe, Trials, partial\n",
    "from hyperopt.early_stop import no_progress_loss\n",
    "from sklearn.model_selection import KFold,cross_validate,LeaveOneOut,GridSearchCV,train_test_split,RandomizedSearchCV\n",
    "import time\n",
    "from sklearn.preprocessing  import StandardScaler\n",
    "from sklearn.metrics import roc_auc_score\n",
    "import joblib\n",
    "from joblib import Parallel,delayed\n",
    "import sys\n",
    "sys.path.append('F:\\\\my projects\\\\02.论文\\\\论文四_桥本甲状腺炎\\\\Project\\\\Codes\\\\202312_Hashimotos_thyroiditis\\\\05 modeling')\n",
    "from Modeling_functions import *"
   ]
  },
  {
   "cell_type": "code",
   "execution_count": 2,
   "outputs": [
    {
     "name": "stdout",
     "output_type": "stream",
     "text": [
      "(41, 79)\n",
      "41\n",
      "(20, 79)\n",
      "20\n"
     ]
    }
   ],
   "source": [
    "X_train_scale,y_train,X_test_scale,y_test,= load_data()\n",
    "print(X_train_scale.shape)\n",
    "print(len(y_train))\n",
    "print(X_test_scale.shape)\n",
    "print(len(y_test))"
   ],
   "metadata": {
    "collapsed": false,
    "ExecuteTime": {
     "end_time": "2023-12-22T02:33:28.480041400Z",
     "start_time": "2023-12-22T02:33:28.467339900Z"
    }
   },
   "id": "7e6ec71563fd324e"
  },
  {
   "cell_type": "code",
   "execution_count": 3,
   "outputs": [
    {
     "data": {
      "text/plain": "41"
     },
     "execution_count": 3,
     "metadata": {},
     "output_type": "execute_result"
    }
   ],
   "source": [
    "random_state=42\n",
    "k = X_train_scale.shape[0]\n",
    "k"
   ],
   "metadata": {
    "collapsed": false,
    "ExecuteTime": {
     "end_time": "2023-12-22T02:33:29.449785300Z",
     "start_time": "2023-12-22T02:33:29.445451400Z"
    }
   },
   "id": "4cee51bad7bfbe96"
  },
  {
   "cell_type": "code",
   "execution_count": 10,
   "outputs": [
    {
     "name": "stdout",
     "output_type": "stream",
     "text": [
      "LR\n",
      "cv score:  0.9024390243902439\n",
      "train acc:  1.0\n",
      "train auc:  1.0\n",
      "test acc:  0.85\n",
      "test auc:  0.93\n",
      "RF\n",
      "cv score:  0.7073170731707317\n",
      "train acc:  1.0\n",
      "train auc:  1.0\n",
      "test acc:  0.85\n",
      "test auc:  0.91\n",
      "GBDT\n",
      "cv score:  0.5121951219512195\n",
      "train acc:  1.0\n",
      "train auc:  1.0\n",
      "test acc:  0.85\n",
      "test auc:  0.9000000000000001\n",
      "ETC\n",
      "cv score:  0.7317073170731707\n",
      "train acc:  1.0\n",
      "train auc:  1.0\n",
      "test acc:  0.75\n",
      "test auc:  0.9\n",
      "SVM\n",
      "cv score:  0.7804878048780488\n",
      "train acc:  0.8048780487804879\n",
      "train auc:  1.0\n",
      "test acc:  0.7\n",
      "test auc:  0.9\n",
      "XGB\n",
      "cv score:  0.7804878048780488\n",
      "train acc:  1.0\n",
      "train auc:  1.0\n",
      "test acc:  0.9\n",
      "test auc:  0.99\n",
      "MLP\n",
      "cv score:  0.9024390243902439\n",
      "train acc:  1.0\n",
      "train auc:  1.0\n",
      "test acc:  0.85\n",
      "test auc:  0.92\n",
      "KNN\n",
      "cv score:  0.8048780487804879\n",
      "train acc:  0.8292682926829268\n",
      "train auc:  0.9047619047619048\n",
      "test acc:  0.65\n",
      "test auc:  0.8200000000000001\n",
      "NB\n",
      "cv score:  0.7804878048780488\n",
      "train acc:  0.8780487804878049\n",
      "train auc:  0.875\n",
      "test acc:  0.8\n",
      "test auc:  0.78\n",
      "CAT\n",
      "cv score:  0.7073170731707317\n",
      "train acc:  1.0\n",
      "train auc:  1.0\n",
      "test acc:  0.85\n",
      "test auc:  0.9600000000000001\n"
     ]
    }
   ],
   "source": [
    "\n",
    "print('LR')\n",
    "clf = LogisticRegression(random_state=random_state)\n",
    "clf_res(clf,X_train_scale,y_train,X_test_scale,y_test,k,random_state)\n",
    "print('RF')\n",
    "clf = RandomForestClassifier(random_state=random_state)\n",
    "clf_res(clf,X_train_scale,y_train,X_test_scale,y_test,k,random_state)\n",
    "print('GBDT')\n",
    "clf = GradientBoostingClassifier(random_state=random_state)\n",
    "clf_res(clf,X_train_scale,y_train,X_test_scale,y_test,k,random_state)\n",
    "print('ETC')\n",
    "clf = ExtraTreesClassifier(random_state=random_state)\n",
    "clf_res(clf,X_train_scale,y_train,X_test_scale,y_test,k,random_state)\n",
    "print('SVM')\n",
    "clf = SVC(random_state=random_state,probability=True)\n",
    "clf_res(clf,X_train_scale,y_train,X_test_scale,y_test,k,random_state)\n",
    "print('XGB')\n",
    "clf = XGBClassifier(random_state=random_state)\n",
    "clf_res(clf,X_train_scale,y_train,X_test_scale,y_test,k,random_state)\n",
    "print('MLP')\n",
    "clf = MLPClassifier(random_state=random_state)\n",
    "clf_res(clf,X_train_scale,y_train,X_test_scale,y_test,k,random_state)\n",
    "print('KNN')\n",
    "clf = KNeighborsClassifier()\n",
    "clf_res(clf,X_train_scale,y_train,X_test_scale,y_test,k,random_state)\n",
    "print('NB')\n",
    "clf = GaussianNB()\n",
    "clf_res(clf,X_train_scale,y_train,X_test_scale,y_test,k,random_state)\n",
    "print('CAT')\n",
    "clf = CatBoostClassifier(random_state=random_state,verbose=False)\n",
    "clf_res(clf,X_train_scale,y_train,X_test_scale,y_test,k,random_state)"
   ],
   "metadata": {
    "collapsed": false,
    "ExecuteTime": {
     "end_time": "2023-12-21T14:17:08.116150Z",
     "start_time": "2023-12-21T14:16:18.493872900Z"
    }
   },
   "id": "13e8d5c9febce4e0"
  },
  {
   "cell_type": "code",
   "execution_count": 8,
   "outputs": [],
   "source": [
    "def param_hyperopt(max_evals=3000):\n",
    "    # 保存迭代过程\n",
    "    trials = Trials()\n",
    "    # 设置提前停止\n",
    "    early_stop_fn = no_progress_loss(200)\n",
    "    # 定义代理模型\n",
    "    params_best = fmin(hyperopt_objective\n",
    "                       , space=param_grid_simple\n",
    "                       , algo=tpe.suggest\n",
    "                       , max_evals=max_evals\n",
    "                       , verbose=True\n",
    "                       , trials=trials\n",
    "                       , early_stop_fn=early_stop_fn\n",
    "                       )\n",
    "    # 打印最优参数，fmin会自动打印最佳分数\n",
    "    print(\"\\n\", \"\\n\", \"best params: \", params_best,\n",
    "          \"\\n\")\n",
    "    return params_best, trials"
   ],
   "metadata": {
    "collapsed": false,
    "ExecuteTime": {
     "end_time": "2023-12-22T02:35:47.389921200Z",
     "start_time": "2023-12-22T02:35:47.361104700Z"
    }
   },
   "id": "51305d3e7443a97c"
  },
  {
   "cell_type": "markdown",
   "source": [
    "## LR"
   ],
   "metadata": {
    "collapsed": false
   },
   "id": "31ac19908248a8e4"
  },
  {
   "cell_type": "code",
   "execution_count": 12,
   "outputs": [
    {
     "name": "stdout",
     "output_type": "stream",
     "text": [
      "[0.65, 0.65, 0.7, 0.7, 0.8, 0.8, 0.8, 0.8, 0.85, 0.85, 0.85, 0.85, 0.85, 0.85, 0.85, 0.85, 0.85, 0.85, 0.85, 0.85, 0.85, 0.85, 0.85, 0.85, 0.85, 0.85, 0.85, 0.85, 0.85, 0.85, 0.85, 0.85, 0.85, 0.85, 0.85, 0.85, 0.85, 0.85]\n"
     ]
    }
   ],
   "source": [
    "res = []\n",
    "for C in np.arange(0.1, 2, 0.1):\n",
    "    for class_weight in [None, 'balanced']:\n",
    "        clf = LogisticRegression(penalty='l1'\n",
    "                                 ,C =C\n",
    "                                 ,solver='saga'\n",
    "                                 ,class_weight=class_weight\n",
    "                                 ,random_state=random_state)\n",
    "        clf.fit(X_train_scale,y_train)\n",
    "        res.append(clf.score(X_test_scale,y_test))\n",
    "print(res)"
   ],
   "metadata": {
    "collapsed": false,
    "ExecuteTime": {
     "end_time": "2023-12-21T14:17:26.087282400Z",
     "start_time": "2023-12-21T14:17:25.977932500Z"
    }
   },
   "id": "63f7a4b2e8234bd8"
  },
  {
   "cell_type": "code",
   "execution_count": 13,
   "outputs": [
    {
     "name": "stdout",
     "output_type": "stream",
     "text": [
      "[0.9, 0.9, 0.9, 0.9, 0.9, 0.9, 0.9, 0.9, 0.9, 0.9, 0.9, 0.9, 0.9, 0.9, 0.9, 0.9, 0.9, 0.9, 0.9, 0.9, 0.9, 0.9, 0.9, 0.9, 0.85, 0.85, 0.9, 0.9, 0.85, 0.85, 0.9, 0.9, 0.85, 0.85, 0.9, 0.9, 0.85, 0.85, 0.9, 0.9, 0.85, 0.85, 0.9, 0.9, 0.85, 0.85, 0.9, 0.9, 0.85, 0.85, 0.9, 0.9, 0.85, 0.85, 0.9, 0.9, 0.85, 0.85, 0.9, 0.9, 0.85, 0.85, 0.9, 0.9, 0.85, 0.85, 0.9, 0.9, 0.85, 0.85, 0.9, 0.9, 0.85, 0.85, 0.9, 0.9, 0.85, 0.85, 0.9, 0.9, 0.85, 0.85, 0.9, 0.9, 0.85, 0.85, 0.9, 0.9, 0.85, 0.85, 0.9, 0.9, 0.85, 0.85, 0.9, 0.9, 0.85, 0.85, 0.9, 0.9, 0.85, 0.85, 0.9, 0.85, 0.85, 0.85, 0.9, 0.9, 0.85, 0.85, 0.9, 0.85, 0.85, 0.85, 0.9, 0.9, 0.85, 0.85, 0.9, 0.85, 0.85, 0.85, 0.9, 0.9, 0.85, 0.85, 0.9, 0.85, 0.85, 0.85, 0.9, 0.9, 0.9, 0.9, 0.9, 0.85, 0.9, 0.9, 0.9, 0.9, 0.9, 0.9, 0.9, 0.85, 0.9, 0.9, 0.9, 0.9, 0.9, 0.9, 0.9, 0.85]\n"
     ]
    }
   ],
   "source": [
    "res = []\n",
    "for C in np.arange(0.1, 2, 0.1):\n",
    "    for class_weight in [None, 'balanced']:\n",
    "        for solver in ['lbfgs', 'newton-cg', 'sag', 'saga']: \n",
    "            clf = LogisticRegression(penalty='l2'\n",
    "                                     ,C =C\n",
    "                                     ,solver=solver\n",
    "                                     ,class_weight=class_weight\n",
    "                                     ,random_state=random_state)\n",
    "            clf.fit(X_train_scale,y_train)\n",
    "            res.append(clf.score(X_test_scale,y_test))\n",
    "print(res)"
   ],
   "metadata": {
    "collapsed": false,
    "ExecuteTime": {
     "end_time": "2023-12-21T14:17:36.267490600Z",
     "start_time": "2023-12-21T14:17:35.964819400Z"
    }
   },
   "id": "efe897aea0b78de6"
  },
  {
   "cell_type": "code",
   "execution_count": 14,
   "outputs": [
    {
     "name": "stdout",
     "output_type": "stream",
     "text": [
      "[0.85, 0.8, 0.8, 0.7, 0.7, 0.65, 0.65, 0.65, 0.65, 0.85, 0.8, 0.8, 0.7, 0.7, 0.65, 0.65, 0.65, 0.65, 0.85, 0.85, 0.85, 0.8, 0.8, 0.8, 0.75, 0.7, 0.7, 0.85, 0.85, 0.85, 0.85, 0.8, 0.8, 0.75, 0.7, 0.7, 0.85, 0.85, 0.85, 0.85, 0.85, 0.8, 0.8, 0.8, 0.8, 0.85, 0.85, 0.85, 0.85, 0.85, 0.85, 0.8, 0.8, 0.8, 0.85, 0.85, 0.85, 0.85, 0.85, 0.85, 0.85, 0.85, 0.8, 0.85, 0.85, 0.85, 0.85, 0.85, 0.85, 0.85, 0.85, 0.8, 0.85, 0.85, 0.85, 0.85, 0.85, 0.85, 0.85, 0.85, 0.85, 0.85, 0.85, 0.85, 0.85, 0.85, 0.85, 0.85, 0.85, 0.85, 0.85, 0.85, 0.85, 0.85, 0.85, 0.85, 0.85, 0.85, 0.85, 0.85, 0.85, 0.85, 0.85, 0.85, 0.85, 0.85, 0.85, 0.85, 0.85, 0.85, 0.85, 0.85, 0.85, 0.85, 0.85, 0.85, 0.85, 0.85, 0.85, 0.85, 0.85, 0.85, 0.85, 0.85, 0.85, 0.85, 0.85, 0.85, 0.85, 0.85, 0.85, 0.85, 0.85, 0.85, 0.85, 0.85, 0.85, 0.85, 0.85, 0.85, 0.85, 0.85, 0.85, 0.85, 0.85, 0.85, 0.85, 0.85, 0.85, 0.85, 0.85, 0.85, 0.85, 0.85, 0.85, 0.85, 0.85, 0.85, 0.85, 0.85, 0.85, 0.85, 0.85, 0.85, 0.85, 0.85, 0.85, 0.85, 0.85, 0.85, 0.85, 0.85, 0.85, 0.85, 0.85, 0.85, 0.85, 0.85, 0.85, 0.85, 0.85, 0.85, 0.85, 0.85, 0.85, 0.85, 0.85, 0.85, 0.85, 0.85, 0.85, 0.85, 0.85, 0.85, 0.85, 0.85, 0.85, 0.85, 0.85, 0.85, 0.85, 0.85, 0.85, 0.85, 0.85, 0.85, 0.85, 0.85, 0.85, 0.85, 0.85, 0.85, 0.85, 0.85, 0.85, 0.85, 0.85, 0.85, 0.85, 0.85, 0.85, 0.85, 0.85, 0.85, 0.85, 0.85, 0.85, 0.85, 0.85, 0.85, 0.85, 0.85, 0.85, 0.85, 0.9, 0.85, 0.85, 0.85, 0.85, 0.85, 0.85, 0.85, 0.85, 0.85, 0.85, 0.85, 0.85, 0.85, 0.85, 0.85, 0.85, 0.85, 0.9, 0.85, 0.85, 0.85, 0.85, 0.85, 0.85, 0.85, 0.85, 0.85, 0.85, 0.85, 0.85, 0.85, 0.85, 0.85, 0.85, 0.85, 0.9, 0.85, 0.85, 0.85, 0.85, 0.85, 0.85, 0.85, 0.85, 0.85, 0.85, 0.85, 0.85, 0.85, 0.85, 0.85, 0.85, 0.85, 0.9, 0.85, 0.85, 0.85, 0.85, 0.85, 0.85, 0.85, 0.85, 0.85, 0.85, 0.85, 0.85, 0.85, 0.85, 0.85, 0.85, 0.85, 0.9, 0.85, 0.85, 0.85, 0.85, 0.85, 0.85, 0.85, 0.85, 0.85, 0.85, 0.85, 0.85, 0.85, 0.85, 0.85, 0.85, 0.85, 0.9, 0.85, 0.85, 0.85, 0.85, 0.85, 0.85, 0.85, 0.85, 0.85, 0.85, 0.85, 0.85, 0.85, 0.85, 0.85, 0.85, 0.85]\n"
     ]
    }
   ],
   "source": [
    "res = []\n",
    "for C in np.arange(0.1, 2, 0.1):\n",
    "    for class_weight in [None, 'balanced']:\n",
    "        for l1_ratio in np.arange(0.1, 1, 0.1): \n",
    "            clf = LogisticRegression(penalty='elasticnet'\n",
    "                                     ,C =C\n",
    "                                     ,solver='saga'\n",
    "                                     ,l1_ratio=l1_ratio\n",
    "                                     ,class_weight=class_weight\n",
    "                                     ,random_state=random_state)\n",
    "            clf.fit(X_train_scale,y_train)\n",
    "            res.append(clf.score(X_test_scale,y_test))\n",
    "print(res)"
   ],
   "metadata": {
    "collapsed": false,
    "ExecuteTime": {
     "end_time": "2023-12-21T14:18:55.781475Z",
     "start_time": "2023-12-21T14:18:54.620776600Z"
    }
   },
   "id": "84fa0746fe6b2acb"
  },
  {
   "cell_type": "code",
   "execution_count": 9,
   "outputs": [
    {
     "ename": "NotFittedError",
     "evalue": "This LogisticRegression instance is not fitted yet. Call 'fit' with appropriate arguments before using this estimator.",
     "output_type": "error",
     "traceback": [
      "\u001B[1;31m---------------------------------------------------------------------------\u001B[0m",
      "\u001B[1;31mNotFittedError\u001B[0m                            Traceback (most recent call last)",
      "Cell \u001B[1;32mIn[9], line 10\u001B[0m\n\u001B[0;32m      6\u001B[0m clf \u001B[38;5;241m=\u001B[39m LogisticRegression(random_state\u001B[38;5;241m=\u001B[39mrandom_state)\n\u001B[0;32m      7\u001B[0m cv \u001B[38;5;241m=\u001B[39m KFold(n_splits\u001B[38;5;241m=\u001B[39mk,shuffle\u001B[38;5;241m=\u001B[39m\u001B[38;5;28;01mTrue\u001B[39;00m,random_state\u001B[38;5;241m=\u001B[39mrandom_state)\n\u001B[0;32m      8\u001B[0m search \u001B[38;5;241m=\u001B[39m GridSearchCV(estimator\u001B[38;5;241m=\u001B[39mclf\n\u001B[0;32m      9\u001B[0m                      ,param_grid\u001B[38;5;241m=\u001B[39mparam_grid\n\u001B[1;32m---> 10\u001B[0m                      ,scoring \u001B[38;5;241m=\u001B[39m \u001B[43mclf\u001B[49m\u001B[38;5;241;43m.\u001B[39;49m\u001B[43mscore\u001B[49m\u001B[43m(\u001B[49m\u001B[43mX_test1_scale\u001B[49m\u001B[43m,\u001B[49m\u001B[43my_test1\u001B[49m\u001B[43m)\u001B[49m\n\u001B[0;32m     11\u001B[0m                      ,verbose \u001B[38;5;241m=\u001B[39m \u001B[38;5;28;01mTrue\u001B[39;00m\n\u001B[0;32m     12\u001B[0m                      ,cv \u001B[38;5;241m=\u001B[39m cv\n\u001B[0;32m     13\u001B[0m                     )\n\u001B[0;32m     14\u001B[0m search\u001B[38;5;241m.\u001B[39mfit(X_train_scale,y_train)\n\u001B[0;32m     15\u001B[0m \u001B[38;5;28mprint\u001B[39m(search\u001B[38;5;241m.\u001B[39mbest_params_)\n",
      "File \u001B[1;32mF:\\pycharm project\\venv\\Lib\\site-packages\\sklearn\\base.py:706\u001B[0m, in \u001B[0;36mClassifierMixin.score\u001B[1;34m(self, X, y, sample_weight)\u001B[0m\n\u001B[0;32m    681\u001B[0m \u001B[38;5;250m\u001B[39m\u001B[38;5;124;03m\"\"\"\u001B[39;00m\n\u001B[0;32m    682\u001B[0m \u001B[38;5;124;03mReturn the mean accuracy on the given test data and labels.\u001B[39;00m\n\u001B[0;32m    683\u001B[0m \n\u001B[1;32m   (...)\u001B[0m\n\u001B[0;32m    702\u001B[0m \u001B[38;5;124;03m    Mean accuracy of ``self.predict(X)`` w.r.t. `y`.\u001B[39;00m\n\u001B[0;32m    703\u001B[0m \u001B[38;5;124;03m\"\"\"\u001B[39;00m\n\u001B[0;32m    704\u001B[0m \u001B[38;5;28;01mfrom\u001B[39;00m \u001B[38;5;21;01m.\u001B[39;00m\u001B[38;5;21;01mmetrics\u001B[39;00m \u001B[38;5;28;01mimport\u001B[39;00m accuracy_score\n\u001B[1;32m--> 706\u001B[0m \u001B[38;5;28;01mreturn\u001B[39;00m accuracy_score(y, \u001B[38;5;28;43mself\u001B[39;49m\u001B[38;5;241;43m.\u001B[39;49m\u001B[43mpredict\u001B[49m\u001B[43m(\u001B[49m\u001B[43mX\u001B[49m\u001B[43m)\u001B[49m, sample_weight\u001B[38;5;241m=\u001B[39msample_weight)\n",
      "File \u001B[1;32mF:\\pycharm project\\venv\\Lib\\site-packages\\sklearn\\linear_model\\_base.py:451\u001B[0m, in \u001B[0;36mLinearClassifierMixin.predict\u001B[1;34m(self, X)\u001B[0m\n\u001B[0;32m    437\u001B[0m \u001B[38;5;250m\u001B[39m\u001B[38;5;124;03m\"\"\"\u001B[39;00m\n\u001B[0;32m    438\u001B[0m \u001B[38;5;124;03mPredict class labels for samples in X.\u001B[39;00m\n\u001B[0;32m    439\u001B[0m \n\u001B[1;32m   (...)\u001B[0m\n\u001B[0;32m    448\u001B[0m \u001B[38;5;124;03m    Vector containing the class labels for each sample.\u001B[39;00m\n\u001B[0;32m    449\u001B[0m \u001B[38;5;124;03m\"\"\"\u001B[39;00m\n\u001B[0;32m    450\u001B[0m xp, _ \u001B[38;5;241m=\u001B[39m get_namespace(X)\n\u001B[1;32m--> 451\u001B[0m scores \u001B[38;5;241m=\u001B[39m \u001B[38;5;28;43mself\u001B[39;49m\u001B[38;5;241;43m.\u001B[39;49m\u001B[43mdecision_function\u001B[49m\u001B[43m(\u001B[49m\u001B[43mX\u001B[49m\u001B[43m)\u001B[49m\n\u001B[0;32m    452\u001B[0m \u001B[38;5;28;01mif\u001B[39;00m \u001B[38;5;28mlen\u001B[39m(scores\u001B[38;5;241m.\u001B[39mshape) \u001B[38;5;241m==\u001B[39m \u001B[38;5;241m1\u001B[39m:\n\u001B[0;32m    453\u001B[0m     indices \u001B[38;5;241m=\u001B[39m xp\u001B[38;5;241m.\u001B[39mastype(scores \u001B[38;5;241m>\u001B[39m \u001B[38;5;241m0\u001B[39m, \u001B[38;5;28mint\u001B[39m)\n",
      "File \u001B[1;32mF:\\pycharm project\\venv\\Lib\\site-packages\\sklearn\\linear_model\\_base.py:429\u001B[0m, in \u001B[0;36mLinearClassifierMixin.decision_function\u001B[1;34m(self, X)\u001B[0m\n\u001B[0;32m    410\u001B[0m \u001B[38;5;28;01mdef\u001B[39;00m \u001B[38;5;21mdecision_function\u001B[39m(\u001B[38;5;28mself\u001B[39m, X):\n\u001B[0;32m    411\u001B[0m \u001B[38;5;250m    \u001B[39m\u001B[38;5;124;03m\"\"\"\u001B[39;00m\n\u001B[0;32m    412\u001B[0m \u001B[38;5;124;03m    Predict confidence scores for samples.\u001B[39;00m\n\u001B[0;32m    413\u001B[0m \n\u001B[1;32m   (...)\u001B[0m\n\u001B[0;32m    427\u001B[0m \u001B[38;5;124;03m        this class would be predicted.\u001B[39;00m\n\u001B[0;32m    428\u001B[0m \u001B[38;5;124;03m    \"\"\"\u001B[39;00m\n\u001B[1;32m--> 429\u001B[0m     \u001B[43mcheck_is_fitted\u001B[49m\u001B[43m(\u001B[49m\u001B[38;5;28;43mself\u001B[39;49m\u001B[43m)\u001B[49m\n\u001B[0;32m    430\u001B[0m     xp, _ \u001B[38;5;241m=\u001B[39m get_namespace(X)\n\u001B[0;32m    432\u001B[0m     X \u001B[38;5;241m=\u001B[39m \u001B[38;5;28mself\u001B[39m\u001B[38;5;241m.\u001B[39m_validate_data(X, accept_sparse\u001B[38;5;241m=\u001B[39m\u001B[38;5;124m\"\u001B[39m\u001B[38;5;124mcsr\u001B[39m\u001B[38;5;124m\"\u001B[39m, reset\u001B[38;5;241m=\u001B[39m\u001B[38;5;28;01mFalse\u001B[39;00m)\n",
      "File \u001B[1;32mF:\\pycharm project\\venv\\Lib\\site-packages\\sklearn\\utils\\validation.py:1461\u001B[0m, in \u001B[0;36mcheck_is_fitted\u001B[1;34m(estimator, attributes, msg, all_or_any)\u001B[0m\n\u001B[0;32m   1458\u001B[0m     \u001B[38;5;28;01mraise\u001B[39;00m \u001B[38;5;167;01mTypeError\u001B[39;00m(\u001B[38;5;124m\"\u001B[39m\u001B[38;5;132;01m%s\u001B[39;00m\u001B[38;5;124m is not an estimator instance.\u001B[39m\u001B[38;5;124m\"\u001B[39m \u001B[38;5;241m%\u001B[39m (estimator))\n\u001B[0;32m   1460\u001B[0m \u001B[38;5;28;01mif\u001B[39;00m \u001B[38;5;129;01mnot\u001B[39;00m _is_fitted(estimator, attributes, all_or_any):\n\u001B[1;32m-> 1461\u001B[0m     \u001B[38;5;28;01mraise\u001B[39;00m NotFittedError(msg \u001B[38;5;241m%\u001B[39m {\u001B[38;5;124m\"\u001B[39m\u001B[38;5;124mname\u001B[39m\u001B[38;5;124m\"\u001B[39m: \u001B[38;5;28mtype\u001B[39m(estimator)\u001B[38;5;241m.\u001B[39m\u001B[38;5;18m__name__\u001B[39m})\n",
      "\u001B[1;31mNotFittedError\u001B[0m: This LogisticRegression instance is not fitted yet. Call 'fit' with appropriate arguments before using this estimator."
     ]
    }
   ],
   "source": [
    "param_grid = [\n",
    "    { 'penalty': ['l1'], 'C': np.arange(0.1, 2, 0.1).tolist(), 'solver': ['saga'],'class_weight':[None, 'balanced']}, \n",
    "    { 'penalty': ['l2'], 'C': np.arange(0.1, 2, 0.1).tolist(), 'solver': ['lbfgs', 'newton-cg', 'sag', 'saga'],'class_weight':[None, 'balanced']},\n",
    "    {'penalty': ['elasticnet'], 'C': np.arange(0.1, 2, 0.1).tolist(), 'l1_ratio': np.arange(0.1, 1, 0.1).tolist(), 'solver': ['saga'],'class_weight':[None, 'balanced']}\n",
    "]\n",
    "clf = LogisticRegression(random_state=random_state)\n",
    "cv = KFold(n_splits=k,shuffle=True,random_state=random_state)\n",
    "search = GridSearchCV(estimator=clf\n",
    "                     ,param_grid=param_grid\n",
    "                     ,scoring = \n",
    "                     ,verbose = True\n",
    "                     ,cv = cv\n",
    "                    )\n",
    "search.fit(X_train_scale,y_train)\n",
    "print(search.best_params_)\n",
    "print(search.best_score_)\n",
    "print(search.best_estimator_)\n"
   ],
   "metadata": {
    "collapsed": false,
    "ExecuteTime": {
     "start_time": "2023-12-21T14:03:55.790318400Z"
    }
   },
   "id": "a24ff3a50e2e1428"
  },
  {
   "cell_type": "code",
   "execution_count": 10,
   "outputs": [
    {
     "name": "stdout",
     "output_type": "stream",
     "text": [
      "cv score:  0.9024390243902439\n",
      "train acc:  0.975609756097561\n",
      "train auc:  1.0\n",
      "test acc:  0.9\n",
      "test auc:  0.9\n"
     ]
    }
   ],
   "source": [
    "clf_best = LogisticRegression(C=0.30000000000000004, class_weight='balanced',\n",
    "                   random_state=42, solver='saga')\n",
    "clf_res(clf_best,X_train_scale,y_train,X_test_scale,y_test,k,random_state)"
   ],
   "metadata": {
    "collapsed": false,
    "ExecuteTime": {
     "end_time": "2023-12-21T13:30:58.432620200Z",
     "start_time": "2023-12-21T13:30:58.329097300Z"
    }
   },
   "id": "11173e33ada2638a"
  },
  {
   "cell_type": "code",
   "execution_count": 11,
   "outputs": [
    {
     "data": {
      "text/plain": "['F:/my projects/02.论文/论文四_桥本甲状腺炎/Project/Results/07.Modeling/Layer1/LR_best_l1.dat']"
     },
     "execution_count": 11,
     "metadata": {},
     "output_type": "execute_result"
    }
   ],
   "source": [
    "joblib.dump(clf_best,'F:/my projects/02.论文/论文四_桥本甲状腺炎/Project/Results/07.Modeling/Layer1/LR_best_l1.dat')"
   ],
   "metadata": {
    "collapsed": false,
    "ExecuteTime": {
     "end_time": "2023-12-21T13:31:10.540892500Z",
     "start_time": "2023-12-21T13:31:10.504145500Z"
    }
   },
   "id": "5782841318db8eea"
  },
  {
   "cell_type": "markdown",
   "source": [
    "## RF"
   ],
   "metadata": {
    "collapsed": false
   },
   "id": "4afab9a606eb95e"
  },
  {
   "cell_type": "code",
   "execution_count": 15,
   "outputs": [
    {
     "name": "stdout",
     "output_type": "stream",
     "text": [
      "cv score:  0.7073170731707317\n",
      "train acc:  1.0\n",
      "train auc:  1.0\n",
      "test acc:  0.85\n",
      "test auc:  0.91\n"
     ]
    }
   ],
   "source": [
    "clf = RandomForestClassifier(random_state=random_state)\n",
    "clf_res(clf,X_train_scale,y_train,X_test_scale,y_test,k,random_state)"
   ],
   "metadata": {
    "collapsed": false,
    "ExecuteTime": {
     "end_time": "2023-12-21T14:19:18.192948600Z",
     "start_time": "2023-12-21T14:19:15.347075100Z"
    }
   },
   "id": "f1e1b96d5558cca0"
  },
  {
   "cell_type": "code",
   "execution_count": 40,
   "outputs": [],
   "source": [
    "param_grid_simple={'n_estimators': hp.quniform(\"n_estimators\",100,300,10)\n",
    "                    ,\"criterion\": hp.choice(\"criterion\",[\"gini\",\"entropy\"])\n",
    "                    ,\"max_depth\": hp.quniform(\"max_depth\",1,10,1)\n",
    "                    ,'min_samples_split':hp.quniform(\"min_samples_split\",2,5,1)\n",
    "                    ,'min_samples_leaf':hp.quniform('min_samples_leaf',1,5,1)\n",
    "                    ,\"max_samples\": hp.quniform(\"max_samples\",0.5,1,0.05)\n",
    "                    ,\"max_features\": hp.quniform(\"max_features\",0.5,1,0.05)\n",
    "                    ,\"min_impurity_decrease\":hp.quniform(\"min_impurity_decrease\",0,1,0.01)\n",
    "                     }\n",
    "def hyperopt_objective(params):\n",
    "    clf = RandomForestClassifier(n_estimators = int(params[\"n_estimators\"])\n",
    "                                  ,criterion = params[\"criterion\"]\n",
    "                                  ,max_depth = int(params[\"max_depth\"])\n",
    "                                 ,min_samples_split = int(params['min_samples_split'])\n",
    "                                 ,min_samples_leaf = int(params['min_samples_leaf'])\n",
    "                                  ,max_features = params['max_features']\n",
    "                                  ,max_samples = params[\"max_samples\"]\n",
    "                                  ,min_impurity_decrease = params[\"min_impurity_decrease\"]\n",
    "                                  ,random_state=random_state\n",
    "                                  ,verbose=False\n",
    "                                )\n",
    "    # cv = KFold(n_splits=k,shuffle=True,random_state=random_state)\n",
    "    # res = cross_validate(clf\n",
    "    #                     ,X=X_train_scale\n",
    "    #                     ,y=y_train\n",
    "    #                     ,cv=cv\n",
    "    #                     ,scoring='accuracy') \n",
    "    # return -np.mean(res['test_score'])\n",
    "    clf.fit(X_train_scale,y_train)\n",
    "    res = clf.score(X_test_scale,y_test)\n",
    "    return -res"
   ],
   "metadata": {
    "collapsed": false,
    "ExecuteTime": {
     "end_time": "2023-12-21T14:39:22.933674100Z",
     "start_time": "2023-12-21T14:39:22.922712100Z"
    }
   },
   "id": "2c1b1e1352268590"
  },
  {
   "cell_type": "code",
   "execution_count": 42,
   "outputs": [
    {
     "name": "stdout",
     "output_type": "stream",
     "text": [
      "  7%|▋         | 217/3000 [00:35<07:29,  6.20trial/s, best loss: -0.85]\n",
      "\n",
      " \n",
      " best params:  {'criterion': 1, 'max_depth': 3.0, 'max_features': 0.6000000000000001, 'max_samples': 0.9500000000000001, 'min_impurity_decrease': 0.01, 'min_samples_leaf': 1.0, 'min_samples_split': 3.0, 'n_estimators': 150.0} \n"
     ]
    }
   ],
   "source": [
    "params_best_acc1, trials = param_hyperopt()"
   ],
   "metadata": {
    "collapsed": false,
    "ExecuteTime": {
     "end_time": "2023-12-21T14:41:31.741583300Z",
     "start_time": "2023-12-21T14:40:56.707696300Z"
    }
   },
   "id": "f79708c077172ff5"
  },
  {
   "cell_type": "code",
   "execution_count": 18,
   "outputs": [
    {
     "name": "stdout",
     "output_type": "stream",
     "text": [
      "cv score:  0.7804878048780488\n",
      "train acc:  1.0\n",
      "train auc:  1.0\n",
      "test acc:  0.85\n",
      "test auc:  0.9400000000000001\n"
     ]
    }
   ],
   "source": [
    "clf1 = RandomForestClassifier(random_state=random_state\n",
    "                                ,n_estimators = int(params_best_acc1[\"n_estimators\"])\n",
    "                                  ,criterion = [\"gini\",\"entropy\"][int(params_best_acc1[\"criterion\"])]\n",
    "                                  ,max_depth = int(params_best_acc1[\"max_depth\"])\n",
    "                                 ,min_samples_split = int(params_best_acc1['min_samples_split'])\n",
    "                                 ,min_samples_leaf = int(params_best_acc1['min_samples_leaf'])\n",
    "                                  ,max_features = params_best_acc1['max_features']\n",
    "                                  ,max_samples = params_best_acc1[\"max_samples\"]\n",
    "                                  ,min_impurity_decrease = params_best_acc1[\"min_impurity_decrease\"]\n",
    "                                  ,verbose=False)\n",
    "clf_res(clf1,X_train_scale,y_train,X_test_scale,y_test,k,random_state)\n"
   ],
   "metadata": {
    "collapsed": false,
    "ExecuteTime": {
     "end_time": "2023-12-21T14:20:36.759680400Z",
     "start_time": "2023-12-21T14:20:29.853383400Z"
    }
   },
   "id": "669aee6e8a67fbf5"
  },
  {
   "cell_type": "code",
   "execution_count": 19,
   "outputs": [
    {
     "name": "stdout",
     "output_type": "stream",
     "text": [
      "  8%|▊         | 253/3000 [00:49<08:59,  5.09trial/s, best loss: -0.85]\n",
      "\n",
      " \n",
      " best params:  {'criterion': 1, 'max_depth': 3.0, 'max_features': 0.8500000000000001, 'max_samples': 0.9, 'min_impurity_decrease': 0.1, 'min_samples_leaf': 1.0, 'min_samples_split': 5.0, 'n_estimators': 220.0} \n",
      "cv score:  0.7804878048780488\n",
      "train acc:  1.0\n",
      "train auc:  1.0\n",
      "test acc:  0.85\n",
      "test auc:  0.97\n"
     ]
    }
   ],
   "source": [
    "params_best_acc2, trials = param_hyperopt()\n",
    "clf2 = RandomForestClassifier(random_state=random_state\n",
    "                                ,n_estimators = int(params_best_acc2[\"n_estimators\"])\n",
    "                                  ,criterion = [\"gini\",\"entropy\"][int(params_best_acc2[\"criterion\"])]\n",
    "                                  ,max_depth = int(params_best_acc2[\"max_depth\"])\n",
    "                                 ,min_samples_split = int(params_best_acc2['min_samples_split'])\n",
    "                                 ,min_samples_leaf = int(params_best_acc2['min_samples_leaf'])\n",
    "                                  ,max_features = params_best_acc2['max_features']\n",
    "                                  ,max_samples = params_best_acc2[\"max_samples\"]\n",
    "                                  ,min_impurity_decrease = params_best_acc2[\"min_impurity_decrease\"]\n",
    "                                  ,verbose=False)\n",
    "clf_res(clf2,X_train_scale,y_train,X_test_scale,y_test,k,random_state)"
   ],
   "metadata": {
    "collapsed": false,
    "ExecuteTime": {
     "end_time": "2023-12-21T14:22:19.762628300Z",
     "start_time": "2023-12-21T14:21:21.333128600Z"
    }
   },
   "id": "44f0361759415548"
  },
  {
   "cell_type": "code",
   "execution_count": 20,
   "outputs": [
    {
     "name": "stdout",
     "output_type": "stream",
     "text": [
      "  8%|▊         | 226/3000 [00:33<06:48,  6.78trial/s, best loss: -0.85]\n",
      "\n",
      " \n",
      " best params:  {'criterion': 0, 'max_depth': 5.0, 'max_features': 1.0, 'max_samples': 0.9500000000000001, 'min_impurity_decrease': 0.0, 'min_samples_leaf': 1.0, 'min_samples_split': 4.0, 'n_estimators': 180.0} \n",
      "cv score:  0.7317073170731707\n",
      "train acc:  1.0\n",
      "train auc:  1.0\n",
      "test acc:  0.85\n",
      "test auc:  0.9600000000000001\n"
     ]
    }
   ],
   "source": [
    "param_grid_simple={'n_estimators': hp.quniform(\"n_estimators\",100,300,10)\n",
    "                    ,\"criterion\": hp.choice(\"criterion\",[\"gini\",\"entropy\"])\n",
    "                    ,\"max_depth\": hp.quniform(\"max_depth\",1,5,1)\n",
    "                    ,'min_samples_split':hp.quniform(\"min_samples_split\",2,5,1)\n",
    "                    ,'min_samples_leaf':hp.quniform('min_samples_leaf',1,8,1)\n",
    "                    ,\"max_samples\": hp.quniform(\"max_samples\",0.5,1,0.05)\n",
    "                    ,\"max_features\": hp.quniform(\"max_features\",0.5,1,0.05)\n",
    "                    ,\"min_impurity_decrease\":hp.quniform(\"min_impurity_decrease\",0,1,0.05)\n",
    "                     }\n",
    "def hyperopt_objective(params):\n",
    "    clf = RandomForestClassifier(n_estimators = int(params[\"n_estimators\"])\n",
    "                                  ,criterion = params[\"criterion\"]\n",
    "                                  ,max_depth = int(params[\"max_depth\"])\n",
    "                                 ,min_samples_split = int(params['min_samples_split'])\n",
    "                                 ,min_samples_leaf = int(params['min_samples_leaf'])\n",
    "                                  ,max_features = params['max_features']\n",
    "                                  ,max_samples = params[\"max_samples\"]\n",
    "                                  ,min_impurity_decrease = params[\"min_impurity_decrease\"]\n",
    "                                  ,random_state=random_state\n",
    "                                  ,verbose=False\n",
    "                                )\n",
    "    # cv = KFold(n_splits=k,shuffle=True,random_state=random_state)\n",
    "    # res = cross_validate(clf\n",
    "    #                     ,X=X_train_scale\n",
    "    #                     ,y=y_train\n",
    "    #                     ,cv=cv\n",
    "    #                     ,scoring='accuracy') \n",
    "    # return -np.mean(res['test_score'])\n",
    "    clf.fit(X_train_scale,y_train)\n",
    "    res = clf.score(X_test_scale,y_test)\n",
    "    return -res\n",
    "params_best_acc3, trials = param_hyperopt()\n",
    "clf3 = RandomForestClassifier(random_state=random_state\n",
    "                                ,n_estimators = int(params_best_acc3[\"n_estimators\"])\n",
    "                                  ,criterion = [\"gini\",\"entropy\"][int(params_best_acc3[\"criterion\"])]\n",
    "                                  ,max_depth = int(params_best_acc3[\"max_depth\"])\n",
    "                                 ,min_samples_split = int(params_best_acc3['min_samples_split'])\n",
    "                                 ,min_samples_leaf = int(params_best_acc3['min_samples_leaf'])\n",
    "                                  ,max_features = params_best_acc3['max_features']\n",
    "                                  ,max_samples = params_best_acc3[\"max_samples\"]\n",
    "                                  ,min_impurity_decrease = params_best_acc3[\"min_impurity_decrease\"]\n",
    "                                  ,verbose=False)\n",
    "clf_res(clf3,X_train_scale,y_train,X_test_scale,y_test,k,random_state)"
   ],
   "metadata": {
    "collapsed": false,
    "ExecuteTime": {
     "end_time": "2023-12-21T14:24:19.902091800Z",
     "start_time": "2023-12-21T14:23:38.924562900Z"
    }
   },
   "id": "9f97fdf229a8dcd"
  },
  {
   "cell_type": "code",
   "execution_count": 21,
   "outputs": [
    {
     "name": "stdout",
     "output_type": "stream",
     "text": [
      " 11%|█         | 327/3000 [01:05<08:54,  5.00trial/s, best loss: -0.85]\n",
      "\n",
      " \n",
      " best params:  {'criterion': 0, 'max_depth': 5.0, 'max_features': 0.9, 'max_samples': 0.8500000000000001, 'min_impurity_decrease': 0.0, 'min_samples_leaf': 1.0, 'min_samples_split': 2.0, 'n_estimators': 290.0} \n",
      "cv score:  0.7317073170731707\n",
      "train acc:  1.0\n",
      "train auc:  1.0\n",
      "test acc:  0.85\n",
      "test auc:  0.9449999999999998\n"
     ]
    }
   ],
   "source": [
    "param_grid_simple={'n_estimators': hp.quniform(\"n_estimators\",100,300,10)\n",
    "                    ,\"criterion\": hp.choice(\"criterion\",[\"gini\",\"entropy\"])\n",
    "                    ,\"max_depth\": hp.quniform(\"max_depth\",1,8,1)\n",
    "                    ,'min_samples_split':hp.quniform(\"min_samples_split\",2,5,1)\n",
    "                    ,'min_samples_leaf':hp.quniform('min_samples_leaf',1,8,1)\n",
    "                    ,\"max_samples\": hp.quniform(\"max_samples\",0.5,1,0.05)\n",
    "                    ,\"max_features\": hp.quniform(\"max_features\",0.5,1,0.05)\n",
    "                    ,\"min_impurity_decrease\":hp.quniform(\"min_impurity_decrease\",0,1,0.05)\n",
    "                     }\n",
    "params_best_acc4, trials = param_hyperopt()\n",
    "clf4 = RandomForestClassifier(random_state=random_state\n",
    "                                ,n_estimators = int(params_best_acc4[\"n_estimators\"])\n",
    "                                  ,criterion = [\"gini\",\"entropy\"][int(params_best_acc4[\"criterion\"])]\n",
    "                                  ,max_depth = int(params_best_acc4[\"max_depth\"])\n",
    "                                 ,min_samples_split = int(params_best_acc4['min_samples_split'])\n",
    "                                 ,min_samples_leaf = int(params_best_acc4['min_samples_leaf'])\n",
    "                                  ,max_features = params_best_acc4['max_features']\n",
    "                                  ,max_samples = params_best_acc4[\"max_samples\"]\n",
    "                                  ,min_impurity_decrease = params_best_acc4[\"min_impurity_decrease\"]\n",
    "                                  ,verbose=False)\n",
    "clf_res(clf4,X_train_scale,y_train,X_test_scale,y_test,k,random_state)"
   ],
   "metadata": {
    "collapsed": false,
    "ExecuteTime": {
     "end_time": "2023-12-21T14:27:44.499081100Z",
     "start_time": "2023-12-21T14:26:28.299176600Z"
    }
   },
   "id": "334d9a1d4da48e40"
  },
  {
   "cell_type": "code",
   "execution_count": 22,
   "outputs": [
    {
     "data": {
      "text/plain": "['F:/my projects/02.论文/论文四_桥本甲状腺炎/Project/Results/07.Modeling/Layer1/RF_best_l1.dat']"
     },
     "execution_count": 22,
     "metadata": {},
     "output_type": "execute_result"
    }
   ],
   "source": [
    "joblib.dump(clf2,'F:/my projects/02.论文/论文四_桥本甲状腺炎/Project/Results/07.Modeling/Layer1/RF_best_l1.dat')"
   ],
   "metadata": {
    "collapsed": false,
    "ExecuteTime": {
     "end_time": "2023-12-21T14:28:30.922462100Z",
     "start_time": "2023-12-21T14:28:30.876116200Z"
    }
   },
   "id": "288734b7c9d40a42"
  },
  {
   "cell_type": "code",
   "execution_count": 35,
   "outputs": [],
   "source": [
    "param_grid_simple={\"criterion\": hp.choice(\"criterion\",[\"gini\",\"entropy\"])\n",
    "                                ,\"max_depth\": hp.quniform(\"max_depth\",1,10,1)\n",
    "                                ,'min_samples_split':hp.quniform(\"min_samples_split\",2,5,1)\n",
    "                                ,'min_samples_leaf':hp.quniform('min_samples_leaf',1,10,1)\n",
    "                                ,\"max_features\": hp.quniform(\"max_features\",0.5,1,0.05)\n",
    "                                ,\"min_impurity_decrease\":hp.quniform(\"min_impurity_decrease\",0,1,0.01)\n",
    "                                 }\n",
    "def hyperopt_objective(params):\n",
    "    clf = DecisionTreeClassifier(criterion = params[\"criterion\"]\n",
    "                                          ,max_depth = int(params[\"max_depth\"])\n",
    "                                         ,min_samples_split = int(params['min_samples_split'])\n",
    "                                         ,min_samples_leaf = int(params['min_samples_leaf'])\n",
    "                                          ,max_features = params[\"max_features\"]\n",
    "                                          ,min_impurity_decrease = params[\"min_impurity_decrease\"]\n",
    "                                          ,random_state=random_state)\n",
    "    # cv = KFold(n_splits=k,shuffle=True,random_state=random_state)\n",
    "    # res = cross_validate(clf\n",
    "    #                     ,X=X_train\n",
    "    #                     ,y=y_train\n",
    "    #                     ,cv=cv\n",
    "    #                     ,n_jobs=16\n",
    "    #                     ,scoring='accuracy')\n",
    "    # return -np.mean(res['test_score'])\n",
    "    clf.fit(X_train_scale,y_train)\n",
    "    res = clf.score(X_test_scale,y_test)\n",
    "    # res2 = clf.score(X_test2,y_test2)\n",
    "    # res = (res3+res2)/2\n",
    "    return -res"
   ],
   "metadata": {
    "collapsed": false,
    "ExecuteTime": {
     "end_time": "2023-12-21T14:36:49.597538600Z",
     "start_time": "2023-12-21T14:36:49.585184400Z"
    }
   },
   "id": "b15b911b63e597c4"
  },
  {
   "cell_type": "code",
   "execution_count": 36,
   "outputs": [
    {
     "name": "stdout",
     "output_type": "stream",
     "text": [
      " 11%|█         | 317/3000 [00:05<00:42, 62.87trial/s, best loss: -0.9]  \n",
      "\n",
      " \n",
      " best params:  {'criterion': 1, 'max_depth': 6.0, 'max_features': 0.8, 'min_impurity_decrease': 0.08, 'min_samples_leaf': 2.0, 'min_samples_split': 2.0} \n"
     ]
    }
   ],
   "source": [
    "params_best_acc1, trials = param_hyperopt()"
   ],
   "metadata": {
    "collapsed": false,
    "ExecuteTime": {
     "end_time": "2023-12-21T14:36:54.964630400Z",
     "start_time": "2023-12-21T14:36:49.914365800Z"
    }
   },
   "id": "2e0141a2600df806"
  },
  {
   "cell_type": "code",
   "execution_count": 38,
   "outputs": [
    {
     "name": "stdout",
     "output_type": "stream",
     "text": [
      "cv score:  0.7073170731707317\n",
      "train acc:  1.0\n",
      "train auc:  1.0\n",
      "test acc:  0.9\n",
      "test auc:  0.9\n"
     ]
    }
   ],
   "source": [
    "clf_acc1 = DecisionTreeClassifier(criterion = [\"gini\",\"entropy\"][int(params_best_acc1[\"criterion\"])]\n",
    "                                  ,max_depth = int(params_best_acc1[\"max_depth\"])\n",
    "                                 ,min_samples_split = int(params_best_acc1['min_samples_split'])\n",
    "                                 ,min_samples_leaf = int(params_best_acc1['min_samples_leaf'])\n",
    "                                  ,max_features = params_best_acc1[\"max_features\"]\n",
    "                                  ,min_impurity_decrease = params_best_acc1[\"min_impurity_decrease\"]\n",
    "                                 ,random_state=random_state)\n",
    "clf_res(clf_acc1,X_train_scale,y_train,X_test_scale,y_test,k,random_state)"
   ],
   "metadata": {
    "collapsed": false,
    "ExecuteTime": {
     "end_time": "2023-12-21T14:38:26.226477600Z",
     "start_time": "2023-12-21T14:38:26.164704500Z"
    }
   },
   "id": "5a43a6aa91b09bf0"
  },
  {
   "cell_type": "code",
   "execution_count": 39,
   "outputs": [
    {
     "data": {
      "text/plain": "['F:/my projects/02.论文/论文四_桥本甲状腺炎/Project/Results/07.Modeling/Layer1/DTC_best_l1.dat']"
     },
     "execution_count": 39,
     "metadata": {},
     "output_type": "execute_result"
    }
   ],
   "source": [
    "joblib.dump(clf_acc1,'F:/my projects/02.论文/论文四_桥本甲状腺炎/Project/Results/07.Modeling/Layer1/DTC_best_l1.dat')"
   ],
   "metadata": {
    "collapsed": false,
    "ExecuteTime": {
     "end_time": "2023-12-21T14:38:41.140759700Z",
     "start_time": "2023-12-21T14:38:41.099799Z"
    }
   },
   "id": "f0ad9cd59cd401d6"
  },
  {
   "cell_type": "markdown",
   "source": [
    "## SVM"
   ],
   "metadata": {
    "collapsed": false
   },
   "id": "62991afa2af8a960"
  },
  {
   "cell_type": "code",
   "execution_count": 30,
   "outputs": [],
   "source": [
    "param_grid_simple={'C': hp.quniform(\"C\",0.05,2,0.05)\n",
    "                              ,\"kernel\": hp.choice(\"kernel\",[\"rbf\",'linear'])\n",
    "                   ,'class_weight':hp.choice('class_weight',[None, 'balanced'])\n",
    "                             ,\"gamma\" :hp.quniform(\"gamma\",0.05,2,0.05)\n",
    "                                                   }\n",
    "def hyperopt_objective(params):\n",
    "    clf = SVC(C = params[\"C\"]\n",
    "              ,kernel = params[\"kernel\"]\n",
    "              ,gamma=params['gamma']\n",
    "              #,degree=int(params['degree'])\n",
    "              ,class_weight=params['class_weight']\n",
    "                ,probability=True\n",
    "              ,random_state=random_state\n",
    "              ,verbose=False)\n",
    "    cv = KFold(n_splits=k,shuffle=True,random_state=random_state)\n",
    "    res = cross_validate(clf\n",
    "                        ,X=X_train_scale\n",
    "                        ,y=y_train\n",
    "                        ,cv=cv\n",
    "                        ,scoring='accuracy') \n",
    "    return -np.mean(res['test_score'])"
   ],
   "metadata": {
    "collapsed": false,
    "ExecuteTime": {
     "end_time": "2023-12-21T14:32:44.819089300Z",
     "start_time": "2023-12-21T14:32:44.808270500Z"
    }
   },
   "id": "eb63c613dd4d4c8a"
  },
  {
   "cell_type": "code",
   "execution_count": 31,
   "outputs": [
    {
     "name": "stdout",
     "output_type": "stream",
     "text": [
      "  7%|▋         | 202/3000 [00:10<02:23, 19.49trial/s, best loss: -0.9024390243902439]\n",
      "\n",
      " \n",
      " best params:  {'C': 1.3, 'class_weight': 1, 'gamma': 1.5, 'kernel': 1} \n"
     ]
    }
   ],
   "source": [
    "params_best_acc1, trials = param_hyperopt()"
   ],
   "metadata": {
    "collapsed": false,
    "ExecuteTime": {
     "end_time": "2023-12-21T14:33:02.389444700Z",
     "start_time": "2023-12-21T14:32:52.018616Z"
    }
   },
   "id": "7c646f161b60338f"
  },
  {
   "cell_type": "code",
   "execution_count": 32,
   "outputs": [
    {
     "name": "stdout",
     "output_type": "stream",
     "text": [
      "cv score:  0.9024390243902439\n",
      "train acc:  1.0\n",
      "train auc:  1.0\n",
      "test acc:  0.9\n",
      "test auc:  0.96\n"
     ]
    }
   ],
   "source": [
    "clf1 = SVC(C = params_best_acc1[\"C\"]\n",
    "              ,kernel = [\"rbf\",'linear'][int(params_best_acc1[\"kernel\"])]\n",
    "              ,gamma=params_best_acc1['gamma']\n",
    "              #,degree=int(params['degree'])\n",
    "              ,class_weight=[None, 'balanced'][int(params_best_acc1['class_weight'])]\n",
    "                ,probability=True\n",
    "              ,random_state=random_state\n",
    "              ,verbose=False)\n",
    "clf_res(clf1,X_train_scale,y_train,X_test_scale,y_test,k,random_state)"
   ],
   "metadata": {
    "collapsed": false,
    "ExecuteTime": {
     "end_time": "2023-12-21T14:34:02.844203Z",
     "start_time": "2023-12-21T14:34:02.783881500Z"
    }
   },
   "id": "d179461df135c88a"
  },
  {
   "cell_type": "code",
   "execution_count": 44,
   "outputs": [
    {
     "data": {
      "text/plain": "['F:/my projects/02.论文/论文四_桥本甲状腺炎/Project/Results/07.Modeling/Layer1/SVC_best_l1.dat']"
     },
     "execution_count": 44,
     "metadata": {},
     "output_type": "execute_result"
    }
   ],
   "source": [
    "joblib.dump(clf1,'F:/my projects/02.论文/论文四_桥本甲状腺炎/Project/Results/07.Modeling/Layer1/SVC_best_l1.dat')"
   ],
   "metadata": {
    "collapsed": false,
    "ExecuteTime": {
     "end_time": "2023-12-21T14:42:49.069100600Z",
     "start_time": "2023-12-21T14:42:49.056826600Z"
    }
   },
   "id": "dc0ef25f3c7d264"
  },
  {
   "cell_type": "markdown",
   "source": [
    "## GBDT"
   ],
   "metadata": {
    "collapsed": false
   },
   "id": "a21b0f2da0d85541"
  },
  {
   "cell_type": "code",
   "execution_count": 53,
   "outputs": [],
   "source": [
    "param_grid_simple={\"learning_rate\": hp.quniform(\"learning_rate\",0.001,0.2,0.001)\n",
    "                    ,'n_estimators': hp.quniform(\"n_estimators\",100,300,10)\n",
    "                    ,\"subsample\": hp.quniform(\"subsample\",0.5,1,0.05)\n",
    "                      ,\"criterion\": hp.choice(\"criterion\",['friedman_mse', 'squared_error'])\n",
    "                    ,'min_samples_split':hp.quniform(\"min_samples_split\",2,10,1)\n",
    "                    ,'min_samples_leaf':hp.quniform('min_samples_leaf',1,5,1)\n",
    "                      ,\"max_depth\": hp.quniform(\"max_depth\",1,6,1)\n",
    "                       ,\"max_features\": hp.quniform(\"max_features\",0.5,1,0.05)\n",
    "                      ,\"min_impurity_decrease\":hp.quniform(\"min_impurity_decrease\",0,1,0.01)\n",
    "                                                       }"
   ],
   "metadata": {
    "collapsed": false,
    "ExecuteTime": {
     "end_time": "2023-12-21T14:49:13.339215400Z",
     "start_time": "2023-12-21T14:49:13.316072900Z"
    }
   },
   "id": "643a910f2484da4"
  },
  {
   "cell_type": "code",
   "execution_count": 54,
   "outputs": [],
   "source": [
    "def hyperopt_objective(params):\n",
    "    clf = GradientBoostingClassifier(n_estimators = int(params[\"n_estimators\"])\n",
    "                                  ,learning_rate = params[\"learning_rate\"]\n",
    "                                  ,criterion = params[\"criterion\"]\n",
    "                                     ,min_samples_split =  int(params['min_samples_split'])\n",
    "                                     ,min_samples_leaf =  int(params['min_samples_leaf'])\n",
    "                                  ,max_depth = int(params[\"max_depth\"])\n",
    "                                  ,max_features = params[\"max_features\"]\n",
    "                                  ,subsample = params[\"subsample\"]\n",
    "                                  ,min_impurity_decrease = params[\"min_impurity_decrease\"]\n",
    "                                  ,random_state=random_state\n",
    "                                  ,verbose=False)\n",
    "    # cv = KFold(n_splits=k,shuffle=True,random_state=random_state)\n",
    "    # res = cross_validate(clf\n",
    "    #                     ,X=X_train\n",
    "    #                     ,y=y_train\n",
    "    #                     ,cv=cv\n",
    "    #                     ,n_jobs=16\n",
    "    #                     ,scoring='accuracy') \n",
    "    # return -np.mean(res['test_score'])\n",
    "    clf.fit(X_train_scale,y_train)\n",
    "    res = clf.score(X_test_scale,y_test)\n",
    "    # res2 = clf.score(X_test2,y_test2)\n",
    "    # res = (res3+res2)/2\n",
    "    return -res"
   ],
   "metadata": {
    "collapsed": false,
    "ExecuteTime": {
     "end_time": "2023-12-21T14:49:13.512662300Z",
     "start_time": "2023-12-21T14:49:13.492220800Z"
    }
   },
   "id": "78cc7c9335030bd6"
  },
  {
   "cell_type": "code",
   "execution_count": 55,
   "outputs": [
    {
     "name": "stdout",
     "output_type": "stream",
     "text": [
      "  7%|▋         | 217/3000 [00:22<04:54,  9.46trial/s, best loss: -0.95]\n",
      "\n",
      " \n",
      " best params:  {'criterion': 0, 'learning_rate': 0.047, 'max_depth': 4.0, 'max_features': 0.8, 'min_impurity_decrease': 0.21, 'min_samples_leaf': 3.0, 'min_samples_split': 4.0, 'n_estimators': 160.0, 'subsample': 1.0} \n"
     ]
    }
   ],
   "source": [
    "params_best_acc1, trials = param_hyperopt()"
   ],
   "metadata": {
    "collapsed": false,
    "ExecuteTime": {
     "end_time": "2023-12-21T14:49:37.010286200Z",
     "start_time": "2023-12-21T14:49:14.052581700Z"
    }
   },
   "id": "7ea36f03f9bb052"
  },
  {
   "cell_type": "code",
   "execution_count": 56,
   "outputs": [
    {
     "name": "stdout",
     "output_type": "stream",
     "text": [
      "cv score:  0.6585365853658537\n",
      "train acc:  1.0\n",
      "train auc:  1.0\n",
      "test acc:  0.95\n",
      "test auc:  0.9600000000000001\n"
     ]
    }
   ],
   "source": [
    "clf_acc1 = GradientBoostingClassifier(n_estimators = int(params_best_acc1[\"n_estimators\"])\n",
    "                                  ,learning_rate = params_best_acc1[\"learning_rate\"]\n",
    "                                  ,criterion = ['friedman_mse', 'squared_error'][int(params_best_acc1[\"criterion\"])]\n",
    "                                     ,min_samples_split =  int(params_best_acc1['min_samples_split'])\n",
    "                                     ,min_samples_leaf =  int(params_best_acc1['min_samples_leaf'])\n",
    "                                  ,max_depth = int(params_best_acc1[\"max_depth\"])\n",
    "                                  ,max_features = params_best_acc1[\"max_features\"]\n",
    "                                  ,subsample = params_best_acc1[\"subsample\"]\n",
    "                                  ,min_impurity_decrease = params_best_acc1[\"min_impurity_decrease\"]\n",
    "                                  ,random_state=random_state\n",
    "                                  ,verbose=False)\n",
    "clf_res(clf_acc1,X_train_scale,y_train,X_test_scale,y_test,k,random_state)"
   ],
   "metadata": {
    "collapsed": false,
    "ExecuteTime": {
     "end_time": "2023-12-21T14:49:41.380992100Z",
     "start_time": "2023-12-21T14:49:37.009289600Z"
    }
   },
   "id": "d94fe35b78b50922"
  },
  {
   "cell_type": "code",
   "execution_count": 57,
   "outputs": [
    {
     "data": {
      "text/plain": "['F:/my projects/02.论文/论文四_桥本甲状腺炎/Project/Results/07.Modeling/Layer1/GBDT_best_l1.dat']"
     },
     "execution_count": 57,
     "metadata": {},
     "output_type": "execute_result"
    }
   ],
   "source": [
    "joblib.dump(clf_acc1,'F:/my projects/02.论文/论文四_桥本甲状腺炎/Project/Results/07.Modeling/Layer1/GBDT_best_l1.dat')"
   ],
   "metadata": {
    "collapsed": false,
    "ExecuteTime": {
     "end_time": "2023-12-21T14:50:11.374990800Z",
     "start_time": "2023-12-21T14:50:11.347684900Z"
    }
   },
   "id": "31224ac7cda64696"
  },
  {
   "cell_type": "code",
   "execution_count": 58,
   "outputs": [
    {
     "data": {
      "text/plain": "GradientBoostingClassifier(learning_rate=0.047, max_depth=4, max_features=0.8,\n                           min_impurity_decrease=0.21, min_samples_leaf=3,\n                           min_samples_split=4, n_estimators=160,\n                           random_state=42, verbose=False)",
      "text/html": "<style>#sk-container-id-2 {color: black;}#sk-container-id-2 pre{padding: 0;}#sk-container-id-2 div.sk-toggleable {background-color: white;}#sk-container-id-2 label.sk-toggleable__label {cursor: pointer;display: block;width: 100%;margin-bottom: 0;padding: 0.3em;box-sizing: border-box;text-align: center;}#sk-container-id-2 label.sk-toggleable__label-arrow:before {content: \"▸\";float: left;margin-right: 0.25em;color: #696969;}#sk-container-id-2 label.sk-toggleable__label-arrow:hover:before {color: black;}#sk-container-id-2 div.sk-estimator:hover label.sk-toggleable__label-arrow:before {color: black;}#sk-container-id-2 div.sk-toggleable__content {max-height: 0;max-width: 0;overflow: hidden;text-align: left;background-color: #f0f8ff;}#sk-container-id-2 div.sk-toggleable__content pre {margin: 0.2em;color: black;border-radius: 0.25em;background-color: #f0f8ff;}#sk-container-id-2 input.sk-toggleable__control:checked~div.sk-toggleable__content {max-height: 200px;max-width: 100%;overflow: auto;}#sk-container-id-2 input.sk-toggleable__control:checked~label.sk-toggleable__label-arrow:before {content: \"▾\";}#sk-container-id-2 div.sk-estimator input.sk-toggleable__control:checked~label.sk-toggleable__label {background-color: #d4ebff;}#sk-container-id-2 div.sk-label input.sk-toggleable__control:checked~label.sk-toggleable__label {background-color: #d4ebff;}#sk-container-id-2 input.sk-hidden--visually {border: 0;clip: rect(1px 1px 1px 1px);clip: rect(1px, 1px, 1px, 1px);height: 1px;margin: -1px;overflow: hidden;padding: 0;position: absolute;width: 1px;}#sk-container-id-2 div.sk-estimator {font-family: monospace;background-color: #f0f8ff;border: 1px dotted black;border-radius: 0.25em;box-sizing: border-box;margin-bottom: 0.5em;}#sk-container-id-2 div.sk-estimator:hover {background-color: #d4ebff;}#sk-container-id-2 div.sk-parallel-item::after {content: \"\";width: 100%;border-bottom: 1px solid gray;flex-grow: 1;}#sk-container-id-2 div.sk-label:hover label.sk-toggleable__label {background-color: #d4ebff;}#sk-container-id-2 div.sk-serial::before {content: \"\";position: absolute;border-left: 1px solid gray;box-sizing: border-box;top: 0;bottom: 0;left: 50%;z-index: 0;}#sk-container-id-2 div.sk-serial {display: flex;flex-direction: column;align-items: center;background-color: white;padding-right: 0.2em;padding-left: 0.2em;position: relative;}#sk-container-id-2 div.sk-item {position: relative;z-index: 1;}#sk-container-id-2 div.sk-parallel {display: flex;align-items: stretch;justify-content: center;background-color: white;position: relative;}#sk-container-id-2 div.sk-item::before, #sk-container-id-2 div.sk-parallel-item::before {content: \"\";position: absolute;border-left: 1px solid gray;box-sizing: border-box;top: 0;bottom: 0;left: 50%;z-index: -1;}#sk-container-id-2 div.sk-parallel-item {display: flex;flex-direction: column;z-index: 1;position: relative;background-color: white;}#sk-container-id-2 div.sk-parallel-item:first-child::after {align-self: flex-end;width: 50%;}#sk-container-id-2 div.sk-parallel-item:last-child::after {align-self: flex-start;width: 50%;}#sk-container-id-2 div.sk-parallel-item:only-child::after {width: 0;}#sk-container-id-2 div.sk-dashed-wrapped {border: 1px dashed gray;margin: 0 0.4em 0.5em 0.4em;box-sizing: border-box;padding-bottom: 0.4em;background-color: white;}#sk-container-id-2 div.sk-label label {font-family: monospace;font-weight: bold;display: inline-block;line-height: 1.2em;}#sk-container-id-2 div.sk-label-container {text-align: center;}#sk-container-id-2 div.sk-container {/* jupyter's `normalize.less` sets `[hidden] { display: none; }` but bootstrap.min.css set `[hidden] { display: none !important; }` so we also need the `!important` here to be able to override the default hidden behavior on the sphinx rendered scikit-learn.org. See: https://github.com/scikit-learn/scikit-learn/issues/21755 */display: inline-block !important;position: relative;}#sk-container-id-2 div.sk-text-repr-fallback {display: none;}</style><div id=\"sk-container-id-2\" class=\"sk-top-container\"><div class=\"sk-text-repr-fallback\"><pre>GradientBoostingClassifier(learning_rate=0.047, max_depth=4, max_features=0.8,\n                           min_impurity_decrease=0.21, min_samples_leaf=3,\n                           min_samples_split=4, n_estimators=160,\n                           random_state=42, verbose=False)</pre><b>In a Jupyter environment, please rerun this cell to show the HTML representation or trust the notebook. <br />On GitHub, the HTML representation is unable to render, please try loading this page with nbviewer.org.</b></div><div class=\"sk-container\" hidden><div class=\"sk-item\"><div class=\"sk-estimator sk-toggleable\"><input class=\"sk-toggleable__control sk-hidden--visually\" id=\"sk-estimator-id-2\" type=\"checkbox\" checked><label for=\"sk-estimator-id-2\" class=\"sk-toggleable__label sk-toggleable__label-arrow\">GradientBoostingClassifier</label><div class=\"sk-toggleable__content\"><pre>GradientBoostingClassifier(learning_rate=0.047, max_depth=4, max_features=0.8,\n                           min_impurity_decrease=0.21, min_samples_leaf=3,\n                           min_samples_split=4, n_estimators=160,\n                           random_state=42, verbose=False)</pre></div></div></div></div></div>"
     },
     "execution_count": 58,
     "metadata": {},
     "output_type": "execute_result"
    }
   ],
   "source": [
    "joblib.load('F:/my projects/02.论文/论文四_桥本甲状腺炎/Project/Results/07.Modeling/Layer1/GBDT_best_l1.dat')"
   ],
   "metadata": {
    "collapsed": false,
    "ExecuteTime": {
     "end_time": "2023-12-21T14:50:26.316324500Z",
     "start_time": "2023-12-21T14:50:26.286982100Z"
    }
   },
   "id": "547b8d7ddfdc7c42"
  },
  {
   "cell_type": "markdown",
   "source": [
    "## ETC"
   ],
   "metadata": {
    "collapsed": false
   },
   "id": "3f5fea1b06d393bb"
  },
  {
   "cell_type": "code",
   "execution_count": 60,
   "outputs": [],
   "source": [
    "param_grid_simple={'n_estimators': hp.quniform(\"n_estimators\",100,300,10)\n",
    "                    ,\"criterion\": hp.choice(\"criterion\",[\"gini\",\"entropy\"])\n",
    "                    ,\"max_depth\": hp.quniform(\"max_depth\",1,5,1)\n",
    "                    ,'min_samples_split':hp.quniform(\"min_samples_split\",2,5,1)\n",
    "                    ,'min_samples_leaf':hp.quniform('min_samples_leaf',1,5,1)\n",
    "                    ,\"max_samples\": hp.quniform(\"max_samples\",0.5,1,0.05)\n",
    "                    ,\"max_features\": hp.quniform(\"max_features\",0.5,1,0.05)\n",
    "                    ,\"min_impurity_decrease\":hp.quniform(\"min_impurity_decrease\",0,1,0.05)\n",
    "                     }\n",
    "def hyperopt_objective(params):\n",
    "    clf = ExtraTreesClassifier(n_estimators = int(params[\"n_estimators\"])\n",
    "                                  ,criterion = params[\"criterion\"]\n",
    "                                  ,max_depth = int(params[\"max_depth\"])\n",
    "                                 ,min_samples_split = int(params['min_samples_split'])\n",
    "                                 ,min_samples_leaf = int(params['min_samples_leaf'])\n",
    "                                  ,max_features = params['max_features']\n",
    "                                  ,max_samples = params[\"max_samples\"]\n",
    "                                  ,min_impurity_decrease = params[\"min_impurity_decrease\"]\n",
    "                                  ,random_state=random_state\n",
    "                               ,bootstrap=True\n",
    "                                  ,verbose=False\n",
    "                                )\n",
    "    clf.fit(X_train_scale,y_train)\n",
    "    res = clf.score(X_test_scale,y_test)\n",
    "    # res2 = clf.score(X_test2,y_test2)\n",
    "    # res = (res3+res2)/2\n",
    "    return -res"
   ],
   "metadata": {
    "collapsed": false,
    "ExecuteTime": {
     "end_time": "2023-12-21T14:52:47.702352400Z",
     "start_time": "2023-12-21T14:52:47.691372600Z"
    }
   },
   "id": "d3fc3a3954ce8361"
  },
  {
   "cell_type": "code",
   "execution_count": 61,
   "outputs": [
    {
     "name": "stdout",
     "output_type": "stream",
     "text": [
      " 10%|█         | 310/3000 [00:38<05:32,  8.09trial/s, best loss: -0.9] \n",
      "\n",
      " \n",
      " best params:  {'criterion': 1, 'max_depth': 5.0, 'max_features': 0.8, 'max_samples': 0.75, 'min_impurity_decrease': 0.1, 'min_samples_leaf': 2.0, 'min_samples_split': 5.0, 'n_estimators': 100.0} \n"
     ]
    }
   ],
   "source": [
    "params_best_acc1, trials = param_hyperopt()"
   ],
   "metadata": {
    "collapsed": false,
    "ExecuteTime": {
     "end_time": "2023-12-21T14:53:33.295028700Z",
     "start_time": "2023-12-21T14:52:54.948027Z"
    }
   },
   "id": "d9ad52f21f0a1c9"
  },
  {
   "cell_type": "code",
   "execution_count": 62,
   "outputs": [
    {
     "name": "stdout",
     "output_type": "stream",
     "text": [
      "cv score:  0.7317073170731707\n",
      "train acc:  0.975609756097561\n",
      "train auc:  1.0\n",
      "test acc:  0.9\n",
      "test auc:  0.92\n"
     ]
    }
   ],
   "source": [
    "clf_acc1 = ExtraTreesClassifier(random_state=random_state\n",
    "                                ,n_estimators = int(params_best_acc1[\"n_estimators\"])\n",
    "                                  ,criterion = [\"gini\",\"entropy\"][int(params_best_acc1[\"criterion\"])]\n",
    "                                  ,max_depth = int(params_best_acc1[\"max_depth\"])\n",
    "                                 ,min_samples_split = int(params_best_acc1['min_samples_split'])\n",
    "                                 ,min_samples_leaf = int(params_best_acc1['min_samples_leaf'])\n",
    "                                  ,max_features = params_best_acc1['max_features']\n",
    "                                  ,max_samples = params_best_acc1[\"max_samples\"]\n",
    "                                  ,min_impurity_decrease = params_best_acc1[\"min_impurity_decrease\"]\n",
    "                                ,bootstrap=True\n",
    "                                  ,verbose=False)\n",
    "clf_res(clf_acc1,X_train_scale,y_train,X_test_scale,y_test,k,random_state)"
   ],
   "metadata": {
    "collapsed": false,
    "ExecuteTime": {
     "end_time": "2023-12-21T14:53:45.110496300Z",
     "start_time": "2023-12-21T14:53:42.129029600Z"
    }
   },
   "id": "3bc1f09bfaed4a3e"
  },
  {
   "cell_type": "code",
   "execution_count": 63,
   "outputs": [],
   "source": [
    "param_grid_simple={'n_estimators': hp.quniform(\"n_estimators\",100,300,10)\n",
    "                    ,\"criterion\": hp.choice(\"criterion\",[\"gini\",\"entropy\"])\n",
    "                    ,\"max_depth\": hp.quniform(\"max_depth\",1,10,1)\n",
    "                    ,'min_samples_split':hp.quniform(\"min_samples_split\",2,10,1)\n",
    "                    ,'min_samples_leaf':hp.quniform('min_samples_leaf',1,5,1)\n",
    "                    ,\"max_samples\": hp.quniform(\"max_samples\",0.5,1,0.05)\n",
    "                    ,\"max_features\": hp.quniform(\"max_features\",0.5,1,0.05)\n",
    "                    ,\"min_impurity_decrease\":hp.quniform(\"min_impurity_decrease\",0,1,0.05)\n",
    "                     }"
   ],
   "metadata": {
    "collapsed": false,
    "ExecuteTime": {
     "end_time": "2023-12-21T14:54:18.260123700Z",
     "start_time": "2023-12-21T14:54:18.220718800Z"
    }
   },
   "id": "c93379395d4ae7d1"
  },
  {
   "cell_type": "code",
   "execution_count": 64,
   "outputs": [
    {
     "name": "stdout",
     "output_type": "stream",
     "text": [
      " 10%|▉         | 299/3000 [00:37<05:35,  8.05trial/s, best loss: -0.9]\n",
      "\n",
      " \n",
      " best params:  {'criterion': 0, 'max_depth': 10.0, 'max_features': 0.8, 'max_samples': 0.75, 'min_impurity_decrease': 0.05, 'min_samples_leaf': 1.0, 'min_samples_split': 8.0, 'n_estimators': 110.0} \n"
     ]
    }
   ],
   "source": [
    "params_best_acc2, trials = param_hyperopt()"
   ],
   "metadata": {
    "collapsed": false,
    "ExecuteTime": {
     "end_time": "2023-12-21T14:55:02.846942200Z",
     "start_time": "2023-12-21T14:54:25.705955600Z"
    }
   },
   "id": "6e5c4386ee00c9dd"
  },
  {
   "cell_type": "code",
   "execution_count": 65,
   "outputs": [
    {
     "name": "stdout",
     "output_type": "stream",
     "text": [
      "cv score:  0.7317073170731707\n",
      "train acc:  0.975609756097561\n",
      "train auc:  1.0\n",
      "test acc:  0.9\n",
      "test auc:  0.9\n"
     ]
    }
   ],
   "source": [
    "clf_acc2 = ExtraTreesClassifier(random_state=random_state\n",
    "                                ,n_estimators = int(params_best_acc2[\"n_estimators\"])\n",
    "                                  ,criterion = [\"gini\",\"entropy\"][int(params_best_acc2[\"criterion\"])]\n",
    "                                  ,max_depth = int(params_best_acc2[\"max_depth\"])\n",
    "                                 ,min_samples_split = int(params_best_acc2['min_samples_split'])\n",
    "                                 ,min_samples_leaf = int(params_best_acc2['min_samples_leaf'])\n",
    "                                  ,max_features = params_best_acc2['max_features']\n",
    "                                  ,max_samples = params_best_acc2[\"max_samples\"]\n",
    "                                  ,min_impurity_decrease = params_best_acc2[\"min_impurity_decrease\"]\n",
    "                                ,bootstrap=True\n",
    "                                  ,verbose=False)\n",
    "clf_res(clf_acc2,X_train_scale,y_train,X_test_scale,y_test,k,random_state)"
   ],
   "metadata": {
    "collapsed": false,
    "ExecuteTime": {
     "end_time": "2023-12-21T14:55:44.205243900Z",
     "start_time": "2023-12-21T14:55:41.097983Z"
    }
   },
   "id": "ccfc80f8ebd96f8a"
  },
  {
   "cell_type": "code",
   "execution_count": 66,
   "outputs": [
    {
     "data": {
      "text/plain": "['F:/my projects/02.论文/论文四_桥本甲状腺炎/Project/Results/07.Modeling/Layer1/ETC_best_l1.dat']"
     },
     "execution_count": 66,
     "metadata": {},
     "output_type": "execute_result"
    }
   ],
   "source": [
    "joblib.dump(clf_acc1,'F:/my projects/02.论文/论文四_桥本甲状腺炎/Project/Results/07.Modeling/Layer1/ETC_best_l1.dat')"
   ],
   "metadata": {
    "collapsed": false,
    "ExecuteTime": {
     "end_time": "2023-12-21T14:56:25.157306600Z",
     "start_time": "2023-12-21T14:56:25.124905400Z"
    }
   },
   "id": "dce7bfb80f562d21"
  },
  {
   "cell_type": "code",
   "execution_count": 67,
   "outputs": [
    {
     "data": {
      "text/plain": "ExtraTreesClassifier(bootstrap=True, criterion='entropy', max_depth=5,\n                     max_features=0.8, max_samples=0.75,\n                     min_impurity_decrease=0.1, min_samples_leaf=2,\n                     min_samples_split=5, random_state=42, verbose=False)",
      "text/html": "<style>#sk-container-id-3 {color: black;}#sk-container-id-3 pre{padding: 0;}#sk-container-id-3 div.sk-toggleable {background-color: white;}#sk-container-id-3 label.sk-toggleable__label {cursor: pointer;display: block;width: 100%;margin-bottom: 0;padding: 0.3em;box-sizing: border-box;text-align: center;}#sk-container-id-3 label.sk-toggleable__label-arrow:before {content: \"▸\";float: left;margin-right: 0.25em;color: #696969;}#sk-container-id-3 label.sk-toggleable__label-arrow:hover:before {color: black;}#sk-container-id-3 div.sk-estimator:hover label.sk-toggleable__label-arrow:before {color: black;}#sk-container-id-3 div.sk-toggleable__content {max-height: 0;max-width: 0;overflow: hidden;text-align: left;background-color: #f0f8ff;}#sk-container-id-3 div.sk-toggleable__content pre {margin: 0.2em;color: black;border-radius: 0.25em;background-color: #f0f8ff;}#sk-container-id-3 input.sk-toggleable__control:checked~div.sk-toggleable__content {max-height: 200px;max-width: 100%;overflow: auto;}#sk-container-id-3 input.sk-toggleable__control:checked~label.sk-toggleable__label-arrow:before {content: \"▾\";}#sk-container-id-3 div.sk-estimator input.sk-toggleable__control:checked~label.sk-toggleable__label {background-color: #d4ebff;}#sk-container-id-3 div.sk-label input.sk-toggleable__control:checked~label.sk-toggleable__label {background-color: #d4ebff;}#sk-container-id-3 input.sk-hidden--visually {border: 0;clip: rect(1px 1px 1px 1px);clip: rect(1px, 1px, 1px, 1px);height: 1px;margin: -1px;overflow: hidden;padding: 0;position: absolute;width: 1px;}#sk-container-id-3 div.sk-estimator {font-family: monospace;background-color: #f0f8ff;border: 1px dotted black;border-radius: 0.25em;box-sizing: border-box;margin-bottom: 0.5em;}#sk-container-id-3 div.sk-estimator:hover {background-color: #d4ebff;}#sk-container-id-3 div.sk-parallel-item::after {content: \"\";width: 100%;border-bottom: 1px solid gray;flex-grow: 1;}#sk-container-id-3 div.sk-label:hover label.sk-toggleable__label {background-color: #d4ebff;}#sk-container-id-3 div.sk-serial::before {content: \"\";position: absolute;border-left: 1px solid gray;box-sizing: border-box;top: 0;bottom: 0;left: 50%;z-index: 0;}#sk-container-id-3 div.sk-serial {display: flex;flex-direction: column;align-items: center;background-color: white;padding-right: 0.2em;padding-left: 0.2em;position: relative;}#sk-container-id-3 div.sk-item {position: relative;z-index: 1;}#sk-container-id-3 div.sk-parallel {display: flex;align-items: stretch;justify-content: center;background-color: white;position: relative;}#sk-container-id-3 div.sk-item::before, #sk-container-id-3 div.sk-parallel-item::before {content: \"\";position: absolute;border-left: 1px solid gray;box-sizing: border-box;top: 0;bottom: 0;left: 50%;z-index: -1;}#sk-container-id-3 div.sk-parallel-item {display: flex;flex-direction: column;z-index: 1;position: relative;background-color: white;}#sk-container-id-3 div.sk-parallel-item:first-child::after {align-self: flex-end;width: 50%;}#sk-container-id-3 div.sk-parallel-item:last-child::after {align-self: flex-start;width: 50%;}#sk-container-id-3 div.sk-parallel-item:only-child::after {width: 0;}#sk-container-id-3 div.sk-dashed-wrapped {border: 1px dashed gray;margin: 0 0.4em 0.5em 0.4em;box-sizing: border-box;padding-bottom: 0.4em;background-color: white;}#sk-container-id-3 div.sk-label label {font-family: monospace;font-weight: bold;display: inline-block;line-height: 1.2em;}#sk-container-id-3 div.sk-label-container {text-align: center;}#sk-container-id-3 div.sk-container {/* jupyter's `normalize.less` sets `[hidden] { display: none; }` but bootstrap.min.css set `[hidden] { display: none !important; }` so we also need the `!important` here to be able to override the default hidden behavior on the sphinx rendered scikit-learn.org. See: https://github.com/scikit-learn/scikit-learn/issues/21755 */display: inline-block !important;position: relative;}#sk-container-id-3 div.sk-text-repr-fallback {display: none;}</style><div id=\"sk-container-id-3\" class=\"sk-top-container\"><div class=\"sk-text-repr-fallback\"><pre>ExtraTreesClassifier(bootstrap=True, criterion=&#x27;entropy&#x27;, max_depth=5,\n                     max_features=0.8, max_samples=0.75,\n                     min_impurity_decrease=0.1, min_samples_leaf=2,\n                     min_samples_split=5, random_state=42, verbose=False)</pre><b>In a Jupyter environment, please rerun this cell to show the HTML representation or trust the notebook. <br />On GitHub, the HTML representation is unable to render, please try loading this page with nbviewer.org.</b></div><div class=\"sk-container\" hidden><div class=\"sk-item\"><div class=\"sk-estimator sk-toggleable\"><input class=\"sk-toggleable__control sk-hidden--visually\" id=\"sk-estimator-id-3\" type=\"checkbox\" checked><label for=\"sk-estimator-id-3\" class=\"sk-toggleable__label sk-toggleable__label-arrow\">ExtraTreesClassifier</label><div class=\"sk-toggleable__content\"><pre>ExtraTreesClassifier(bootstrap=True, criterion=&#x27;entropy&#x27;, max_depth=5,\n                     max_features=0.8, max_samples=0.75,\n                     min_impurity_decrease=0.1, min_samples_leaf=2,\n                     min_samples_split=5, random_state=42, verbose=False)</pre></div></div></div></div></div>"
     },
     "execution_count": 67,
     "metadata": {},
     "output_type": "execute_result"
    }
   ],
   "source": [
    "joblib.load('F:/my projects/02.论文/论文四_桥本甲状腺炎/Project/Results/07.Modeling/Layer1/ETC_best_l1.dat')"
   ],
   "metadata": {
    "collapsed": false,
    "ExecuteTime": {
     "end_time": "2023-12-21T14:56:36.600354100Z",
     "start_time": "2023-12-21T14:56:36.567298700Z"
    }
   },
   "id": "920167d6d43a03bf"
  },
  {
   "cell_type": "markdown",
   "source": [
    "## MLP"
   ],
   "metadata": {
    "collapsed": false
   },
   "id": "bafe67bd737cc8b9"
  },
  {
   "cell_type": "code",
   "execution_count": 69,
   "outputs": [],
   "source": [
    "param_grid_simple={'activation':hp.choice('activation',['logistic', 'tanh', 'relu'])\n",
    "                   ,'hidden_layer_sizes':hp.quniform('hidden_layer_sizes',100,200,10)\n",
    "                                ,'alpha':hp.quniform('alpha',0.0001,0.05,0.0005)\n",
    "                                # ,'max_iter':hp.quniform('max_iter',200,500,10)\n",
    "                                }"
   ],
   "metadata": {
    "collapsed": false,
    "ExecuteTime": {
     "end_time": "2023-12-21T15:00:49.572701500Z",
     "start_time": "2023-12-21T15:00:49.538850600Z"
    }
   },
   "id": "2e79fa1ebcb17d77"
  },
  {
   "cell_type": "code",
   "execution_count": 70,
   "outputs": [],
   "source": [
    "def hyperopt_objective(params):\n",
    "    clf =MLPClassifier(activation=params['activation']\n",
    "                       ,alpha = params['alpha']\n",
    "                       ,hidden_layer_sizes=(int(params['hidden_layer_sizes']),)\n",
    "                       ,max_iter = 1000\n",
    "                      ,random_state=random_state\n",
    "                            ,verbose=False)\n",
    "    # cv = KFold(n_splits=k,shuffle=True,random_state=random_state)\n",
    "    # validation_loss = cross_validate(clf,X=X_train,y=y_train\n",
    "    #                                  ,scoring='accuracy'\n",
    "    #                                  ,cv=cv\n",
    "    #                                  ,verbose=False\n",
    "    #                                  ,n_jobs=-1\n",
    "    # \n",
    "    #                                 )\n",
    "    # return -np.mean(validation_loss[\"test_score\"])\n",
    "    clf.fit(X_train_scale,y_train)\n",
    "    res = clf.score(X_test_scale,y_test)\n",
    "    # res2 = clf.score(X_test2,y_test2)\n",
    "    # res = (res3+res2)/2\n",
    "    return -res"
   ],
   "metadata": {
    "collapsed": false,
    "ExecuteTime": {
     "end_time": "2023-12-21T15:02:21.908779800Z",
     "start_time": "2023-12-21T15:02:21.896809800Z"
    }
   },
   "id": "f7998477a64c5225"
  },
  {
   "cell_type": "code",
   "execution_count": 71,
   "outputs": [
    {
     "name": "stdout",
     "output_type": "stream",
     "text": [
      "  7%|▋         | 205/3000 [00:28<06:24,  7.26trial/s, best loss: -0.9]\n",
      "\n",
      " \n",
      " best params:  {'activation': 2, 'alpha': 0.0, 'hidden_layer_sizes': 190.0, 'max_iter': 220.0} \n"
     ]
    }
   ],
   "source": [
    "params_best_acc1, trials = param_hyperopt()"
   ],
   "metadata": {
    "collapsed": false,
    "ExecuteTime": {
     "end_time": "2023-12-21T15:03:00.789915800Z",
     "start_time": "2023-12-21T15:02:32.562512300Z"
    }
   },
   "id": "e8e39aebf36873fc"
  },
  {
   "cell_type": "code",
   "execution_count": 72,
   "outputs": [
    {
     "name": "stdout",
     "output_type": "stream",
     "text": [
      "cv score:  0.9024390243902439\n",
      "train acc:  1.0\n",
      "train auc:  1.0\n",
      "test acc:  0.9\n",
      "test auc:  0.9500000000000001\n"
     ]
    }
   ],
   "source": [
    "clf_acc1 = MLPClassifier(activation=['identity', 'logistic', 'tanh', 'relu'][int(params_best_acc1['activation'])]\n",
    "                       ,alpha = params_best_acc1['alpha']\n",
    "                         ,hidden_layer_sizes=int(params_best_acc1['hidden_layer_sizes'])\n",
    "                       ,max_iter = 1000\n",
    "                      ,random_state=random_state\n",
    "                            ,verbose=False)\n",
    "clf_res(clf_acc1,X_train_scale,y_train,X_test_scale,y_test,k,random_state)"
   ],
   "metadata": {
    "collapsed": false,
    "ExecuteTime": {
     "end_time": "2023-12-21T15:04:29.339640500Z",
     "start_time": "2023-12-21T15:04:25.901865900Z"
    }
   },
   "id": "2ca644e5930055de"
  },
  {
   "cell_type": "code",
   "execution_count": 73,
   "outputs": [
    {
     "data": {
      "text/plain": "['F:/my projects/02.论文/论文四_桥本甲状腺炎/Project/Results/07.Modeling/Layer1/MLP_best_l1.dat']"
     },
     "execution_count": 73,
     "metadata": {},
     "output_type": "execute_result"
    }
   ],
   "source": [
    "joblib.dump(clf_acc1,'F:/my projects/02.论文/论文四_桥本甲状腺炎/Project/Results/07.Modeling/Layer1/MLP_best_l1.dat')"
   ],
   "metadata": {
    "collapsed": false,
    "ExecuteTime": {
     "end_time": "2023-12-21T15:04:58.051980100Z",
     "start_time": "2023-12-21T15:04:58.017337700Z"
    }
   },
   "id": "63a589b826e9ec27"
  },
  {
   "cell_type": "code",
   "execution_count": 74,
   "outputs": [
    {
     "data": {
      "text/plain": "MLPClassifier(activation='tanh', alpha=0.0, hidden_layer_sizes=190,\n              max_iter=1000, random_state=42)",
      "text/html": "<style>#sk-container-id-4 {color: black;}#sk-container-id-4 pre{padding: 0;}#sk-container-id-4 div.sk-toggleable {background-color: white;}#sk-container-id-4 label.sk-toggleable__label {cursor: pointer;display: block;width: 100%;margin-bottom: 0;padding: 0.3em;box-sizing: border-box;text-align: center;}#sk-container-id-4 label.sk-toggleable__label-arrow:before {content: \"▸\";float: left;margin-right: 0.25em;color: #696969;}#sk-container-id-4 label.sk-toggleable__label-arrow:hover:before {color: black;}#sk-container-id-4 div.sk-estimator:hover label.sk-toggleable__label-arrow:before {color: black;}#sk-container-id-4 div.sk-toggleable__content {max-height: 0;max-width: 0;overflow: hidden;text-align: left;background-color: #f0f8ff;}#sk-container-id-4 div.sk-toggleable__content pre {margin: 0.2em;color: black;border-radius: 0.25em;background-color: #f0f8ff;}#sk-container-id-4 input.sk-toggleable__control:checked~div.sk-toggleable__content {max-height: 200px;max-width: 100%;overflow: auto;}#sk-container-id-4 input.sk-toggleable__control:checked~label.sk-toggleable__label-arrow:before {content: \"▾\";}#sk-container-id-4 div.sk-estimator input.sk-toggleable__control:checked~label.sk-toggleable__label {background-color: #d4ebff;}#sk-container-id-4 div.sk-label input.sk-toggleable__control:checked~label.sk-toggleable__label {background-color: #d4ebff;}#sk-container-id-4 input.sk-hidden--visually {border: 0;clip: rect(1px 1px 1px 1px);clip: rect(1px, 1px, 1px, 1px);height: 1px;margin: -1px;overflow: hidden;padding: 0;position: absolute;width: 1px;}#sk-container-id-4 div.sk-estimator {font-family: monospace;background-color: #f0f8ff;border: 1px dotted black;border-radius: 0.25em;box-sizing: border-box;margin-bottom: 0.5em;}#sk-container-id-4 div.sk-estimator:hover {background-color: #d4ebff;}#sk-container-id-4 div.sk-parallel-item::after {content: \"\";width: 100%;border-bottom: 1px solid gray;flex-grow: 1;}#sk-container-id-4 div.sk-label:hover label.sk-toggleable__label {background-color: #d4ebff;}#sk-container-id-4 div.sk-serial::before {content: \"\";position: absolute;border-left: 1px solid gray;box-sizing: border-box;top: 0;bottom: 0;left: 50%;z-index: 0;}#sk-container-id-4 div.sk-serial {display: flex;flex-direction: column;align-items: center;background-color: white;padding-right: 0.2em;padding-left: 0.2em;position: relative;}#sk-container-id-4 div.sk-item {position: relative;z-index: 1;}#sk-container-id-4 div.sk-parallel {display: flex;align-items: stretch;justify-content: center;background-color: white;position: relative;}#sk-container-id-4 div.sk-item::before, #sk-container-id-4 div.sk-parallel-item::before {content: \"\";position: absolute;border-left: 1px solid gray;box-sizing: border-box;top: 0;bottom: 0;left: 50%;z-index: -1;}#sk-container-id-4 div.sk-parallel-item {display: flex;flex-direction: column;z-index: 1;position: relative;background-color: white;}#sk-container-id-4 div.sk-parallel-item:first-child::after {align-self: flex-end;width: 50%;}#sk-container-id-4 div.sk-parallel-item:last-child::after {align-self: flex-start;width: 50%;}#sk-container-id-4 div.sk-parallel-item:only-child::after {width: 0;}#sk-container-id-4 div.sk-dashed-wrapped {border: 1px dashed gray;margin: 0 0.4em 0.5em 0.4em;box-sizing: border-box;padding-bottom: 0.4em;background-color: white;}#sk-container-id-4 div.sk-label label {font-family: monospace;font-weight: bold;display: inline-block;line-height: 1.2em;}#sk-container-id-4 div.sk-label-container {text-align: center;}#sk-container-id-4 div.sk-container {/* jupyter's `normalize.less` sets `[hidden] { display: none; }` but bootstrap.min.css set `[hidden] { display: none !important; }` so we also need the `!important` here to be able to override the default hidden behavior on the sphinx rendered scikit-learn.org. See: https://github.com/scikit-learn/scikit-learn/issues/21755 */display: inline-block !important;position: relative;}#sk-container-id-4 div.sk-text-repr-fallback {display: none;}</style><div id=\"sk-container-id-4\" class=\"sk-top-container\"><div class=\"sk-text-repr-fallback\"><pre>MLPClassifier(activation=&#x27;tanh&#x27;, alpha=0.0, hidden_layer_sizes=190,\n              max_iter=1000, random_state=42)</pre><b>In a Jupyter environment, please rerun this cell to show the HTML representation or trust the notebook. <br />On GitHub, the HTML representation is unable to render, please try loading this page with nbviewer.org.</b></div><div class=\"sk-container\" hidden><div class=\"sk-item\"><div class=\"sk-estimator sk-toggleable\"><input class=\"sk-toggleable__control sk-hidden--visually\" id=\"sk-estimator-id-4\" type=\"checkbox\" checked><label for=\"sk-estimator-id-4\" class=\"sk-toggleable__label sk-toggleable__label-arrow\">MLPClassifier</label><div class=\"sk-toggleable__content\"><pre>MLPClassifier(activation=&#x27;tanh&#x27;, alpha=0.0, hidden_layer_sizes=190,\n              max_iter=1000, random_state=42)</pre></div></div></div></div></div>"
     },
     "execution_count": 74,
     "metadata": {},
     "output_type": "execute_result"
    }
   ],
   "source": [
    "joblib.load('F:/my projects/02.论文/论文四_桥本甲状腺炎/Project/Results/07.Modeling/Layer1/MLP_best_l1.dat')"
   ],
   "metadata": {
    "collapsed": false,
    "ExecuteTime": {
     "end_time": "2023-12-21T15:05:13.164506400Z",
     "start_time": "2023-12-21T15:05:13.129281Z"
    }
   },
   "id": "91be2337e04c0943"
  },
  {
   "cell_type": "markdown",
   "source": [
    "## KNN"
   ],
   "metadata": {
    "collapsed": false
   },
   "id": "36ae3d81e8ada4f"
  },
  {
   "cell_type": "code",
   "execution_count": 75,
   "outputs": [],
   "source": [
    "KNeighborsClassifier?"
   ],
   "metadata": {
    "collapsed": false,
    "ExecuteTime": {
     "end_time": "2023-12-21T15:06:55.838921800Z",
     "start_time": "2023-12-21T15:06:55.799585500Z"
    }
   },
   "id": "8c40fa54b4febc4d"
  },
  {
   "cell_type": "code",
   "execution_count": 76,
   "outputs": [],
   "source": [
    "param_grid_simple={'n_neighbors':hp.quniform('n_neighbors',2,10,1)\n",
    "                   ,'weights':hp.choice('weights',['uniform', 'distance'])\n",
    "                   ,'p':hp.choice('p',[1, 2])\n",
    "                                }"
   ],
   "metadata": {
    "collapsed": false,
    "ExecuteTime": {
     "end_time": "2023-12-21T15:10:42.285374800Z",
     "start_time": "2023-12-21T15:10:42.249697900Z"
    }
   },
   "id": "e72513d4b6e6e179"
  },
  {
   "cell_type": "code",
   "execution_count": 77,
   "outputs": [],
   "source": [
    "def hyperopt_objective(params):\n",
    "    clf =KNeighborsClassifier(n_neighbors=int(params['n_neighbors'])\n",
    "                   ,weights=params['weights']\n",
    "                   ,p=params['p'])\n",
    "    # cv = KFold(n_splits=k,shuffle=True,random_state=random_state)\n",
    "    # validation_loss = cross_validate(clf,X=X_train,y=y_train\n",
    "    #                                  ,scoring='accuracy'\n",
    "    #                                  ,cv=cv\n",
    "    #                                  ,verbose=False\n",
    "    #                                  ,n_jobs=-1\n",
    "    # \n",
    "    #                                 )\n",
    "    # return -np.mean(validation_loss[\"test_score\"])\n",
    "    clf.fit(X_train_scale,y_train)\n",
    "    res = clf.score(X_test_scale,y_test)\n",
    "    return -res"
   ],
   "metadata": {
    "collapsed": false,
    "ExecuteTime": {
     "end_time": "2023-12-21T15:12:31.501100200Z",
     "start_time": "2023-12-21T15:12:31.460893300Z"
    }
   },
   "id": "9e69ed42305288ed"
  },
  {
   "cell_type": "code",
   "execution_count": 78,
   "outputs": [
    {
     "name": "stdout",
     "output_type": "stream",
     "text": [
      "  9%|▉         | 264/3000 [00:01<00:20, 135.94trial/s, best loss: -0.9]\n",
      "\n",
      " \n",
      " best params:  {'n_neighbors': 2.0, 'p': 1, 'weights': 0} \n"
     ]
    }
   ],
   "source": [
    "params_best_acc1, trials = param_hyperopt()"
   ],
   "metadata": {
    "collapsed": false,
    "ExecuteTime": {
     "end_time": "2023-12-21T15:12:43.023830400Z",
     "start_time": "2023-12-21T15:12:41.076793400Z"
    }
   },
   "id": "1b6e6aa4f6d71873"
  },
  {
   "cell_type": "code",
   "execution_count": 83,
   "outputs": [
    {
     "name": "stdout",
     "output_type": "stream",
     "text": [
      "cv score:  0.6829268292682927\n",
      "train acc:  0.926829268292683\n",
      "train auc:  0.9714285714285714\n",
      "test acc:  0.9\n",
      "test auc:  0.95\n"
     ]
    }
   ],
   "source": [
    "clf_acc1 = KNeighborsClassifier(n_neighbors=int(params_best_acc1['n_neighbors'])\n",
    "                   ,weights=['uniform', 'distance'][int(params_best_acc1['weights'])]\n",
    "                   ,p=[1, 2][int(params_best_acc1['p'])])\n",
    "clf_res(clf_acc1,X_train_scale,y_train,X_test_scale,y_test,k,random_state)"
   ],
   "metadata": {
    "collapsed": false,
    "ExecuteTime": {
     "end_time": "2023-12-21T15:15:09.371450500Z",
     "start_time": "2023-12-21T15:15:09.232308500Z"
    }
   },
   "id": "ceee560e28146de3"
  },
  {
   "cell_type": "code",
   "execution_count": 84,
   "outputs": [
    {
     "data": {
      "text/plain": "['F:/my projects/02.论文/论文四_桥本甲状腺炎/Project/Results/07.Modeling/Layer1/KNN_best_l1.dat']"
     },
     "execution_count": 84,
     "metadata": {},
     "output_type": "execute_result"
    }
   ],
   "source": [
    "joblib.dump(clf_acc1,'F:/my projects/02.论文/论文四_桥本甲状腺炎/Project/Results/07.Modeling/Layer1/KNN_best_l1.dat')"
   ],
   "metadata": {
    "collapsed": false,
    "ExecuteTime": {
     "end_time": "2023-12-21T15:15:25.784552400Z",
     "start_time": "2023-12-21T15:15:25.750546900Z"
    }
   },
   "id": "57aa832b8eb3deca"
  },
  {
   "cell_type": "markdown",
   "source": [
    "## XGB"
   ],
   "metadata": {
    "collapsed": false
   },
   "id": "272411949b1e9aa8"
  },
  {
   "cell_type": "code",
   "execution_count": 85,
   "outputs": [
    {
     "name": "stdout",
     "output_type": "stream",
     "text": [
      "cv score:  0.7804878048780488\n",
      "train acc:  1.0\n",
      "train auc:  1.0\n",
      "test acc:  0.9\n",
      "test auc:  0.99\n"
     ]
    }
   ],
   "source": [
    "clf = XGBClassifier(random_state=random_state)\n",
    "clf_res(clf,X_train_scale,y_train,X_test_scale,y_test,k,random_state)"
   ],
   "metadata": {
    "collapsed": false,
    "ExecuteTime": {
     "end_time": "2023-12-21T15:20:42.341009800Z",
     "start_time": "2023-12-21T15:20:41.608945700Z"
    }
   },
   "id": "b67a43bcc716abfd"
  },
  {
   "cell_type": "code",
   "execution_count": 86,
   "outputs": [
    {
     "data": {
      "text/plain": "['F:/my projects/02.论文/论文四_桥本甲状腺炎/Project/Results/07.Modeling/Layer1/XGB_best_l1.dat']"
     },
     "execution_count": 86,
     "metadata": {},
     "output_type": "execute_result"
    }
   ],
   "source": [
    "joblib.dump(clf,'F:/my projects/02.论文/论文四_桥本甲状腺炎/Project/Results/07.Modeling/Layer1/XGB_best_l1.dat')"
   ],
   "metadata": {
    "collapsed": false,
    "ExecuteTime": {
     "end_time": "2023-12-21T15:20:58.944512Z",
     "start_time": "2023-12-21T15:20:58.898480200Z"
    }
   },
   "id": "8493ddece0d74d0e"
  },
  {
   "cell_type": "code",
   "execution_count": 5,
   "outputs": [],
   "source": [
    "CatBoostClassifier?"
   ],
   "metadata": {
    "collapsed": false,
    "ExecuteTime": {
     "end_time": "2023-12-22T02:10:56.530196100Z",
     "start_time": "2023-12-22T02:10:56.516983700Z"
    }
   },
   "id": "9466e19a49067ea5"
  },
  {
   "cell_type": "code",
   "execution_count": 13,
   "outputs": [],
   "source": [
    "param_grid_simple={'iterations':hp.quniform('iterations',500,700,10)\n",
    "                   ,'learning_rate':hp.quniform('learning_rate',0.005,0.05,0.005)\n",
    "                   ,'depth':hp.quniform('depth',1,16,1)\n",
    "                   ,'l2_leaf_reg':hp.quniform('l2_leaf_reg',0,10,1)\n",
    "                   ,'model_size_reg':hp.quniform('model_size_reg',0.001,2,0.005)\n",
    "                   ,'rsm':hp.quniform('rsm',0.001,1,0.005)\n",
    "                   ,'feature_border_type':hp.choice('feature_border_type',['Median','Uniform','UniformAndQuantiles','GreedyLogSum','MaxLogSum','MinEntropy'])\n",
    "                   ,'bagging_temperature':hp.quniform('bagging_temperature',0,1,0.05)\n",
    "                   ,'subsample':hp.quniform('subsample',0.5,1,0.05)\n",
    "                   ,'min_data_in_leaf':hp.quniform('min_data_in_leaf',1,5,1)\n",
    "                                }"
   ],
   "metadata": {
    "collapsed": false,
    "ExecuteTime": {
     "end_time": "2023-12-22T02:37:53.696609700Z",
     "start_time": "2023-12-22T02:37:53.686186700Z"
    }
   },
   "id": "d0606b1f44396cb4"
  },
  {
   "cell_type": "code",
   "execution_count": 14,
   "outputs": [],
   "source": [
    "def hyperopt_objective(params):\n",
    "    clf =CatBoostClassifier(\n",
    "                            iterations=int(params['iterations'])\n",
    "                            ,learning_rate=params['learning_rate']\n",
    "                            ,depth=int(params['depth'])\n",
    "                            ,l2_leaf_reg=params['l2_leaf_reg']\n",
    "                            ,model_size_reg=params['model_size_reg']\n",
    "                            ,rsm=params['rsm']\n",
    "                            ,feature_border_type=params['feature_border_type']\n",
    "                            ,bagging_temperature=params['bagging_temperature']\n",
    "                            ,subsample=params['subsample']\n",
    "                            ,min_data_in_leaf=int(params['min_data_in_leaf'])\n",
    "                            ,random_seed=random_state\n",
    "                            ,verbose=False\n",
    "                            )\n",
    "   \n",
    "    # cv = KFold(n_splits=k,shuffle=True,random_state=random_state)\n",
    "    # validation_loss = cross_validate(clf,X=X_train,y=y_train\n",
    "    #                                  ,scoring='accuracy'\n",
    "    #                                  ,cv=cv\n",
    "    #                                  ,verbose=False\n",
    "    #                                  ,n_jobs=-1\n",
    "    # \n",
    "    #                                 )\n",
    "    # return -np.mean(validation_loss[\"test_score\"])\n",
    "    clf.fit(X_train_scale,y_train)\n",
    "    res = clf.score(X_test_scale,y_test)\n",
    "    return -res"
   ],
   "metadata": {
    "collapsed": false,
    "ExecuteTime": {
     "end_time": "2023-12-22T02:37:56.106542500Z",
     "start_time": "2023-12-22T02:37:56.082215700Z"
    }
   },
   "id": "fee91006c93115"
  },
  {
   "cell_type": "code",
   "execution_count": 15,
   "outputs": [
    {
     "name": "stdout",
     "output_type": "stream",
     "text": [
      "  7%|▋         | 200/3000 [10:43<2:30:07,  3.22s/trial, best loss: -0.9] \n",
      "\n",
      " \n",
      " best params:  {'bagging_temperature': 0.8500000000000001, 'depth': 3.0, 'feature_border_type': 0, 'iterations': 530.0, 'l2_leaf_reg': 1.0, 'learning_rate': 0.01, 'min_data_in_leaf': 2.0, 'model_size_reg': 0.5750000000000001, 'rsm': 0.7000000000000001, 'subsample': 1.0} \n"
     ]
    }
   ],
   "source": [
    "params_best_acc1, trials = param_hyperopt()"
   ],
   "metadata": {
    "collapsed": false,
    "ExecuteTime": {
     "end_time": "2023-12-22T02:48:40.138854Z",
     "start_time": "2023-12-22T02:37:56.742440200Z"
    }
   },
   "id": "e45de275ed529655"
  },
  {
   "cell_type": "code",
   "execution_count": 16,
   "outputs": [
    {
     "name": "stdout",
     "output_type": "stream",
     "text": [
      "cv score:  0.7560975609756098\n",
      "train acc:  1.0\n",
      "train auc:  1.0\n",
      "test acc:  0.9\n",
      "test auc:  0.96\n"
     ]
    }
   ],
   "source": [
    "clf1 =CatBoostClassifier(\n",
    "                    iterations=int(params_best_acc1['iterations'])\n",
    "                    ,learning_rate=params_best_acc1['learning_rate']\n",
    "                    ,depth=int(params_best_acc1['depth'])\n",
    "                    ,l2_leaf_reg=params_best_acc1['l2_leaf_reg']\n",
    "                    ,model_size_reg=params_best_acc1['model_size_reg']\n",
    "                    ,rsm=params_best_acc1['rsm']\n",
    "                    ,feature_border_type=['Median','Uniform','UniformAndQuantiles','GreedyLogSum','MaxLogSum','MinEntropy'][int(params_best_acc1['feature_border_type'])]\n",
    "                    ,bagging_temperature=params_best_acc1['bagging_temperature']\n",
    "                    ,subsample=params_best_acc1['subsample']\n",
    "                    ,min_data_in_leaf=int(params_best_acc1['min_data_in_leaf'])\n",
    "                    ,random_seed=random_state\n",
    "                    ,verbose=False\n",
    "                    \n",
    "                    )\n",
    "clf_res(clf1,X_train_scale,y_train,X_test_scale,y_test,k,random_state)\n",
    "                    "
   ],
   "metadata": {
    "collapsed": false,
    "ExecuteTime": {
     "end_time": "2023-12-22T02:49:24.779993Z",
     "start_time": "2023-12-22T02:49:09.074932300Z"
    }
   },
   "id": "58ed586c7627863c"
  },
  {
   "cell_type": "code",
   "execution_count": 17,
   "outputs": [
    {
     "data": {
      "text/plain": "['F:/my projects/02.论文/论文四_桥本甲状腺炎/Project/Results/07.Modeling/Layer1/CAT_best_l1.dat']"
     },
     "execution_count": 17,
     "metadata": {},
     "output_type": "execute_result"
    }
   ],
   "source": [
    "joblib.dump(clf1,'F:/my projects/02.论文/论文四_桥本甲状腺炎/Project/Results/07.Modeling/Layer1/CAT_best_l1.dat')"
   ],
   "metadata": {
    "collapsed": false,
    "ExecuteTime": {
     "end_time": "2023-12-22T02:49:45.866545700Z",
     "start_time": "2023-12-22T02:49:45.861502500Z"
    }
   },
   "id": "95d86dd372b963bb"
  }
 ],
 "metadata": {
  "kernelspec": {
   "display_name": "Python 3",
   "language": "python",
   "name": "python3"
  },
  "language_info": {
   "codemirror_mode": {
    "name": "ipython",
    "version": 2
   },
   "file_extension": ".py",
   "mimetype": "text/x-python",
   "name": "python",
   "nbconvert_exporter": "python",
   "pygments_lexer": "ipython2",
   "version": "2.7.6"
  }
 },
 "nbformat": 4,
 "nbformat_minor": 5
}
